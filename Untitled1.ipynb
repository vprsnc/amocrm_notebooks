{
 "cells": [
  {
   "cell_type": "code",
   "execution_count": 1,
   "id": "89d44b1d",
   "metadata": {},
   "outputs": [],
   "source": [
    "from amocrm.v2 import Pipeline"
   ]
  },
  {
   "cell_type": "code",
   "execution_count": null,
   "id": "c414d8df",
   "metadata": {},
   "outputs": [],
   "source": [
    "tokens.default_token_manager(\n",
    "    client_id=\"d244240e-a192-48ef-a5ce-e6744b0a3b17\",\n",
    "    client_secret=\"bRLRcyWeSVJMsp6Ny8Mu8cKvkoRF80qlAUKXnP33PzaLuW0EDUzSqRgEUbZHqizX\",\n",
    "    subdomain=\"yastaff\",\n",
    "    redirect_url=\"https://yastaff.amocrm.ru/\",\n",
    "    storage=tokens.FileTokensStorage(directory_path=\"./test_dir\"),  # by default FileTokensStorage\n",
    ")"
   ]
  }
 ],
 "metadata": {
  "kernelspec": {
   "display_name": "amo",
   "language": "python",
   "name": "amo"
  },
  "language_info": {
   "codemirror_mode": {
    "name": "ipython",
    "version": 3
   },
   "file_extension": ".py",
   "mimetype": "text/x-python",
   "name": "python",
   "nbconvert_exporter": "python",
   "pygments_lexer": "ipython3",
   "version": "3.10.1"
  }
 },
 "nbformat": 4,
 "nbformat_minor": 5
}
