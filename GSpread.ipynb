{
 "cells": [
  {
   "cell_type": "markdown",
   "id": "67f07436",
   "metadata": {},
   "source": [
    "Library for authenticating in Google"
   ]
  },
  {
   "cell_type": "code",
   "execution_count": 1,
   "id": "95bef996",
   "metadata": {},
   "outputs": [
    {
     "name": "stdout",
     "output_type": "stream",
     "text": [
      "Collecting oauth2client\n",
      "  Using cached oauth2client-4.1.3-py2.py3-none-any.whl (98 kB)\n",
      "Collecting pyasn1>=0.1.7\n",
      "  Using cached pyasn1-0.4.8-py2.py3-none-any.whl (77 kB)\n",
      "Collecting httplib2>=0.9.1\n",
      "  Using cached httplib2-0.20.4-py3-none-any.whl (96 kB)\n",
      "Collecting pyasn1-modules>=0.0.5\n",
      "  Using cached pyasn1_modules-0.2.8-py2.py3-none-any.whl (155 kB)\n",
      "Requirement already satisfied: six>=1.6.1 in /nix/store/lg3gw8z7slcx3ws6z0my8ij7v83njq40-python3-3.10.4-env/lib/python3.10/site-packages (from oauth2client) (1.16.0)\n",
      "Collecting rsa>=3.1.4\n",
      "  Using cached rsa-4.9-py3-none-any.whl (34 kB)\n",
      "Requirement already satisfied: pyparsing!=3.0.0,!=3.0.1,!=3.0.2,!=3.0.3,<4,>=2.4.2 in /nix/store/lg3gw8z7slcx3ws6z0my8ij7v83njq40-python3-3.10.4-env/lib/python3.10/site-packages (from httplib2>=0.9.1->oauth2client) (3.0.9)\n",
      "Installing collected packages: pyasn1, rsa, pyasn1-modules, httplib2, oauth2client\n",
      "\u001b[31mERROR: Could not install packages due to an OSError: [Errno 30] Read-only file system: '/nix/store/lg3gw8z7slcx3ws6z0my8ij7v83njq40-python3-3.10.4-env/lib/python3.10/site-packages/pyasn1'\n",
      "\u001b[0m\u001b[31m\n",
      "\u001b[0m\n",
      "\u001b[1m[\u001b[0m\u001b[34;49mnotice\u001b[0m\u001b[1;39;49m]\u001b[0m\u001b[39;49m A new release of pip available: \u001b[0m\u001b[31;49m22.1.2\u001b[0m\u001b[39;49m -> \u001b[0m\u001b[32;49m22.2.2\u001b[0m\n",
      "\u001b[1m[\u001b[0m\u001b[34;49mnotice\u001b[0m\u001b[1;39;49m]\u001b[0m\u001b[39;49m To update, run: \u001b[0m\u001b[32;49mpython3.10 -m pip install --upgrade pip\u001b[0m\n"
     ]
    }
   ],
   "source": [
    "! pip install oauth2client"
   ]
  },
  {
   "cell_type": "markdown",
   "id": "ddd387d2",
   "metadata": {},
   "source": [
    "These a libraries to connect Pandas to Google sheet"
   ]
  },
  {
   "cell_type": "code",
   "execution_count": null,
   "id": "e4503d5a",
   "metadata": {},
   "outputs": [],
   "source": [
    "! pip install gspread\n",
    "! pip install gspread_dataframe"
   ]
  },
  {
   "cell_type": "code",
   "execution_count": 5,
   "id": "0ca63a41",
   "metadata": {},
   "outputs": [
    {
     "name": "stdout",
     "output_type": "stream",
     "text": [
      "Requirement already satisfied: oauth2client in /Library/Frameworks/Python.framework/Versions/3.10/lib/python3.10/site-packages (4.1.3)\n",
      "Requirement already satisfied: pyasn1>=0.1.7 in /Library/Frameworks/Python.framework/Versions/3.10/lib/python3.10/site-packages (from oauth2client) (0.4.7)\n",
      "Requirement already satisfied: httplib2>=0.9.1 in /Library/Frameworks/Python.framework/Versions/3.10/lib/python3.10/site-packages (from oauth2client) (0.20.4)\n",
      "Requirement already satisfied: pyasn1-modules>=0.0.5 in /Library/Frameworks/Python.framework/Versions/3.10/lib/python3.10/site-packages (from oauth2client) (0.2.8)\n",
      "Requirement already satisfied: six>=1.6.1 in /Library/Frameworks/Python.framework/Versions/3.10/lib/python3.10/site-packages (from oauth2client) (1.16.0)\n",
      "Requirement already satisfied: rsa>=3.1.4 in /Library/Frameworks/Python.framework/Versions/3.10/lib/python3.10/site-packages (from oauth2client) (4.0)\n",
      "Requirement already satisfied: pyparsing!=3.0.0,!=3.0.1,!=3.0.2,!=3.0.3,<4,>=2.4.2 in /Library/Frameworks/Python.framework/Versions/3.10/lib/python3.10/site-packages (from httplib2>=0.9.1->oauth2client) (3.0.7)\n"
     ]
    }
   ],
   "source": [
    "! pip3 install -U oauth2client"
   ]
  },
  {
   "cell_type": "code",
   "execution_count": 7,
   "id": "5cde81c2",
   "metadata": {},
   "outputs": [
    {
     "name": "stdout",
     "output_type": "stream",
     "text": [
      "Requirement already satisfied: google-auth in /Library/Frameworks/Python.framework/Versions/3.10/lib/python3.10/site-packages (2.9.1)\n",
      "Requirement already satisfied: pyasn1-modules>=0.2.1 in /Library/Frameworks/Python.framework/Versions/3.10/lib/python3.10/site-packages (from google-auth) (0.2.8)\n",
      "Requirement already satisfied: rsa<5,>=3.1.4 in /Library/Frameworks/Python.framework/Versions/3.10/lib/python3.10/site-packages (from google-auth) (4.0)\n",
      "Requirement already satisfied: cachetools<6.0,>=2.0.0 in /Library/Frameworks/Python.framework/Versions/3.10/lib/python3.10/site-packages (from google-auth) (5.2.0)\n",
      "Requirement already satisfied: six>=1.9.0 in /Library/Frameworks/Python.framework/Versions/3.10/lib/python3.10/site-packages (from google-auth) (1.16.0)\n",
      "Requirement already satisfied: pyasn1<0.5.0,>=0.4.6 in /Library/Frameworks/Python.framework/Versions/3.10/lib/python3.10/site-packages (from pyasn1-modules>=0.2.1->google-auth) (0.4.7)\n"
     ]
    }
   ],
   "source": [
    "# In case there is import error on oauth2client:\n",
    "! pip install google-auth"
   ]
  },
  {
   "cell_type": "markdown",
   "id": "ca25f322",
   "metadata": {},
   "source": [
    "# Modules "
   ]
  },
  {
   "cell_type": "code",
   "execution_count": 1,
   "id": "2aec02ea",
   "metadata": {},
   "outputs": [],
   "source": [
    "from google.oauth2 import service_account"
   ]
  },
  {
   "cell_type": "code",
   "execution_count": 2,
   "id": "cff460e4",
   "metadata": {},
   "outputs": [],
   "source": [
    "import gspread\n",
    "import pandas as pd"
   ]
  },
  {
   "cell_type": "markdown",
   "id": "c8dd5f83",
   "metadata": {},
   "source": [
    "# LogOn"
   ]
  },
  {
   "cell_type": "markdown",
   "id": "d7b7cf74",
   "metadata": {},
   "source": [
    "We need to specify to which exactly part of Google we need access to:"
   ]
  },
  {
   "cell_type": "code",
   "execution_count": 5,
   "id": "c391fca6",
   "metadata": {},
   "outputs": [],
   "source": [
    "# Old\n",
    "scopes = [\n",
    "    'https://www.googleapis.com/auth/spreadsheets',\n",
    "    'https://www.googleapis.com/auth/drive'\n",
    "]"
   ]
  },
  {
   "cell_type": "markdown",
   "id": "90b2241d",
   "metadata": {},
   "source": [
    "**IMPORTANT** This probably not needed anymore"
   ]
  },
  {
   "cell_type": "markdown",
   "id": "292d6d68",
   "metadata": {},
   "source": [
    "Now we need credentials, we can get them like in this guide: <br>\n",
    "https://mljar.com/blog/authenticate-python-google-sheets-service-account-json-credentials/\n",
    "<br><br>\n",
    "Credentials we have in the folder \"./test_folder\""
   ]
  },
  {
   "cell_type": "code",
   "execution_count": 4,
   "id": "497ad823",
   "metadata": {},
   "outputs": [],
   "source": [
    "# Old\n",
    "credentials = service_account.Credentials.from_service_account_file(\n",
    "    \"./test_dir/gspread-361816-5018170e4f0d.json\"\n",
    ")"
   ]
  },
  {
   "cell_type": "markdown",
   "id": "64aefad3",
   "metadata": {},
   "source": [
    "We can work now with pandas on the particlar sheet we need with GSpread library.\n",
    "Documentation can we found at: <br>\n",
    "https://gspread-pandas.readthedocs.io/en/latest/"
   ]
  },
  {
   "cell_type": "code",
   "execution_count": 3,
   "id": "817c8f71",
   "metadata": {},
   "outputs": [],
   "source": [
    "gc = gspread.service_account(filename=\"./test_dir/yet-another-python-c9430ad455a2.json\")"
   ]
  },
  {
   "cell_type": "markdown",
   "id": "e2e0a1b3",
   "metadata": {},
   "source": [
    "# Reading "
   ]
  },
  {
   "cell_type": "code",
   "execution_count": 4,
   "id": "0380a26c",
   "metadata": {},
   "outputs": [],
   "source": [
    "gsheet = gc.open_by_url(\n",
    "    \"https://docs.google.com/spreadsheets/d/1sv5NZ35p4p4dPJrqczZwjt-a1YvaO9D18yALfCy3fus/edit#gid=533816979\"\n",
    ")\n"
   ]
  },
  {
   "cell_type": "code",
   "execution_count": 5,
   "id": "47154761",
   "metadata": {},
   "outputs": [],
   "source": [
    "events_raw = gsheet.worksheet(\"events\").get_all_records()"
   ]
  },
  {
   "cell_type": "code",
   "execution_count": 6,
   "id": "94d859c9",
   "metadata": {},
   "outputs": [],
   "source": [
    "events_df = pd.DataFrame(events_raw)\n",
    "events_df.rename(\n",
    "    {\n",
    "        \"ID сущности\": \"lead_id\",\n",
    "        \"Имя сущности\": \"event_type\",\n",
    "        \"Имя предедущей воронки\": \"funnel_name_prev\",\n",
    "        \"Имя предедущего статуса\": \"status_name_prev\",\n",
    "        \"Имя новой воронки\": \"funnel_name\",\n",
    "        \"Имя нового статуса\": \"status_name\",\n",
    "        \"Имя обновителя\": \"modified_by\",\n",
    "        \"Дата создания\": \"date_created\"\n",
    "    }, axis=1, inplace=True\n",
    ")"
   ]
  },
  {
   "cell_type": "code",
   "execution_count": 7,
   "id": "9c82ecbd",
   "metadata": {},
   "outputs": [
    {
     "data": {
      "text/html": [
       "<div>\n",
       "<style scoped>\n",
       "    .dataframe tbody tr th:only-of-type {\n",
       "        vertical-align: middle;\n",
       "    }\n",
       "\n",
       "    .dataframe tbody tr th {\n",
       "        vertical-align: top;\n",
       "    }\n",
       "\n",
       "    .dataframe thead th {\n",
       "        text-align: right;\n",
       "    }\n",
       "</style>\n",
       "<table border=\"1\" class=\"dataframe\">\n",
       "  <thead>\n",
       "    <tr style=\"text-align: right;\">\n",
       "      <th></th>\n",
       "      <th>UUID</th>\n",
       "      <th>lead_id</th>\n",
       "      <th>event_type</th>\n",
       "      <th>funnel_name_prev</th>\n",
       "      <th>status_name_prev</th>\n",
       "      <th>funnel_name</th>\n",
       "      <th>status_name</th>\n",
       "      <th>modified_by</th>\n",
       "      <th>date_created</th>\n",
       "    </tr>\n",
       "  </thead>\n",
       "  <tbody>\n",
       "    <tr>\n",
       "      <th>0</th>\n",
       "      <td>903907c168e81040b2994cdb13c8d268$2</td>\n",
       "      <td>45817110</td>\n",
       "      <td>Сделка</td>\n",
       "      <td>Продажи ФР</td>\n",
       "      <td>Первичный контакт</td>\n",
       "      <td>Продажи ФР</td>\n",
       "      <td>Состоялся контакт/перезвон</td>\n",
       "      <td>Персональное решение</td>\n",
       "      <td>13.09.2022 19:45:56</td>\n",
       "    </tr>\n",
       "    <tr>\n",
       "      <th>1</th>\n",
       "      <td>048a4acb001251aa8c4bd97decc05df7$3</td>\n",
       "      <td>44963134</td>\n",
       "      <td>Сделка</td>\n",
       "      <td>Продажи ФР</td>\n",
       "      <td>Состоялся контакт/перезвон</td>\n",
       "      <td>Продажи ФР</td>\n",
       "      <td>Закрыто и не реализовано</td>\n",
       "      <td>Ярослав Левкин</td>\n",
       "      <td>13.09.2022 19:45:37</td>\n",
       "    </tr>\n",
       "    <tr>\n",
       "      <th>2</th>\n",
       "      <td>c65a14e034909e30796d4f83be8fa362$4</td>\n",
       "      <td>45798780</td>\n",
       "      <td>Сделка</td>\n",
       "      <td>Продажи ФР</td>\n",
       "      <td>Состоялся контакт/перезвон</td>\n",
       "      <td>Продажи ФР</td>\n",
       "      <td>Закрыто и не реализовано</td>\n",
       "      <td>Ярослав Левкин</td>\n",
       "      <td>13.09.2022 19:39:57</td>\n",
       "    </tr>\n",
       "    <tr>\n",
       "      <th>3</th>\n",
       "      <td>1ff60d6a2448022c2fefd564c8e2bb81$5</td>\n",
       "      <td>45798780</td>\n",
       "      <td>Сделка</td>\n",
       "      <td>Продажи ФР</td>\n",
       "      <td>Закрыто и не реализовано</td>\n",
       "      <td>Продажи ФР</td>\n",
       "      <td>Состоялся контакт/перезвон</td>\n",
       "      <td>Ярослав Левкин</td>\n",
       "      <td>13.09.2022 19:39:49</td>\n",
       "    </tr>\n",
       "    <tr>\n",
       "      <th>4</th>\n",
       "      <td>3a0616b92b5c76c7ec526ebe6d9e27f3$6</td>\n",
       "      <td>45798780</td>\n",
       "      <td>Сделка</td>\n",
       "      <td>Продажи ФР</td>\n",
       "      <td>Состоялся контакт/перезвон</td>\n",
       "      <td>Продажи ФР</td>\n",
       "      <td>Закрыто и не реализовано</td>\n",
       "      <td>Ярослав Левкин</td>\n",
       "      <td>13.09.2022 19:38:21</td>\n",
       "    </tr>\n",
       "    <tr>\n",
       "      <th>...</th>\n",
       "      <td>...</td>\n",
       "      <td>...</td>\n",
       "      <td>...</td>\n",
       "      <td>...</td>\n",
       "      <td>...</td>\n",
       "      <td>...</td>\n",
       "      <td>...</td>\n",
       "      <td>...</td>\n",
       "      <td>...</td>\n",
       "    </tr>\n",
       "    <tr>\n",
       "      <th>23127</th>\n",
       "      <td>97629e989d8af9684d6b9eed10166e46$23129</td>\n",
       "      <td>33313082</td>\n",
       "      <td>Сделка</td>\n",
       "      <td>Продажи (old)</td>\n",
       "      <td>Закрыто и не реализовано</td>\n",
       "      <td>Продажи ФР</td>\n",
       "      <td>Состоялся контакт/перезвон</td>\n",
       "      <td>Персональное решение</td>\n",
       "      <td>01.06.2022 10:01:24</td>\n",
       "    </tr>\n",
       "    <tr>\n",
       "      <th>23128</th>\n",
       "      <td>434912901aa0be516dfc472479bef896$23130</td>\n",
       "      <td>45547338</td>\n",
       "      <td>Сделка</td>\n",
       "      <td>Head Hunter</td>\n",
       "      <td>Первичный контакт</td>\n",
       "      <td>Head Hunter</td>\n",
       "      <td>ЛИД НЕ КВАЛИФИЦИРОВАН</td>\n",
       "      <td></td>\n",
       "      <td>01.06.2022 10:00:50</td>\n",
       "    </tr>\n",
       "    <tr>\n",
       "      <th>23129</th>\n",
       "      <td>39107e0e1b013446cf62a0b4daea3ed3$23131</td>\n",
       "      <td>45450474</td>\n",
       "      <td>Сделка</td>\n",
       "      <td>Продажи ФР</td>\n",
       "      <td>Состоялся контакт/перезвон</td>\n",
       "      <td>Продажи ФР</td>\n",
       "      <td>Закрыто и не реализовано</td>\n",
       "      <td></td>\n",
       "      <td>01.06.2022 09:57:31</td>\n",
       "    </tr>\n",
       "    <tr>\n",
       "      <th>23130</th>\n",
       "      <td>042c67b9d9cb4451d3fea23d9ea53ed9$23132</td>\n",
       "      <td>45547344</td>\n",
       "      <td>Сделка</td>\n",
       "      <td>Head Hunter</td>\n",
       "      <td>Первичный контакт</td>\n",
       "      <td>Head Hunter</td>\n",
       "      <td>ЛИД НЕ КВАЛИФИЦИРОВАН</td>\n",
       "      <td></td>\n",
       "      <td>01.06.2022 09:54:47</td>\n",
       "    </tr>\n",
       "    <tr>\n",
       "      <th>23131</th>\n",
       "      <td>b31b724929f8ed147fd3220183dd8c2b$23133</td>\n",
       "      <td>44509592</td>\n",
       "      <td>Сделка</td>\n",
       "      <td>Продажи ФР</td>\n",
       "      <td>Взято обязательство по анкете</td>\n",
       "      <td>Продажи ФР</td>\n",
       "      <td>Анкета пришла</td>\n",
       "      <td></td>\n",
       "      <td>01.06.2022 09:39:50</td>\n",
       "    </tr>\n",
       "  </tbody>\n",
       "</table>\n",
       "<p>23132 rows × 9 columns</p>\n",
       "</div>"
      ],
      "text/plain": [
       "                                         UUID   lead_id event_type  \\\n",
       "0          903907c168e81040b2994cdb13c8d268$2  45817110     Сделка   \n",
       "1          048a4acb001251aa8c4bd97decc05df7$3  44963134     Сделка   \n",
       "2          c65a14e034909e30796d4f83be8fa362$4  45798780     Сделка   \n",
       "3          1ff60d6a2448022c2fefd564c8e2bb81$5  45798780     Сделка   \n",
       "4          3a0616b92b5c76c7ec526ebe6d9e27f3$6  45798780     Сделка   \n",
       "...                                       ...       ...        ...   \n",
       "23127  97629e989d8af9684d6b9eed10166e46$23129  33313082     Сделка   \n",
       "23128  434912901aa0be516dfc472479bef896$23130  45547338     Сделка   \n",
       "23129  39107e0e1b013446cf62a0b4daea3ed3$23131  45450474     Сделка   \n",
       "23130  042c67b9d9cb4451d3fea23d9ea53ed9$23132  45547344     Сделка   \n",
       "23131  b31b724929f8ed147fd3220183dd8c2b$23133  44509592     Сделка   \n",
       "\n",
       "      funnel_name_prev               status_name_prev  funnel_name  \\\n",
       "0           Продажи ФР              Первичный контакт   Продажи ФР   \n",
       "1           Продажи ФР     Состоялся контакт/перезвон   Продажи ФР   \n",
       "2           Продажи ФР     Состоялся контакт/перезвон   Продажи ФР   \n",
       "3           Продажи ФР       Закрыто и не реализовано   Продажи ФР   \n",
       "4           Продажи ФР     Состоялся контакт/перезвон   Продажи ФР   \n",
       "...                ...                            ...          ...   \n",
       "23127    Продажи (old)       Закрыто и не реализовано   Продажи ФР   \n",
       "23128      Head Hunter              Первичный контакт  Head Hunter   \n",
       "23129       Продажи ФР     Состоялся контакт/перезвон   Продажи ФР   \n",
       "23130      Head Hunter              Первичный контакт  Head Hunter   \n",
       "23131       Продажи ФР  Взято обязательство по анкете   Продажи ФР   \n",
       "\n",
       "                      status_name           modified_by         date_created  \n",
       "0      Состоялся контакт/перезвон  Персональное решение  13.09.2022 19:45:56  \n",
       "1        Закрыто и не реализовано        Ярослав Левкин  13.09.2022 19:45:37  \n",
       "2        Закрыто и не реализовано        Ярослав Левкин  13.09.2022 19:39:57  \n",
       "3      Состоялся контакт/перезвон        Ярослав Левкин  13.09.2022 19:39:49  \n",
       "4        Закрыто и не реализовано        Ярослав Левкин  13.09.2022 19:38:21  \n",
       "...                           ...                   ...                  ...  \n",
       "23127  Состоялся контакт/перезвон  Персональное решение  01.06.2022 10:01:24  \n",
       "23128       ЛИД НЕ КВАЛИФИЦИРОВАН                        01.06.2022 10:00:50  \n",
       "23129    Закрыто и не реализовано                        01.06.2022 09:57:31  \n",
       "23130       ЛИД НЕ КВАЛИФИЦИРОВАН                        01.06.2022 09:54:47  \n",
       "23131               Анкета пришла                        01.06.2022 09:39:50  \n",
       "\n",
       "[23132 rows x 9 columns]"
      ]
     },
     "execution_count": 7,
     "metadata": {},
     "output_type": "execute_result"
    }
   ],
   "source": [
    "events_df"
   ]
  },
  {
   "cell_type": "code",
   "execution_count": 8,
   "id": "e6571411",
   "metadata": {},
   "outputs": [],
   "source": [
    "events_df.to_csv(\"statuses_changes.csv\", index=False)"
   ]
  }
 ],
 "metadata": {
  "kernelspec": {
   "display_name": "Python 3 (ipykernel)",
   "language": "python",
   "name": "python3"
  },
  "language_info": {
   "codemirror_mode": {
    "name": "ipython",
    "version": 3
   },
   "file_extension": ".py",
   "mimetype": "text/x-python",
   "name": "python",
   "nbconvert_exporter": "python",
   "pygments_lexer": "ipython3",
   "version": "3.10.1"
  },
  "toc": {
   "base_numbering": 1,
   "nav_menu": {},
   "number_sections": false,
   "sideBar": true,
   "skip_h1_title": false,
   "title_cell": "Table of Contents",
   "title_sidebar": "Contents",
   "toc_cell": false,
   "toc_position": {},
   "toc_section_display": true,
   "toc_window_display": false
  }
 },
 "nbformat": 4,
 "nbformat_minor": 5
}
