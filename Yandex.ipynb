{
 "cells": [
  {
   "cell_type": "markdown",
   "id": "e5286dde",
   "metadata": {
    "toc": true
   },
   "source": [
    "<h1>Table of Contents<span class=\"tocSkip\"></span></h1>\n",
    "<div class=\"toc\"><ul class=\"toc-item\"><li><span><a href=\"#Logon\" data-toc-modified-id=\"Logon-1\"><span class=\"toc-item-num\">1&nbsp;&nbsp;</span>Logon</a></span><ul class=\"toc-item\"><li><span><a href=\"#Getting-token\" data-toc-modified-id=\"Getting-token-1.1\"><span class=\"toc-item-num\">1.1&nbsp;&nbsp;</span>Getting token</a></span><ul class=\"toc-item\"><li><span><a href=\"#e-17126359\" data-toc-modified-id=\"e-17126359-1.1.1\"><span class=\"toc-item-num\">1.1.1&nbsp;&nbsp;</span>e-17126359</a></span></li></ul></li></ul></li><li><span><a href=\"#Campaigns\" data-toc-modified-id=\"Campaigns-2\"><span class=\"toc-item-num\">2&nbsp;&nbsp;</span>Campaigns</a></span></li></ul></div>"
   ]
  },
  {
   "cell_type": "markdown",
   "id": "ef3446b0",
   "metadata": {},
   "source": [
    "# Logon"
   ]
  },
  {
   "cell_type": "markdown",
   "id": "26603733",
   "metadata": {},
   "source": [
    "This is the library I have found in the article:<br>\n",
    "https://habr.com/ru/post/512902/<br>\n",
    "I tried to search for its Github for smth on the internet, but with no success. <br>\n",
    "It also lacks documentation on the PyPi."
   ]
  },
  {
   "cell_type": "code",
   "execution_count": 2,
   "id": "d04544a1",
   "metadata": {},
   "outputs": [
    {
     "name": "stdout",
     "output_type": "stream",
     "text": [
      "jsonschema @ file:///build/jsonschema-4.5.1/dist/jsonschema-4.5.1-py3-none-any.whl\r\n"
     ]
    }
   ],
   "source": [
    "! pip freeze | grep json"
   ]
  },
  {
   "cell_type": "code",
   "execution_count": 4,
   "id": "987393d6",
   "metadata": {},
   "outputs": [
    {
     "name": "stdout",
     "output_type": "stream",
     "text": [
      "Found existing installation: yadirstat 1.0.8\n",
      "Uninstalling yadirstat-1.0.8:\n",
      "  Successfully uninstalled yadirstat-1.0.8\n"
     ]
    }
   ],
   "source": [
    "! pip uninstall -y yadirstat"
   ]
  },
  {
   "cell_type": "markdown",
   "id": "e740d338",
   "metadata": {},
   "source": [
    "Afterall, I decided not to go with that library beacuse of it poor documentation,\n",
    "and use just requests."
   ]
  },
  {
   "cell_type": "markdown",
   "id": "4c244092",
   "metadata": {},
   "source": [
    "client_id: 1f1d194a4eee4abe9a1a0cdbd3939ead <br>\n",
    "redirect_url: https://oauth.yandex.ru/verification_code <br>\n",
    "client_secret: 61f24d2cd61b4d97ae2dd0a68b6e050e"
   ]
  },
  {
   "cell_type": "code",
   "execution_count": 3,
   "id": "f8454570",
   "metadata": {},
   "outputs": [],
   "source": [
    "import requests, json\n",
    "from requests.exceptions import ConnectionError\n",
    "from time import sleep\n",
    "import json"
   ]
  },
  {
   "cell_type": "markdown",
   "id": "ef76831f",
   "metadata": {},
   "source": [
    "Data for loggng:"
   ]
  },
  {
   "cell_type": "code",
   "execution_count": 4,
   "id": "8e1b1d8a",
   "metadata": {},
   "outputs": [],
   "source": [
    "url = 'https://api.direct.yandex.ru/v/json/'\n",
    "token = '6870395'\n",
    "login = 'e-17067601@yandex.ru'"
   ]
  },
  {
   "cell_type": "code",
   "execution_count": 5,
   "id": "f8811ca2",
   "metadata": {},
   "outputs": [],
   "source": [
    "body = {\"method\": \"get\", # Method to use.\n",
    "        \"params\": {\"SelectionCriteria\": {}, # Criteria for filtering campaigns. To get all campaigns, leave it emtpy\n",
    "        \"FieldNames\": [\"Id\", \"Name\"]  # Names of parameters to get.\n",
    "                   }}\n"
   ]
  },
  {
   "cell_type": "markdown",
   "id": "0051b5e6",
   "metadata": {},
   "source": [
    "Encoding the request message body as JSON:"
   ]
  },
  {
   "cell_type": "code",
   "execution_count": 6,
   "id": "9bd98a95",
   "metadata": {},
   "outputs": [],
   "source": [
    "jsonBody = json.dumps(body, ensure_ascii=False).encode('utf8')"
   ]
  },
  {
   "cell_type": "markdown",
   "id": "2022a596",
   "metadata": {},
   "source": [
    "## Getting token\n",
    "According the guide:<br>\n",
    "https://akulshin.ru/poluchaem-api-token-yandeks-direkt/\n",
    "1. goto: <br>\n",
    "https://oauth.yandex.ru/authorize?response_type=code&client_id=1f1d194a4eee4abe9a1a0cdbd3939ead<APPCIATION_ID>\n",
    "2. Code at the end of url:\n",
    "9654271\n"
   ]
  },
  {
   "cell_type": "markdown",
   "id": "31d9876c",
   "metadata": {},
   "source": [
    "### e-17126359\n",
    "App id: 1f1d194a4eee4abe9a1a0cdbd3939ead"
   ]
  },
  {
   "cell_type": "code",
   "execution_count": 7,
   "id": "ba8f5721",
   "metadata": {},
   "outputs": [],
   "source": [
    "token = '5741613'"
   ]
  },
  {
   "cell_type": "code",
   "execution_count": 8,
   "id": "d042e4fd",
   "metadata": {},
   "outputs": [],
   "source": [
    "headers = {\n",
    "    'Authorization': 'Bearer' + token,\n",
    "    'Client-Login': login,\n",
    "    'Accept-Language': 'ru'\n",
    "}"
   ]
  },
  {
   "cell_type": "markdown",
   "id": "60a994d3",
   "metadata": {},
   "source": [
    "# Campaigns"
   ]
  },
  {
   "cell_type": "code",
   "execution_count": 9,
   "id": "4664e63b",
   "metadata": {},
   "outputs": [],
   "source": [
    "url_campagins = 'https://api.direct.yandex.com/json/v5/campaigns'"
   ]
  },
  {
   "cell_type": "code",
   "execution_count": 10,
   "id": "ac798f49",
   "metadata": {},
   "outputs": [],
   "source": [
    "result = requests.post(url_campagins, jsonBody, headers=headers)"
   ]
  },
  {
   "cell_type": "code",
   "execution_count": 11,
   "id": "3e0b1da6",
   "metadata": {},
   "outputs": [
    {
     "data": {
      "text/plain": [
       "'{\"error\":{\"error_detail\":\"OAuth-токен не указан\",\"error_string\":\"Некорректный запрос\",\"request_id\":\"3016462854786901078\",\"error_code\":8000}}'"
      ]
     },
     "execution_count": 11,
     "metadata": {},
     "output_type": "execute_result"
    }
   ],
   "source": [
    "result.text"
   ]
  },
  {
   "cell_type": "code",
   "execution_count": 27,
   "id": "36d233e3",
   "metadata": {},
   "outputs": [
    {
     "data": {
      "text/plain": [
       "'Bearer6870395'"
      ]
     },
     "execution_count": 27,
     "metadata": {},
     "output_type": "execute_result"
    }
   ],
   "source": [
    "headers['Authorization']"
   ]
  },
  {
   "cell_type": "code",
   "execution_count": null,
   "id": "de39eec9",
   "metadata": {},
   "outputs": [],
   "source": []
  }
 ],
 "metadata": {
  "kernelspec": {
   "display_name": "amo",
   "language": "python",
   "name": "amo"
  },
  "language_info": {
   "codemirror_mode": {
    "name": "ipython",
    "version": 3
   },
   "file_extension": ".py",
   "mimetype": "text/x-python",
   "name": "python",
   "nbconvert_exporter": "python",
   "pygments_lexer": "ipython3",
   "version": "3.10.1"
  },
  "toc": {
   "base_numbering": 1,
   "nav_menu": {},
   "number_sections": true,
   "sideBar": true,
   "skip_h1_title": false,
   "title_cell": "Table of Contents",
   "title_sidebar": "Contents",
   "toc_cell": true,
   "toc_position": {},
   "toc_section_display": true,
   "toc_window_display": false
  }
 },
 "nbformat": 4,
 "nbformat_minor": 5
}
