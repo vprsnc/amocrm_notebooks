{
 "cells": [
  {
   "cell_type": "markdown",
   "id": "1e4534b2",
   "metadata": {},
   "source": [
    "amocrm api was of version 2.4.1 when statuses download was not working"
   ]
  },
  {
   "cell_type": "code",
   "execution_count": 1,
   "id": "c0823ab3",
   "metadata": {},
   "outputs": [
    {
     "name": "stdout",
     "output_type": "stream",
     "text": [
      "\u001b[01;31m\u001b[Kamo\u001b[m\u001b[Kcrm-api==2.5.0\r\n",
      "\u001b[01;31m\u001b[Kamo\u001b[m\u001b[Kcrm-api-wrapper==0.0.16\r\n"
     ]
    }
   ],
   "source": [
    "! pip freeze | grep amo"
   ]
  },
  {
   "cell_type": "code",
   "execution_count": 1,
   "id": "128efcda",
   "metadata": {},
   "outputs": [
    {
     "name": "stdout",
     "output_type": "stream",
     "text": [
      "Requirement already satisfied: amocrm_api in /Library/Frameworks/Python.framework/Versions/3.10/lib/python3.10/site-packages (2.4.1)\n",
      "Collecting amocrm_api\n",
      "  Using cached amocrm_api-2.5.0-py3-none-any.whl (32 kB)\n",
      "Requirement already satisfied: pyjwt in /Library/Frameworks/Python.framework/Versions/3.10/lib/python3.10/site-packages (from amocrm_api) (2.4.0)\n",
      "Requirement already satisfied: requests in /Library/Frameworks/Python.framework/Versions/3.10/lib/python3.10/site-packages (from amocrm_api) (2.27.1)\n",
      "Requirement already satisfied: charset-normalizer~=2.0.0 in /Library/Frameworks/Python.framework/Versions/3.10/lib/python3.10/site-packages (from requests->amocrm_api) (2.0.12)\n",
      "Requirement already satisfied: idna<4,>=2.5 in /Library/Frameworks/Python.framework/Versions/3.10/lib/python3.10/site-packages (from requests->amocrm_api) (3.3)\n",
      "Requirement already satisfied: urllib3<1.27,>=1.21.1 in /Library/Frameworks/Python.framework/Versions/3.10/lib/python3.10/site-packages (from requests->amocrm_api) (1.26.9)\n",
      "Requirement already satisfied: certifi>=2017.4.17 in /Library/Frameworks/Python.framework/Versions/3.10/lib/python3.10/site-packages (from requests->amocrm_api) (2021.10.8)\n",
      "Installing collected packages: amocrm_api\n",
      "  Attempting uninstall: amocrm_api\n",
      "    Found existing installation: amocrm-api 2.4.1\n",
      "    Uninstalling amocrm-api-2.4.1:\n",
      "      Successfully uninstalled amocrm-api-2.4.1\n",
      "Successfully installed amocrm_api-2.5.0\n"
     ]
    }
   ],
   "source": [
    "! pip install -U amocrm_api"
   ]
  },
  {
   "cell_type": "markdown",
   "id": "e3b99339",
   "metadata": {},
   "source": [
    "# LOGON"
   ]
  },
  {
   "cell_type": "code",
   "execution_count": 1,
   "id": "a461b729",
   "metadata": {
    "ExecuteTime": {
     "end_time": "2022-08-13T17:00:19.560175Z",
     "start_time": "2022-08-13T17:00:19.487674Z"
    }
   },
   "outputs": [],
   "source": [
    "from amocrm.v2 import tokens\n",
    "from amocrm.v2.exceptions import UnAuthorizedException, AmoApiException"
   ]
  },
  {
   "cell_type": "code",
   "execution_count": 2,
   "id": "9f278cd6",
   "metadata": {},
   "outputs": [
    {
     "data": {
      "text/plain": [
       "['d244240e-a192-48ef-a5ce-e6744b0a3b17',\n",
       " 'bRLRcyWeSVJMsp6Ny8Mu8cKvkoRF80qlAUKXnP33PzaLuW0EDUzSqRgEUbZHqizX',\n",
       " 'yastaff',\n",
       " 'https://yastaff.amocrm.ru/']"
      ]
     },
     "execution_count": 2,
     "metadata": {},
     "output_type": "execute_result"
    }
   ],
   "source": [
    "from franchize_config import keys\n",
    "keys"
   ]
  },
  {
   "cell_type": "code",
   "execution_count": 3,
   "id": "fe5ab761",
   "metadata": {
    "ExecuteTime": {
     "end_time": "2022-08-13T17:00:20.573482Z",
     "start_time": "2022-08-13T17:00:20.570478Z"
    }
   },
   "outputs": [],
   "source": [
    "from franchize_config import keys\n",
    "tokens.default_token_manager(\n",
    "    *keys,\n",
    "    storage=tokens.FileTokensStorage(directory_path=\"./test_dir/franchize\"),  # by default FileTokensStorage\n",
    ")"
   ]
  },
  {
   "cell_type": "markdown",
   "id": "633d8f23",
   "metadata": {},
   "source": [
    "Don't touch it, until you need to initialize new keys generation"
   ]
  },
  {
   "cell_type": "code",
   "execution_count": 5,
   "id": "56101f20",
   "metadata": {},
   "outputs": [],
   "source": [
    "tokens.default_token_manager.init(\n",
    "    code='',\n",
    "    skip_error=False\n",
    ")"
   ]
  },
  {
   "cell_type": "markdown",
   "id": "284478c2",
   "metadata": {},
   "source": [
    "# Customs fields"
   ]
  },
  {
   "cell_type": "markdown",
   "id": "d8b4f06d",
   "metadata": {},
   "source": [
    "ok, custom fields are working perfectly fine!§"
   ]
  },
  {
   "cell_type": "code",
   "execution_count": 4,
   "id": "e822da45",
   "metadata": {
    "ExecuteTime": {
     "end_time": "2022-08-13T17:03:11.514130Z",
     "start_time": "2022-08-13T17:03:11.507174Z"
    }
   },
   "outputs": [],
   "source": [
    "from amocrm.v2 import filters\n",
    "from models import Lead, Company, Contact\n",
    "import time, datetime"
   ]
  },
  {
   "cell_type": "code",
   "execution_count": 5,
   "id": "d85380a9",
   "metadata": {},
   "outputs": [],
   "source": [
    "lead = Lead.objects.get(object_id=\"44711174\")\n"
   ]
  },
  {
   "cell_type": "code",
   "execution_count": 6,
   "id": "742eba4b",
   "metadata": {},
   "outputs": [
    {
     "data": {
      "text/plain": [
       "'+7 (913) 892-52-63'"
      ]
     },
     "execution_count": 6,
     "metadata": {},
     "output_type": "execute_result"
    }
   ],
   "source": [
    "lead.tip_traffika.__dict__[\"value\"]\n",
    "lead.telefon"
   ]
  },
  {
   "cell_type": "code",
   "execution_count": 5,
   "id": "4086a02b",
   "metadata": {
    "ExecuteTime": {
     "end_time": "2022-08-13T17:03:15.671137Z",
     "start_time": "2022-08-13T17:03:15.668392Z"
    }
   },
   "outputs": [],
   "source": [
    "from requests.adapters import HTTPAdapter\n",
    "from amocrm.v2.interaction import _session\n",
    "_session.mount(\"https://\", HTTPAdapter(max_retries=5))"
   ]
  },
  {
   "cell_type": "markdown",
   "id": "ed78443b",
   "metadata": {},
   "source": [
    "Мы тут в дефолтную сессию requests которая используется для запросов стандартными механизмами requests добавляем ретраи."
   ]
  },
  {
   "cell_type": "code",
   "execution_count": 6,
   "id": "9471e081",
   "metadata": {
    "ExecuteTime": {
     "end_time": "2022-08-13T17:15:38.810948Z",
     "start_time": "2022-08-13T17:03:17.394489Z"
    }
   },
   "outputs": [],
   "source": [
    "leads = list(Lead.objects.all())"
   ]
  },
  {
   "cell_type": "code",
   "execution_count": 7,
   "id": "4395b1d5",
   "metadata": {},
   "outputs": [
    {
     "data": {
      "text/plain": [
       "144531"
      ]
     },
     "execution_count": 7,
     "metadata": {},
     "output_type": "execute_result"
    }
   ],
   "source": [
    "len(leads)"
   ]
  },
  {
   "cell_type": "code",
   "execution_count": null,
   "id": "17f5ef5b",
   "metadata": {},
   "outputs": [],
   "source": []
  },
  {
   "cell_type": "markdown",
   "id": "1c353e2c",
   "metadata": {},
   "source": [
    "Connection sometimes gets aborted, let's see about all leads, but for daily load we need to work on some exceptions;)"
   ]
  },
  {
   "cell_type": "markdown",
   "id": "7d2ab1b4",
   "metadata": {},
   "source": [
    "# Parsing leads"
   ]
  },
  {
   "cell_type": "code",
   "execution_count": 8,
   "id": "d45c5ce6",
   "metadata": {
    "ExecuteTime": {
     "end_time": "2022-08-13T17:16:51.355985Z",
     "start_time": "2022-08-13T17:16:50.839459Z"
    }
   },
   "outputs": [],
   "source": [
    "import pandas as pd"
   ]
  },
  {
   "cell_type": "code",
   "execution_count": 43,
   "id": "52c5fe30",
   "metadata": {},
   "outputs": [],
   "source": [
    "lead.rassrochka.__di"
   ]
  },
  {
   "cell_type": "code",
   "execution_count": 9,
   "id": "96860934",
   "metadata": {},
   "outputs": [
    {
     "ename": "NameError",
     "evalue": "name 'lead' is not defined",
     "output_type": "error",
     "traceback": [
      "\u001b[0;31m---------------------------------------------------------------------------\u001b[0m",
      "\u001b[0;31mNameError\u001b[0m                                 Traceback (most recent call last)",
      "Input \u001b[0;32mIn [9]\u001b[0m, in \u001b[0;36m<cell line: 1>\u001b[0;34m()\u001b[0m\n\u001b[0;32m----> 1\u001b[0m tags_list \u001b[38;5;241m=\u001b[39m \u001b[43mlead\u001b[49m\u001b[38;5;241m.\u001b[39mtags\u001b[38;5;241m.\u001b[39m\u001b[38;5;18m__dict__\u001b[39m[\u001b[38;5;124m\"\u001b[39m\u001b[38;5;124m_tags\u001b[39m\u001b[38;5;124m\"\u001b[39m]\n\u001b[1;32m      2\u001b[0m tag_str \u001b[38;5;241m=\u001b[39m \u001b[38;5;124m\"\u001b[39m\u001b[38;5;124m\"\u001b[39m\n\u001b[1;32m      3\u001b[0m \u001b[38;5;28;01mfor\u001b[39;00m tag \u001b[38;5;129;01min\u001b[39;00m tags_list:\n",
      "\u001b[0;31mNameError\u001b[0m: name 'lead' is not defined"
     ]
    }
   ],
   "source": [
    "tags_list = lead.tags.__dict__[\"_tags\"]\n",
    "tag_str = \"\"\n",
    "for tag in tags_list:\n",
    "    if tag_str != \"\":\n",
    "        tag_str += f', {tag[\"name\"]}'\n",
    "    else:\n",
    "        tag_str += tag[\"name\"]"
   ]
  },
  {
   "cell_type": "code",
   "execution_count": 35,
   "id": "9da9581c",
   "metadata": {},
   "outputs": [
    {
     "data": {
      "text/plain": [
       "'Лид целевой, Закрыт на блок бабло, Получил звонок от бота, ЛР ЛЧ'"
      ]
     },
     "execution_count": 35,
     "metadata": {},
     "output_type": "execute_result"
    }
   ],
   "source": [
    "tag_str"
   ]
  },
  {
   "cell_type": "code",
   "execution_count": 10,
   "id": "614fd7ca",
   "metadata": {
    "ExecuteTime": {
     "end_time": "2022-08-13T17:18:51.221977Z",
     "start_time": "2022-08-13T17:18:49.528548Z"
    }
   },
   "outputs": [],
   "source": [
    "leads_dicts = []\n",
    "counter = 0\n",
    "for lead in leads:\n",
    "    leads_dicts.append(lead.__dict__['_data'])\n",
    "    try:\n",
    "        leads_dicts[counter][\"traffic_type\"] = lead.tip_traffika.__dict__[\"value\"]\n",
    "    except AttributeError:\n",
    "        leads_dicts[counter][\"traffic_type\"] = \"\"\n",
    "    leads_dicts[counter][\"city\"] = lead.gorod\n",
    "    try:\n",
    "        leads_dicts[counter][\"resource\"] = lead.resurs.__dict__[\"value\"]\n",
    "    except AttributeError:\n",
    "        leads_dicts[counter][\"resource\"] = \"\"\n",
    "    try:\n",
    "        leads_dicts[counter][\"loss_reason\"] = lead.prichina_otkola.__dict__[\"value\"]\n",
    "    except AttributeError:\n",
    "        leads_dicts[counter][\"loss_reason\"] = \"\"\n",
    "    try:\n",
    "        leads_dicts[counter][\"package\"] = lead.paket.__dict__[\"value\"]\n",
    "    except AttributeError:\n",
    "        leads_dicts[counter][\"package\"] = \"\"\n",
    "    try:\n",
    "        leads_dicts[counter][\"gender\"] = lead.pol.__dict__[\"value\"]\n",
    "    except AttributeError:\n",
    "        leads_dicts[counter][\"gender\"] = \"\"\n",
    "    try:\n",
    "        leads_dicts[counter][\"kev_ot\"] = lead.kev_ot\n",
    "    except AttributeError:\n",
    "        leads_dicts[counter][\"kev_ot\"] = \"\"\n",
    "    try:\n",
    "        leads_dicts[counter][\"type\"] = lead.type.__dict__[\"value\"]\n",
    "    except AttributeError:\n",
    "        leads_dicts[counter][\"type\"] = \"\"\n",
    "    try:\n",
    "        leads_dicts[counter][\"agreement_no\"] = lead.nomer_dogovora\n",
    "    except AttributeError:\n",
    "        leads_dicts[counter][\"agreement_no\"] = \"\"\n",
    "    try:\n",
    "        leads_dicts[counter][\"installment_plan\"] = lead.rassrochka.__dict__[\"value\"]\n",
    "    except AttributeError:\n",
    "        leads_dicts[counter][\"installment_plan\"] = \"\"\n",
    "    try:\n",
    "        leads_dicts[counter][\"presale\"] = str(lead.presale)\n",
    "    except AttributeError:\n",
    "        leads_dicts[counter][\"isntallment_plan\"] = \"\"\n",
    "    tags_list = lead.tags.__dict__[\"_tags\"]\n",
    "    tag_str = \"\"\n",
    "    for tag in tags_list:\n",
    "        if tag_str != \"\":\n",
    "            tag_str += f', {tag[\"name\"]}'\n",
    "        else:\n",
    "            tag_str += tag[\"name\"]\n",
    "    leads_dicts[counter][\"tags\"] = tag_str\n",
    "    counter += 1"
   ]
  },
  {
   "cell_type": "code",
   "execution_count": 17,
   "id": "a4d2f560",
   "metadata": {},
   "outputs": [
    {
     "data": {
      "text/plain": [
       "{'id': 32945010,\n",
       " 'name': 'Максим Москва',\n",
       " 'price': 299000,\n",
       " 'responsible_user_id': 828267,\n",
       " 'group_id': 132579,\n",
       " 'status_id': 142,\n",
       " 'pipeline_id': 15219,\n",
       " 'loss_reason_id': None,\n",
       " 'created_by': 326314,\n",
       " 'updated_by': 363811,\n",
       " 'created_at': 1458636317,\n",
       " 'updated_at': 1507122056,\n",
       " 'closed_at': 1461319317,\n",
       " 'closest_task_at': None,\n",
       " 'is_deleted': False,\n",
       " 'custom_fields_values': [{'field_id': 1279825,\n",
       "   'field_name': 'Ресурс',\n",
       "   'field_code': None,\n",
       "   'field_type': 'select',\n",
       "   'values': [{'value': 'fr.yastaff', 'enum_id': 2943049, 'enum_code': None}]},\n",
       "  {'field_id': 1279829,\n",
       "   'field_name': 'Мусор (не трогаем)',\n",
       "   'field_code': None,\n",
       "   'field_type': 'select',\n",
       "   'values': [{'value': 'Заявка', 'enum_id': 2943061, 'enum_code': None}]},\n",
       "  {'field_id': 1280257,\n",
       "   'field_name': 'Занятость',\n",
       "   'field_code': None,\n",
       "   'field_type': 'select',\n",
       "   'values': [{'value': '100%', 'enum_id': 2943965, 'enum_code': None}]},\n",
       "  {'field_id': 1275421,\n",
       "   'field_name': 'Дата прихода обращения',\n",
       "   'field_code': None,\n",
       "   'field_type': 'date',\n",
       "   'values': [{'value': 1458594000}]},\n",
       "  {'field_id': 1282698,\n",
       "   'field_name': 'ref',\n",
       "   'field_code': None,\n",
       "   'field_type': 'url',\n",
       "   'values': [{'value': 'http://yastaff.ru/sankt-peterburg/'}]},\n",
       "  {'field_id': 1284578,\n",
       "   'field_name': 'Телефон',\n",
       "   'field_code': None,\n",
       "   'field_type': 'text',\n",
       "   'values': [{'value': '89031220086'}]},\n",
       "  {'field_id': 1284580,\n",
       "   'field_name': 'E-mail',\n",
       "   'field_code': None,\n",
       "   'field_type': 'text',\n",
       "   'values': [{'value': 'russiamax@yahoo.com'}]},\n",
       "  {'field_id': 1284096,\n",
       "   'field_name': 'Имя',\n",
       "   'field_code': None,\n",
       "   'field_type': 'text',\n",
       "   'values': [{'value': 'Максим'}]},\n",
       "  {'field_id': 1283106,\n",
       "   'field_name': 'Численность населения города',\n",
       "   'field_code': None,\n",
       "   'field_type': 'select',\n",
       "   'values': [{'value': 'более миллиона',\n",
       "     'enum_id': 2954236,\n",
       "     'enum_code': None}]},\n",
       "  {'field_id': 1275435,\n",
       "   'field_name': 'Пакет',\n",
       "   'field_code': None,\n",
       "   'field_type': 'select',\n",
       "   'values': [{'value': 'Готовый бизнес',\n",
       "     'enum_id': 2932635,\n",
       "     'enum_code': None}]},\n",
       "  {'field_id': 1275429,\n",
       "   'field_name': 'Рассматривает варианты',\n",
       "   'field_code': None,\n",
       "   'field_type': 'select',\n",
       "   'values': [{'value': 'только нас', 'enum_id': 2954238, 'enum_code': None}]},\n",
       "  {'field_id': 1275431,\n",
       "   'field_name': 'Тип',\n",
       "   'field_code': None,\n",
       "   'field_type': 'select',\n",
       "   'values': [{'value': 'Молодежь', 'enum_id': 2932623, 'enum_code': None}]},\n",
       "  {'field_id': 1275433,\n",
       "   'field_name': 'Ожидания (по прибыли)',\n",
       "   'field_code': None,\n",
       "   'field_type': 'select',\n",
       "   'values': [{'value': '150 т.р.', 'enum_id': 2954222, 'enum_code': None}]},\n",
       "  {'field_id': 1275419,\n",
       "   'field_name': 'Вложения',\n",
       "   'field_code': None,\n",
       "   'field_type': 'select',\n",
       "   'values': [{'value': '400-500 т.р.',\n",
       "     'enum_id': 2944836,\n",
       "     'enum_code': None}]},\n",
       "  {'field_id': 1275415,\n",
       "   'field_name': 'Откуда средства',\n",
       "   'field_code': None,\n",
       "   'field_type': 'select',\n",
       "   'values': [{'value': 'Собственные средства',\n",
       "     'enum_id': 2932553,\n",
       "     'enum_code': None}]},\n",
       "  {'field_id': 1275425,\n",
       "   'field_name': 'Сроки старта',\n",
       "   'field_code': None,\n",
       "   'field_type': 'select',\n",
       "   'values': [{'value': 'От месяца до 3-х',\n",
       "     'enum_id': 2932607,\n",
       "     'enum_code': None}]},\n",
       "  {'field_id': 1283108,\n",
       "   'field_name': 'Вовлеченность',\n",
       "   'field_code': None,\n",
       "   'field_type': 'select',\n",
       "   'values': [{'value': 'Слышал', 'enum_id': 2954244, 'enum_code': None}]},\n",
       "  {'field_id': 1280863,\n",
       "   'field_name': 'Дата продажи',\n",
       "   'field_code': None,\n",
       "   'field_type': 'date',\n",
       "   'values': [{'value': 1461272400}]},\n",
       "  {'field_id': 1282316,\n",
       "   'field_name': 'Анкета',\n",
       "   'field_code': None,\n",
       "   'field_type': 'select',\n",
       "   'values': [{'value': 'Да', 'enum_id': 2952460, 'enum_code': None}]},\n",
       "  {'field_id': 1275417,\n",
       "   'field_name': 'Тип траффика',\n",
       "   'field_code': None,\n",
       "   'field_type': 'select',\n",
       "   'values': [{'value': 'Органика', 'enum_id': 2954386, 'enum_code': None}]}],\n",
       " 'score': None,\n",
       " 'account_id': 7712394,\n",
       " 'labor_cost': None,\n",
       " '_links': {'self': {'href': 'https://yastaff.amocrm.ru/api/v4/leads/32945010?page=1&limit=250&with=contacts%2Closs_reason%2Ctags'}},\n",
       " '_embedded': {'tags': [],\n",
       "  'loss_reason': [],\n",
       "  'companies': [],\n",
       "  'contacts': [{'id': 58724114,\n",
       "    'is_main': True,\n",
       "    '_links': {'self': {'href': 'https://yastaff.amocrm.ru/api/v4/contacts/58724114?page=1&limit=250&with=contacts%2Closs_reason%2Ctags'}}}]},\n",
       " 'traffic_type': 'Органика',\n",
       " 'city': None,\n",
       " 'resource': 'fr.yastaff',\n",
       " 'loss_reason': '',\n",
       " 'package': 'Готовый бизнес',\n",
       " 'gender': '',\n",
       " 'kev_ot': '',\n",
       " 'type': '',\n",
       " 'agreement_no': '',\n",
       " 'isntallment_plan': '',\n",
       " 'presale': 'None',\n",
       " 'tags': ''}"
      ]
     },
     "execution_count": 17,
     "metadata": {},
     "output_type": "execute_result"
    }
   ],
   "source": [
    "leads_dicts[1]"
   ]
  },
  {
   "cell_type": "code",
   "execution_count": 18,
   "id": "6410cb7f",
   "metadata": {
    "ExecuteTime": {
     "start_time": "2022-08-13T17:18:56.325Z"
    }
   },
   "outputs": [
    {
     "data": {
      "text/plain": [
       "False"
      ]
     },
     "execution_count": 18,
     "metadata": {},
     "output_type": "execute_result"
    }
   ],
   "source": [
    "leads_dicts[0][\"custom_fields_values\"] == None"
   ]
  },
  {
   "cell_type": "code",
   "execution_count": 57,
   "id": "527d0a25",
   "metadata": {},
   "outputs": [],
   "source": [
    "thirty_eight = []\n",
    "for i in leads_dicts:\n",
    "    if i[\"custom_fields_values\"] != None:\n",
    "        if (len(i[\"custom_fields_values\"])) == 38:\n",
    "            thirty_eight.append(i)"
   ]
  },
  {
   "cell_type": "code",
   "execution_count": 48,
   "id": "0c3c0bd7",
   "metadata": {},
   "outputs": [
    {
     "data": {
      "text/plain": [
       "'fr.yastaff/plan'"
      ]
     },
     "execution_count": 48,
     "metadata": {},
     "output_type": "execute_result"
    }
   ],
   "source": [
    "thirty_eight[0][\"custom_fields_values\"][0][\"values\"][0][\"value\"]"
   ]
  },
  {
   "cell_type": "code",
   "execution_count": 11,
   "id": "6897f0b0",
   "metadata": {
    "ExecuteTime": {
     "end_time": "2022-08-09T16:30:07.386388Z",
     "start_time": "2022-08-09T16:30:07.383591Z"
    }
   },
   "outputs": [],
   "source": [
    "custom_fields_needed = [\n",
    "    \"Дата прихода обращения\", \"utm_source\", \"utm_medium\", \"utm_campaign\", \n",
    "    \"utm_term\", \"utm_content\", \"utm_hueisment\", \"utm_campaign (2)\", \n",
    "    \"utm_term (2)\"\n",
    "]"
   ]
  },
  {
   "cell_type": "code",
   "execution_count": 12,
   "id": "1230631f",
   "metadata": {
    "ExecuteTime": {
     "end_time": "2022-08-09T16:32:58.736265Z",
     "start_time": "2022-08-09T16:32:57.119980Z"
    }
   },
   "outputs": [],
   "source": [
    "for lead in leads_dicts:\n",
    "    if lead[\"custom_fields_values\"] != None:\n",
    "        for field in lead[\"custom_fields_values\"]:\n",
    "            for field_name in custom_fields_needed:\n",
    "                if field[\"field_name\"] == field_name:\n",
    "                    lead[field_name] = field[\"values\"][0][\"value\"]"
   ]
  },
  {
   "cell_type": "code",
   "execution_count": 13,
   "id": "1b168a1b",
   "metadata": {
    "ExecuteTime": {
     "end_time": "2022-08-09T16:41:07.615951Z",
     "start_time": "2022-08-09T16:41:06.212949Z"
    }
   },
   "outputs": [],
   "source": [
    "df_leads = pd.DataFrame(leads_dicts)"
   ]
  },
  {
   "cell_type": "code",
   "execution_count": 14,
   "id": "35667088",
   "metadata": {
    "ExecuteTime": {
     "end_time": "2022-08-09T16:43:52.464427Z",
     "start_time": "2022-08-09T16:43:52.287011Z"
    }
   },
   "outputs": [],
   "source": [
    "df_leads[\"data_obrasheniya\"] = df_leads[\"Дата прихода обращения\"].fillna(0).astype(\"int\")\n",
    "df_leads.drop([\n",
    "    \"_links\", \"_embedded\", \"custom_fields_values\", \"Дата прихода обращения\"\n",
    "], axis=1, inplace=True)\n",
    "df_leads.rename({\"price\": \"budget\"}, axis=1)\n",
    "df_leads[\"created_at\"] = pd.to_datetime(df_leads[\"created_at\"], unit=\"s\")\n",
    "df_leads[\"updated_at\"] = pd.to_datetime(df_leads[\"updated_at\"], unit=\"s\")\n",
    "df_leads[\"closed_at\"] = pd.to_datetime(df_leads[\"closed_at\"], unit=\"s\")\n"
   ]
  },
  {
   "cell_type": "code",
   "execution_count": 62,
   "id": "e2fab348",
   "metadata": {},
   "outputs": [
    {
     "data": {
      "text/html": [
       "<div>\n",
       "<style scoped>\n",
       "    .dataframe tbody tr th:only-of-type {\n",
       "        vertical-align: middle;\n",
       "    }\n",
       "\n",
       "    .dataframe tbody tr th {\n",
       "        vertical-align: top;\n",
       "    }\n",
       "\n",
       "    .dataframe thead th {\n",
       "        text-align: right;\n",
       "    }\n",
       "</style>\n",
       "<table border=\"1\" class=\"dataframe\">\n",
       "  <thead>\n",
       "    <tr style=\"text-align: right;\">\n",
       "      <th></th>\n",
       "      <th>created_at</th>\n",
       "    </tr>\n",
       "  </thead>\n",
       "  <tbody>\n",
       "    <tr>\n",
       "      <th>0</th>\n",
       "      <td>2016-02-25 13:57:41</td>\n",
       "    </tr>\n",
       "    <tr>\n",
       "      <th>1</th>\n",
       "      <td>2016-03-22 08:45:17</td>\n",
       "    </tr>\n",
       "    <tr>\n",
       "      <th>2</th>\n",
       "      <td>2016-03-22 09:40:45</td>\n",
       "    </tr>\n",
       "    <tr>\n",
       "      <th>3</th>\n",
       "      <td>2016-03-28 13:41:55</td>\n",
       "    </tr>\n",
       "    <tr>\n",
       "      <th>4</th>\n",
       "      <td>2016-03-31 06:24:11</td>\n",
       "    </tr>\n",
       "    <tr>\n",
       "      <th>...</th>\n",
       "      <td>...</td>\n",
       "    </tr>\n",
       "    <tr>\n",
       "      <th>144476</th>\n",
       "      <td>2022-10-07 09:26:04</td>\n",
       "    </tr>\n",
       "    <tr>\n",
       "      <th>144477</th>\n",
       "      <td>2022-10-12 10:09:22</td>\n",
       "    </tr>\n",
       "    <tr>\n",
       "      <th>144478</th>\n",
       "      <td>2022-10-14 08:38:23</td>\n",
       "    </tr>\n",
       "    <tr>\n",
       "      <th>144479</th>\n",
       "      <td>2022-10-17 11:57:33</td>\n",
       "    </tr>\n",
       "    <tr>\n",
       "      <th>144480</th>\n",
       "      <td>2022-10-13 09:11:00</td>\n",
       "    </tr>\n",
       "  </tbody>\n",
       "</table>\n",
       "<p>144481 rows × 1 columns</p>\n",
       "</div>"
      ],
      "text/plain": [
       "                created_at\n",
       "0      2016-02-25 13:57:41\n",
       "1      2016-03-22 08:45:17\n",
       "2      2016-03-22 09:40:45\n",
       "3      2016-03-28 13:41:55\n",
       "4      2016-03-31 06:24:11\n",
       "...                    ...\n",
       "144476 2022-10-07 09:26:04\n",
       "144477 2022-10-12 10:09:22\n",
       "144478 2022-10-14 08:38:23\n",
       "144479 2022-10-17 11:57:33\n",
       "144480 2022-10-13 09:11:00\n",
       "\n",
       "[144481 rows x 1 columns]"
      ]
     },
     "execution_count": 62,
     "metadata": {},
     "output_type": "execute_result"
    }
   ],
   "source": [
    "df_leads[[\"created_at\"]]"
   ]
  },
  {
   "cell_type": "code",
   "execution_count": 15,
   "id": "ae72c4eb",
   "metadata": {
    "ExecuteTime": {
     "end_time": "2022-08-09T16:46:34.980338Z",
     "start_time": "2022-08-09T16:46:34.977271Z"
    }
   },
   "outputs": [],
   "source": [
    "df_leads.rename({\n",
    "    \"utm_campaign (2)\": \"utm_campaign_2\",\n",
    "    \"utm_term (2)\": \"utm_term_2\"\n",
    "}, axis=1, inplace=True)"
   ]
  },
  {
   "cell_type": "code",
   "execution_count": 18,
   "id": "5af48eea",
   "metadata": {},
   "outputs": [
    {
     "data": {
      "text/plain": [
       "array(['', 'Нет', 'Да'], dtype=object)"
      ]
     },
     "execution_count": 18,
     "metadata": {},
     "output_type": "execute_result"
    }
   ],
   "source": [
    "df_leads[\"installment_plan\"].unique()"
   ]
  },
  {
   "cell_type": "code",
   "execution_count": 19,
   "id": "bebd3e47",
   "metadata": {},
   "outputs": [
    {
     "data": {
      "text/plain": [
       "id                              int64\n",
       "name                           object\n",
       "price                           int64\n",
       "responsible_user_id             int64\n",
       "group_id                        int64\n",
       "status_id                       int64\n",
       "pipeline_id                     int64\n",
       "loss_reason_id                 object\n",
       "created_by                      int64\n",
       "updated_by                      int64\n",
       "created_at             datetime64[ns]\n",
       "updated_at             datetime64[ns]\n",
       "closed_at              datetime64[ns]\n",
       "closest_task_at               float64\n",
       "is_deleted                       bool\n",
       "score                          object\n",
       "account_id                      int64\n",
       "labor_cost                     object\n",
       "traffic_type                   object\n",
       "city                           object\n",
       "resource                       object\n",
       "loss_reason                    object\n",
       "package                        object\n",
       "gender                         object\n",
       "kev_ot                         object\n",
       "type                           object\n",
       "agreement_no                   object\n",
       "installment_plan               object\n",
       "presale                        object\n",
       "tags                           object\n",
       "utm_source                     object\n",
       "utm_medium                     object\n",
       "utm_campaign                   object\n",
       "utm_term                       object\n",
       "utm_content                    object\n",
       "utm_campaign_2                 object\n",
       "utm_term_2                     object\n",
       "data_obrasheniya                int64\n",
       "dtype: object"
      ]
     },
     "execution_count": 19,
     "metadata": {},
     "output_type": "execute_result"
    }
   ],
   "source": [
    "df_leads.dtypes"
   ]
  },
  {
   "cell_type": "code",
   "execution_count": 20,
   "id": "c5ab26d4",
   "metadata": {},
   "outputs": [
    {
     "data": {
      "text/plain": [
       "Index(['id', 'name', 'price', 'responsible_user_id', 'group_id', 'status_id',\n",
       "       'pipeline_id', 'loss_reason_id', 'created_by', 'updated_by',\n",
       "       'created_at', 'updated_at', 'closed_at', 'closest_task_at',\n",
       "       'is_deleted', 'score', 'account_id', 'labor_cost', 'traffic_type',\n",
       "       'city', 'resource', 'loss_reason', 'package', 'gender', 'kev_ot',\n",
       "       'type', 'agreement_no', 'installment_plan', 'presale', 'tags',\n",
       "       'utm_source', 'utm_medium', 'utm_campaign', 'utm_term', 'utm_content',\n",
       "       'utm_campaign_2', 'utm_term_2', 'data_obrasheniya'],\n",
       "      dtype='object')"
      ]
     },
     "execution_count": 20,
     "metadata": {},
     "output_type": "execute_result"
    }
   ],
   "source": [
    "df_leads.columns"
   ]
  },
  {
   "cell_type": "markdown",
   "id": "0f1675a3",
   "metadata": {},
   "source": [
    "# BigQuery"
   ]
  },
  {
   "cell_type": "code",
   "execution_count": 3,
   "id": "b459e782",
   "metadata": {},
   "outputs": [
    {
     "name": "stdout",
     "output_type": "stream",
     "text": [
      "\u001b[33mWARNING: Ignoring invalid distribution -xml (/Users/georgy/PythonProjects/amocrm_pr/venv/lib/python3.10/site-packages)\u001b[0m\u001b[33m\n",
      "\u001b[0m\u001b[33mWARNING: Ignoring invalid distribution -xml (/Users/georgy/PythonProjects/amocrm_pr/venv/lib/python3.10/site-packages)\u001b[0m\u001b[33m\n",
      "\u001b[0mCollecting google-cloud-bigquery\n",
      "  Using cached google_cloud_bigquery-3.3.2-py2.py3-none-any.whl (211 kB)\n",
      "Collecting pyarrow<10.0dev,>=3.0.0\n",
      "  Using cached pyarrow-9.0.0-cp310-cp310-macosx_10_13_x86_64.whl (24.0 MB)\n",
      "Collecting google-api-core[grpc]!=2.0.*,!=2.1.*,!=2.2.*,!=2.3.0,<3.0.0dev,>=1.31.5\n",
      "  Using cached google_api_core-2.10.0-py3-none-any.whl (115 kB)\n",
      "Requirement already satisfied: python-dateutil<3.0dev,>=2.7.2 in ./venv/lib/python3.10/site-packages (from google-cloud-bigquery) (2.8.2)\n",
      "Collecting proto-plus<2.0.0dev,>=1.22.0\n",
      "  Using cached proto_plus-1.22.1-py3-none-any.whl (47 kB)\n",
      "Requirement already satisfied: requests<3.0.0dev,>=2.18.0 in ./venv/lib/python3.10/site-packages (from google-cloud-bigquery) (2.28.1)\n",
      "Collecting google-resumable-media<3.0dev,>=0.6.0\n",
      "  Using cached google_resumable_media-2.3.3-py2.py3-none-any.whl (76 kB)\n",
      "Requirement already satisfied: packaging<22.0.0dev,>=14.3 in ./venv/lib/python3.10/site-packages (from google-cloud-bigquery) (21.3)\n",
      "Collecting google-cloud-bigquery-storage<3.0.0dev,>=2.0.0\n",
      "  Using cached google_cloud_bigquery_storage-2.15.0-py2.py3-none-any.whl (182 kB)\n",
      "Collecting protobuf<5.0.0dev,>=3.19.0\n",
      "  Using cached protobuf-4.21.5-cp37-abi3-macosx_10_9_universal2.whl (484 kB)\n",
      "Collecting grpcio<2.0dev,>=1.47.0\n",
      "  Downloading grpcio-1.48.1-cp310-cp310-macosx_10_10_x86_64.whl (4.2 MB)\n",
      "\u001b[2K     \u001b[90m━━━━━━━━━━━━━━━━━━━━━━━━━━━━━━━━━━━━━━━━\u001b[0m \u001b[32m4.2/4.2 MB\u001b[0m \u001b[31m5.0 MB/s\u001b[0m eta \u001b[36m0:00:00\u001b[0m00:01\u001b[0m00:01\u001b[0m\n",
      "\u001b[?25hCollecting google-cloud-core<3.0.0dev,>=1.4.1\n",
      "  Using cached google_cloud_core-2.3.2-py2.py3-none-any.whl (29 kB)\n",
      "Collecting googleapis-common-protos<2.0dev,>=1.56.2\n",
      "  Using cached googleapis_common_protos-1.56.4-py2.py3-none-any.whl (211 kB)\n",
      "Requirement already satisfied: google-auth<3.0dev,>=1.25.0 in ./venv/lib/python3.10/site-packages (from google-api-core[grpc]!=2.0.*,!=2.1.*,!=2.2.*,!=2.3.0,<3.0.0dev,>=1.31.5->google-cloud-bigquery) (2.11.0)\n",
      "Collecting grpcio-status<2.0dev,>=1.33.2\n",
      "  Using cached grpcio_status-1.48.1-py3-none-any.whl (14 kB)\n",
      "Collecting google-crc32c<2.0dev,>=1.0\n",
      "  Downloading google_crc32c-1.5.0-cp310-cp310-macosx_10_9_x86_64.whl (30 kB)\n",
      "Requirement already satisfied: six>=1.5.2 in ./venv/lib/python3.10/site-packages (from grpcio<2.0dev,>=1.47.0->google-cloud-bigquery) (1.16.0)\n",
      "Requirement already satisfied: pyparsing!=3.0.5,>=2.0.2 in ./venv/lib/python3.10/site-packages (from packaging<22.0.0dev,>=14.3->google-cloud-bigquery) (3.0.9)\n",
      "Requirement already satisfied: numpy>=1.16.6 in ./venv/lib/python3.10/site-packages (from pyarrow<10.0dev,>=3.0.0->google-cloud-bigquery) (1.23.0)\n",
      "Requirement already satisfied: idna<4,>=2.5 in ./venv/lib/python3.10/site-packages (from requests<3.0.0dev,>=2.18.0->google-cloud-bigquery) (3.3)\n",
      "Requirement already satisfied: certifi>=2017.4.17 in ./venv/lib/python3.10/site-packages (from requests<3.0.0dev,>=2.18.0->google-cloud-bigquery) (2022.6.15)\n",
      "Requirement already satisfied: urllib3<1.27,>=1.21.1 in ./venv/lib/python3.10/site-packages (from requests<3.0.0dev,>=2.18.0->google-cloud-bigquery) (1.26.12)\n",
      "Requirement already satisfied: charset-normalizer<3,>=2 in ./venv/lib/python3.10/site-packages (from requests<3.0.0dev,>=2.18.0->google-cloud-bigquery) (2.1.1)\n",
      "Requirement already satisfied: pyasn1-modules>=0.2.1 in ./venv/lib/python3.10/site-packages (from google-auth<3.0dev,>=1.25.0->google-api-core[grpc]!=2.0.*,!=2.1.*,!=2.2.*,!=2.3.0,<3.0.0dev,>=1.31.5->google-cloud-bigquery) (0.2.8)\n",
      "Requirement already satisfied: cachetools<6.0,>=2.0.0 in ./venv/lib/python3.10/site-packages (from google-auth<3.0dev,>=1.25.0->google-api-core[grpc]!=2.0.*,!=2.1.*,!=2.2.*,!=2.3.0,<3.0.0dev,>=1.31.5->google-cloud-bigquery) (5.2.0)\n",
      "Requirement already satisfied: rsa<5,>=3.1.4 in ./venv/lib/python3.10/site-packages (from google-auth<3.0dev,>=1.25.0->google-api-core[grpc]!=2.0.*,!=2.1.*,!=2.2.*,!=2.3.0,<3.0.0dev,>=1.31.5->google-cloud-bigquery) (4.9)\n",
      "Requirement already satisfied: pyasn1<0.5.0,>=0.4.6 in ./venv/lib/python3.10/site-packages (from pyasn1-modules>=0.2.1->google-auth<3.0dev,>=1.25.0->google-api-core[grpc]!=2.0.*,!=2.1.*,!=2.2.*,!=2.3.0,<3.0.0dev,>=1.31.5->google-cloud-bigquery) (0.4.8)\n",
      "\u001b[33mWARNING: Ignoring invalid distribution -xml (/Users/georgy/PythonProjects/amocrm_pr/venv/lib/python3.10/site-packages)\u001b[0m\u001b[33m\n",
      "\u001b[0mInstalling collected packages: pyarrow, protobuf, grpcio, google-crc32c, proto-plus, googleapis-common-protos, google-resumable-media, grpcio-status, google-api-core, google-cloud-core, google-cloud-bigquery-storage, google-cloud-bigquery\n",
      "\u001b[33mWARNING: Ignoring invalid distribution -xml (/Users/georgy/PythonProjects/amocrm_pr/venv/lib/python3.10/site-packages)\u001b[0m\u001b[33m\n",
      "\u001b[0m\u001b[33mWARNING: Ignoring invalid distribution -xml (/Users/georgy/PythonProjects/amocrm_pr/venv/lib/python3.10/site-packages)\u001b[0m\u001b[33m\n",
      "\u001b[0m\u001b[33mWARNING: Ignoring invalid distribution -xml (/Users/georgy/PythonProjects/amocrm_pr/venv/lib/python3.10/site-packages)\u001b[0m\u001b[33m\n",
      "\u001b[0m\u001b[33mWARNING: Ignoring invalid distribution -xml (/Users/georgy/PythonProjects/amocrm_pr/venv/lib/python3.10/site-packages)\u001b[0m\u001b[33m\n",
      "\u001b[0m\u001b[33mWARNING: Ignoring invalid distribution -xml (/Users/georgy/PythonProjects/amocrm_pr/venv/lib/python3.10/site-packages)\u001b[0m\u001b[33m\n",
      "\u001b[0m\u001b[33mWARNING: Ignoring invalid distribution -xml (/Users/georgy/PythonProjects/amocrm_pr/venv/lib/python3.10/site-packages)\u001b[0m\u001b[33m\n",
      "\u001b[0m\u001b[33mWARNING: Ignoring invalid distribution -xml (/Users/georgy/PythonProjects/amocrm_pr/venv/lib/python3.10/site-packages)\u001b[0m\u001b[33m\n",
      "\u001b[0m\u001b[33mWARNING: Ignoring invalid distribution -xml (/Users/georgy/PythonProjects/amocrm_pr/venv/lib/python3.10/site-packages)\u001b[0m\u001b[33m\n",
      "\u001b[0m\u001b[33mWARNING: Ignoring invalid distribution -xml (/Users/georgy/PythonProjects/amocrm_pr/venv/lib/python3.10/site-packages)\u001b[0m\u001b[33m\n",
      "\u001b[0m\u001b[33mWARNING: Ignoring invalid distribution -xml (/Users/georgy/PythonProjects/amocrm_pr/venv/lib/python3.10/site-packages)\u001b[0m\u001b[33m\n",
      "\u001b[0m\u001b[33mWARNING: Ignoring invalid distribution -xml (/Users/georgy/PythonProjects/amocrm_pr/venv/lib/python3.10/site-packages)\u001b[0m\u001b[33m\n",
      "\u001b[0m\u001b[33mWARNING: Ignoring invalid distribution -xml (/Users/georgy/PythonProjects/amocrm_pr/venv/lib/python3.10/site-packages)\u001b[0m\u001b[33m\n",
      "\u001b[0mSuccessfully installed google-api-core-2.10.0 google-cloud-bigquery-3.3.2 google-cloud-bigquery-storage-2.15.0 google-cloud-core-2.3.2 google-crc32c-1.5.0 google-resumable-media-2.3.3 googleapis-common-protos-1.56.4 grpcio-1.48.1 grpcio-status-1.48.1 proto-plus-1.22.1 protobuf-4.21.5 pyarrow-9.0.0\n",
      "\u001b[33mWARNING: Ignoring invalid distribution -xml (/Users/georgy/PythonProjects/amocrm_pr/venv/lib/python3.10/site-packages)\u001b[0m\u001b[33m\n",
      "\u001b[0m\u001b[33mWARNING: Ignoring invalid distribution -xml (/Users/georgy/PythonProjects/amocrm_pr/venv/lib/python3.10/site-packages)\u001b[0m\u001b[33m\n",
      "\u001b[0m\u001b[33mWARNING: Ignoring invalid distribution -xml (/Users/georgy/PythonProjects/amocrm_pr/venv/lib/python3.10/site-packages)\u001b[0m\u001b[33m\n",
      "\u001b[0mNote: you may need to restart the kernel to use updated packages.\n"
     ]
    }
   ],
   "source": [
    "pip install google-cloud-bigquery"
   ]
  },
  {
   "cell_type": "code",
   "execution_count": 8,
   "id": "9d87d499",
   "metadata": {},
   "outputs": [
    {
     "name": "stdout",
     "output_type": "stream",
     "text": [
      "Requirement already satisfied: pandas-gbq in /Library/Frameworks/Python.framework/Versions/3.10/lib/python3.10/site-packages (0.17.7)\n",
      "Requirement already satisfied: pydata-google-auth in /Library/Frameworks/Python.framework/Versions/3.10/lib/python3.10/site-packages (from pandas-gbq) (1.4.0)\n",
      "Requirement already satisfied: pyarrow<9.0dev,>=3.0.0 in /Library/Frameworks/Python.framework/Versions/3.10/lib/python3.10/site-packages (from pandas-gbq) (8.0.0)\n",
      "Requirement already satisfied: google-api-core!=2.0.*,!=2.1.*,!=2.2.*,!=2.3.0,<3.0.0dev,>=1.31.5 in /Library/Frameworks/Python.framework/Versions/3.10/lib/python3.10/site-packages (from pandas-gbq) (2.8.2)\n",
      "Requirement already satisfied: google-auth-oauthlib>=0.0.1 in /Library/Frameworks/Python.framework/Versions/3.10/lib/python3.10/site-packages (from pandas-gbq) (0.5.2)\n",
      "Requirement already satisfied: google-auth>=1.25.0 in /Library/Frameworks/Python.framework/Versions/3.10/lib/python3.10/site-packages (from pandas-gbq) (2.9.1)\n",
      "Requirement already satisfied: db-dtypes<2.0.0,>=0.3.1 in /Library/Frameworks/Python.framework/Versions/3.10/lib/python3.10/site-packages (from pandas-gbq) (1.0.2)\n",
      "Requirement already satisfied: pandas>=0.24.2 in /Library/Frameworks/Python.framework/Versions/3.10/lib/python3.10/site-packages (from pandas-gbq) (1.4.2)\n",
      "Requirement already satisfied: google-cloud-bigquery!=2.4.*,<4.0.0dev,>=1.27.2 in /Library/Frameworks/Python.framework/Versions/3.10/lib/python3.10/site-packages (from pandas-gbq) (3.2.0)\n",
      "Requirement already satisfied: numpy>=1.16.6 in /Library/Frameworks/Python.framework/Versions/3.10/lib/python3.10/site-packages (from pandas-gbq) (1.22.3)\n",
      "Requirement already satisfied: google-cloud-bigquery-storage<3.0.0dev,>=1.1.0 in /Library/Frameworks/Python.framework/Versions/3.10/lib/python3.10/site-packages (from pandas-gbq) (2.14.1)\n",
      "Requirement already satisfied: setuptools in /Library/Frameworks/Python.framework/Versions/3.10/lib/python3.10/site-packages (from pandas-gbq) (58.1.0)\n",
      "Requirement already satisfied: packaging>=17.0 in /Library/Frameworks/Python.framework/Versions/3.10/lib/python3.10/site-packages (from db-dtypes<2.0.0,>=0.3.1->pandas-gbq) (21.3)\n",
      "Requirement already satisfied: googleapis-common-protos<2.0dev,>=1.56.2 in /Library/Frameworks/Python.framework/Versions/3.10/lib/python3.10/site-packages (from google-api-core!=2.0.*,!=2.1.*,!=2.2.*,!=2.3.0,<3.0.0dev,>=1.31.5->pandas-gbq) (1.56.4)\n",
      "Requirement already satisfied: requests<3.0.0dev,>=2.18.0 in /Library/Frameworks/Python.framework/Versions/3.10/lib/python3.10/site-packages (from google-api-core!=2.0.*,!=2.1.*,!=2.2.*,!=2.3.0,<3.0.0dev,>=1.31.5->pandas-gbq) (2.27.1)\n",
      "Requirement already satisfied: protobuf<5.0.0dev,>=3.15.0 in /Library/Frameworks/Python.framework/Versions/3.10/lib/python3.10/site-packages (from google-api-core!=2.0.*,!=2.1.*,!=2.2.*,!=2.3.0,<3.0.0dev,>=1.31.5->pandas-gbq) (3.20.1)\n",
      "Requirement already satisfied: six>=1.9.0 in /Library/Frameworks/Python.framework/Versions/3.10/lib/python3.10/site-packages (from google-auth>=1.25.0->pandas-gbq) (1.16.0)\n",
      "Requirement already satisfied: cachetools<6.0,>=2.0.0 in /Library/Frameworks/Python.framework/Versions/3.10/lib/python3.10/site-packages (from google-auth>=1.25.0->pandas-gbq) (5.2.0)\n",
      "Requirement already satisfied: pyasn1-modules>=0.2.1 in /Library/Frameworks/Python.framework/Versions/3.10/lib/python3.10/site-packages (from google-auth>=1.25.0->pandas-gbq) (0.2.8)\n",
      "Requirement already satisfied: rsa<5,>=3.1.4 in /Library/Frameworks/Python.framework/Versions/3.10/lib/python3.10/site-packages (from google-auth>=1.25.0->pandas-gbq) (4.0)\n",
      "Requirement already satisfied: requests-oauthlib>=0.7.0 in /Library/Frameworks/Python.framework/Versions/3.10/lib/python3.10/site-packages (from google-auth-oauthlib>=0.0.1->pandas-gbq) (1.3.1)\n",
      "Requirement already satisfied: proto-plus<2.0.0dev,>=1.15.0 in /Library/Frameworks/Python.framework/Versions/3.10/lib/python3.10/site-packages (from google-cloud-bigquery!=2.4.*,<4.0.0dev,>=1.27.2->pandas-gbq) (1.20.6)\n",
      "Requirement already satisfied: python-dateutil<3.0dev,>=2.7.2 in /Library/Frameworks/Python.framework/Versions/3.10/lib/python3.10/site-packages (from google-cloud-bigquery!=2.4.*,<4.0.0dev,>=1.27.2->pandas-gbq) (2.8.2)\n",
      "Requirement already satisfied: grpcio<2.0dev,>=1.38.1 in /Library/Frameworks/Python.framework/Versions/3.10/lib/python3.10/site-packages (from google-cloud-bigquery!=2.4.*,<4.0.0dev,>=1.27.2->pandas-gbq) (1.47.0)\n",
      "Requirement already satisfied: google-cloud-core<3.0.0dev,>=1.4.1 in /Library/Frameworks/Python.framework/Versions/3.10/lib/python3.10/site-packages (from google-cloud-bigquery!=2.4.*,<4.0.0dev,>=1.27.2->pandas-gbq) (2.3.1)\n",
      "Requirement already satisfied: google-resumable-media<3.0dev,>=0.6.0 in /Library/Frameworks/Python.framework/Versions/3.10/lib/python3.10/site-packages (from google-cloud-bigquery!=2.4.*,<4.0.0dev,>=1.27.2->pandas-gbq) (2.3.3)\n",
      "Requirement already satisfied: pytz>=2020.1 in /Library/Frameworks/Python.framework/Versions/3.10/lib/python3.10/site-packages (from pandas>=0.24.2->pandas-gbq) (2021.3)\n",
      "Requirement already satisfied: grpcio-status<2.0dev,>=1.33.2 in /Library/Frameworks/Python.framework/Versions/3.10/lib/python3.10/site-packages (from google-api-core!=2.0.*,!=2.1.*,!=2.2.*,!=2.3.0,<3.0.0dev,>=1.31.5->pandas-gbq) (1.47.0)\n",
      "Requirement already satisfied: google-crc32c<2.0dev,>=1.0 in /Library/Frameworks/Python.framework/Versions/3.10/lib/python3.10/site-packages (from google-resumable-media<3.0dev,>=0.6.0->google-cloud-bigquery!=2.4.*,<4.0.0dev,>=1.27.2->pandas-gbq) (1.3.0)\n",
      "Requirement already satisfied: pyparsing!=3.0.5,>=2.0.2 in /Library/Frameworks/Python.framework/Versions/3.10/lib/python3.10/site-packages (from packaging>=17.0->db-dtypes<2.0.0,>=0.3.1->pandas-gbq) (3.0.7)\n",
      "Requirement already satisfied: pyasn1<0.5.0,>=0.4.6 in /Library/Frameworks/Python.framework/Versions/3.10/lib/python3.10/site-packages (from pyasn1-modules>=0.2.1->google-auth>=1.25.0->pandas-gbq) (0.4.7)\n",
      "Requirement already satisfied: charset-normalizer~=2.0.0 in /Library/Frameworks/Python.framework/Versions/3.10/lib/python3.10/site-packages (from requests<3.0.0dev,>=2.18.0->google-api-core!=2.0.*,!=2.1.*,!=2.2.*,!=2.3.0,<3.0.0dev,>=1.31.5->pandas-gbq) (2.0.12)\n",
      "Requirement already satisfied: urllib3<1.27,>=1.21.1 in /Library/Frameworks/Python.framework/Versions/3.10/lib/python3.10/site-packages (from requests<3.0.0dev,>=2.18.0->google-api-core!=2.0.*,!=2.1.*,!=2.2.*,!=2.3.0,<3.0.0dev,>=1.31.5->pandas-gbq) (1.26.9)\n",
      "Requirement already satisfied: certifi>=2017.4.17 in /Library/Frameworks/Python.framework/Versions/3.10/lib/python3.10/site-packages (from requests<3.0.0dev,>=2.18.0->google-api-core!=2.0.*,!=2.1.*,!=2.2.*,!=2.3.0,<3.0.0dev,>=1.31.5->pandas-gbq) (2021.10.8)\n",
      "Requirement already satisfied: idna<4,>=2.5 in /Library/Frameworks/Python.framework/Versions/3.10/lib/python3.10/site-packages (from requests<3.0.0dev,>=2.18.0->google-api-core!=2.0.*,!=2.1.*,!=2.2.*,!=2.3.0,<3.0.0dev,>=1.31.5->pandas-gbq) (3.3)\n",
      "Requirement already satisfied: oauthlib>=3.0.0 in /Library/Frameworks/Python.framework/Versions/3.10/lib/python3.10/site-packages (from requests-oauthlib>=0.7.0->google-auth-oauthlib>=0.0.1->pandas-gbq) (3.2.0)\n"
     ]
    }
   ],
   "source": [
    "! pip install pandas-gbq"
   ]
  },
  {
   "cell_type": "code",
   "execution_count": 21,
   "id": "da00a294",
   "metadata": {},
   "outputs": [],
   "source": [
    "df_leads.to_csv(\"leads.csv\", index=False)"
   ]
  },
  {
   "cell_type": "code",
   "execution_count": 23,
   "id": "a0daf83f",
   "metadata": {},
   "outputs": [],
   "source": [
    "import pandas as pd\n",
    "df_leads = pd.read_csv(\"leads.csv\", low_memory=False)"
   ]
  },
  {
   "cell_type": "code",
   "execution_count": 24,
   "id": "83b4cfcf",
   "metadata": {
    "ExecuteTime": {
     "end_time": "2022-08-09T16:49:19.130654Z",
     "start_time": "2022-08-09T16:49:19.128410Z"
    }
   },
   "outputs": [],
   "source": [
    "import os\n",
    "os.environ[\"GOOGLE_APPLICATION_CREDENTIALS\"]=\"./oddjob-db-2007-759fe782b144.json\""
   ]
  },
  {
   "cell_type": "code",
   "execution_count": 68,
   "id": "8d763f13",
   "metadata": {
    "ExecuteTime": {
     "end_time": "2022-08-09T16:52:03.983850Z",
     "start_time": "2022-08-09T16:52:03.981394Z"
    }
   },
   "outputs": [],
   "source": [
    "from google.cloud import bigquery\n"
   ]
  },
  {
   "cell_type": "code",
   "execution_count": 69,
   "id": "dcbbddcd",
   "metadata": {
    "ExecuteTime": {
     "end_time": "2022-08-09T17:47:50.869128Z",
     "start_time": "2022-08-09T17:47:50.863474Z"
    }
   },
   "outputs": [],
   "source": [
    "client = bigquery.Client()"
   ]
  },
  {
   "cell_type": "code",
   "execution_count": 70,
   "id": "32ed42dc",
   "metadata": {},
   "outputs": [
    {
     "data": {
      "text/plain": [
       "id                       int64\n",
       "name                    object\n",
       "price                    int64\n",
       "responsible_user_id      int64\n",
       "group_id                 int64\n",
       "status_id                int64\n",
       "pipeline_id              int64\n",
       "loss_reason_id         float64\n",
       "created_by               int64\n",
       "updated_by               int64\n",
       "created_at              object\n",
       "updated_at              object\n",
       "closed_at               object\n",
       "closest_task_at        float64\n",
       "is_deleted                bool\n",
       "score                  float64\n",
       "account_id               int64\n",
       "labor_cost             float64\n",
       "traffic_type            object\n",
       "city                    object\n",
       "resource                object\n",
       "loss_reason             object\n",
       "package                 object\n",
       "gender                  object\n",
       "kev_ot                  object\n",
       "type                   float64\n",
       "agreement_no            object\n",
       "isntallment_plan       float64\n",
       "presale                 object\n",
       "tags                    object\n",
       "utm_source              object\n",
       "utm_medium              object\n",
       "utm_campaign            object\n",
       "utm_term                object\n",
       "installment_plan        object\n",
       "utm_content             object\n",
       "utm_campaign_2          object\n",
       "utm_term_2              object\n",
       "data_obrasheniya         int64\n",
       "dtype: object"
      ]
     },
     "execution_count": 70,
     "metadata": {},
     "output_type": "execute_result"
    }
   ],
   "source": [
    "df_leads.dtypes"
   ]
  },
  {
   "cell_type": "code",
   "execution_count": 5,
   "id": "da997282",
   "metadata": {
    "ExecuteTime": {
     "end_time": "2022-08-09T17:56:44.281207Z",
     "start_time": "2022-08-09T17:56:44.273287Z"
    }
   },
   "outputs": [],
   "source": [
    "    schema = [\n",
    "        {'name': 'id', 'type': 'INTEGER', 'mode': 'REQUIRED'},\n",
    "        {'name': 'name', 'type': 'STRING', 'mode': 'NULLABLE'},\n",
    "        {'name': 'price', 'type': 'INTEGER', 'mode': 'NULLABLE'},\n",
    "        {'name': 'responsible_user_id', 'type': 'INTEGER', 'mode': 'NULLABLE'},\n",
    "        {'name': 'group_id', 'type': 'INTEGER', 'mode': 'NULLABLE'},\n",
    "        {'name': 'status_id', 'type': 'INTEGER', 'mode': 'NULLABLE'},\n",
    "        {'name': 'pipeline_id', 'type': 'INTEGER', 'mode': 'REQUIRED'},\n",
    "        {'name': 'loss_reason_id', 'type': 'STRING', 'mode': 'NULLABLE'},\n",
    "        {'name': 'created_by', 'type': 'INTEGER', 'mode': 'NULLABLE'},\n",
    "        {'name': 'updated_by', 'type': 'INTEGER', 'mode': 'NULLABLE'},\n",
    "        {'name': 'created_at', 'type': 'TIMESTAMP', 'mode': 'REQUIRED'},\n",
    "        {'name': 'updated_at', 'type': 'TIMESTAMP', 'mode': 'REQUIRED'},\n",
    "        {'name': 'closet_at', 'type': 'TIMESTAMP', 'mode': 'NULLABLE'},\n",
    "        {'name': 'closest_task_at', 'type': 'FLOAT', 'mode': 'NULLABLE'},\n",
    "        {'name': 'is_deleted', 'type': 'BOOLEAN', 'mode': 'NULLABLE'},\n",
    "        {'name': 'score', 'type': 'STRING', 'mode': 'NULLABLE'},\n",
    "        {'name': 'account_id', 'type': 'INTEGER', 'mode': 'NULLABLE'},\n",
    "        {'name': 'labor_cost', 'type': 'STRING', 'mode': 'NULLABLE'},\n",
    "        {'name': 'traffic_type', 'type': 'STRING', 'mode': 'NULLABLE'},\n",
    "        {'name': 'city', 'type': 'STRING', 'mode': 'NULLABLE'},\n",
    "        {'name': 'resource', 'type': 'STRING', 'mode': 'NULLABLE'},\n",
    "        {'name': 'package', 'type': 'STRING', 'mode': 'NULLABLE'},\n",
    "        {'name': 'utm_source', 'type': 'STRING', 'mode': 'NULLABLE'},\n",
    "        {'name': 'utm_medium', 'type': 'STRING', 'mode': 'NULLABLE'},\n",
    "        {'name': 'utm_campaign', 'type': 'STRING', 'mode': 'NULLABLE'},\n",
    "        {'name': 'utm_term', 'type': 'STRING', 'mode': 'NULLABLE'},\n",
    "        {'name': 'utm_content', 'type': 'STRING', 'mode': 'NULLABLE'},\n",
    "        {'name': 'utm_hueisment', 'type': 'STRING', 'mode': 'NULLABLE'},\n",
    "        {'name': 'utm_campaign_2', 'type': 'STRING', 'mode': 'NULLABLE'},\n",
    "        {'name': 'utm_term_2', 'type': 'STRING', 'mode': 'NULLABLE'},\n",
    "        {'name': 'data_obrasheniya', 'type': 'INTEGER', 'mode': 'NULLABLE'}\n",
    "    ]"
   ]
  },
  {
   "cell_type": "markdown",
   "id": "1c4d93f3",
   "metadata": {},
   "source": [
    "id                              int64    id                              int64\n",
    "name                           object    name                           object\n",
    "budget                          int64    price                           int64\n",
    "responsible_user_id             int64    responsible_user_id             int64\n",
    "group_id                        int64    group_id                        int64\n",
    "status_id                       int64    status_id                       int64\n",
    "pipeline_id                     int64    pipeline_id                     int64\n",
    "loss_reason_id                float64    loss_reason_id                float64\n",
    "created_by                      int64    created_by                      int64\n",
    "updated_by                      int64    updated_by                      int64\n",
    "created_at             datetime64[ns]    created_at             datetime64[ns]\n",
    "updated_at             datetime64[ns]    updated_at             datetime64[ns]\n",
    "closed_at              datetime64[ns]    closed_at              datetime64[ns]\n",
    "closest_task_at               float64    closest_task_at               float64\n",
    "is_deleted                       bool    is_deleted                       bool\n",
    "score                         float64    score                         float64\n",
    "account_id                      int64    account_id                      int64\n",
    "labor_cost                    float64    labor_cost                    float64\n",
    "traffic_type                   object    traffic_type                   object\n",
    "city                           object    city                           object\n",
    "resource                       object    resource                       object\n",
    "package                        object    package                        object\n",
    "utm_source                     object    utm_source                     object\n",
    "utm_medium                     object    utm_medium                     object\n",
    "utm_campaign                   object    utm_campaign                   object\n",
    "utm_term                       object    utm_term                       object\n",
    "utm_content                    object    utm_content                    object\n",
    "utm_hueisment                  object    utm_hueisment                  object\n",
    "utm_campaign_2                 object    utm_campaign_2                 object\n",
    "utm_term_2                     object    utm_term_2                     object\n",
    "data_obrasheniya                int64    data_obrasheniya                int64"
   ]
  },
  {
   "cell_type": "code",
   "execution_count": 9,
   "id": "93cc8e1f",
   "metadata": {},
   "outputs": [
    {
     "name": "stdout",
     "output_type": "stream",
     "text": [
      "\u001b[33mWARNING: Ignoring invalid distribution -xml (/Users/georgy/PythonProjects/amocrm_pr/venv/lib/python3.10/site-packages)\u001b[0m\u001b[33m\n",
      "\u001b[0m\u001b[33mWARNING: Ignoring invalid distribution -xml (/Users/georgy/PythonProjects/amocrm_pr/venv/lib/python3.10/site-packages)\u001b[0m\u001b[33m\n",
      "\u001b[0mRequirement already satisfied: pandas-gbq in ./venv/lib/python3.10/site-packages (0.17.8)\n",
      "Requirement already satisfied: pyarrow<10.0dev,>=3.0.0 in ./venv/lib/python3.10/site-packages (from pandas-gbq) (9.0.0)\n",
      "Requirement already satisfied: google-cloud-bigquery-storage<3.0.0dev,>=1.1.0 in ./venv/lib/python3.10/site-packages (from pandas-gbq) (2.15.0)\n",
      "Requirement already satisfied: pydata-google-auth in ./venv/lib/python3.10/site-packages (from pandas-gbq) (1.4.0)\n",
      "Requirement already satisfied: google-auth>=1.25.0 in ./venv/lib/python3.10/site-packages (from pandas-gbq) (2.11.0)\n",
      "Requirement already satisfied: numpy>=1.16.6 in ./venv/lib/python3.10/site-packages (from pandas-gbq) (1.23.0)\n",
      "Requirement already satisfied: setuptools in ./venv/lib/python3.10/site-packages (from pandas-gbq) (63.4.2)\n",
      "Requirement already satisfied: google-api-core!=2.0.*,!=2.1.*,!=2.2.*,!=2.3.0,<3.0.0dev,>=1.31.5 in ./venv/lib/python3.10/site-packages (from pandas-gbq) (2.10.0)\n",
      "Requirement already satisfied: google-auth-oauthlib>=0.0.1 in ./venv/lib/python3.10/site-packages (from pandas-gbq) (0.5.2)\n",
      "Requirement already satisfied: db-dtypes<2.0.0,>=0.3.1 in ./venv/lib/python3.10/site-packages (from pandas-gbq) (1.0.3)\n",
      "Requirement already satisfied: google-cloud-bigquery!=2.4.*,<4.0.0dev,>=1.27.2 in ./venv/lib/python3.10/site-packages (from pandas-gbq) (3.3.2)\n",
      "Requirement already satisfied: pandas>=0.24.2 in ./venv/lib/python3.10/site-packages (from pandas-gbq) (1.4.4)\n",
      "Requirement already satisfied: packaging>=17.0 in ./venv/lib/python3.10/site-packages (from db-dtypes<2.0.0,>=0.3.1->pandas-gbq) (21.3)\n",
      "Requirement already satisfied: requests<3.0.0dev,>=2.18.0 in ./venv/lib/python3.10/site-packages (from google-api-core!=2.0.*,!=2.1.*,!=2.2.*,!=2.3.0,<3.0.0dev,>=1.31.5->pandas-gbq) (2.28.1)\n",
      "Requirement already satisfied: googleapis-common-protos<2.0dev,>=1.56.2 in ./venv/lib/python3.10/site-packages (from google-api-core!=2.0.*,!=2.1.*,!=2.2.*,!=2.3.0,<3.0.0dev,>=1.31.5->pandas-gbq) (1.56.4)\n",
      "Requirement already satisfied: protobuf<5.0.0dev,>=3.20.1 in ./venv/lib/python3.10/site-packages (from google-api-core!=2.0.*,!=2.1.*,!=2.2.*,!=2.3.0,<3.0.0dev,>=1.31.5->pandas-gbq) (4.21.5)\n",
      "Requirement already satisfied: six>=1.9.0 in ./venv/lib/python3.10/site-packages (from google-auth>=1.25.0->pandas-gbq) (1.16.0)\n",
      "Requirement already satisfied: rsa<5,>=3.1.4 in ./venv/lib/python3.10/site-packages (from google-auth>=1.25.0->pandas-gbq) (4.9)\n",
      "Requirement already satisfied: pyasn1-modules>=0.2.1 in ./venv/lib/python3.10/site-packages (from google-auth>=1.25.0->pandas-gbq) (0.2.8)\n",
      "Requirement already satisfied: cachetools<6.0,>=2.0.0 in ./venv/lib/python3.10/site-packages (from google-auth>=1.25.0->pandas-gbq) (5.2.0)\n",
      "Requirement already satisfied: requests-oauthlib>=0.7.0 in ./venv/lib/python3.10/site-packages (from google-auth-oauthlib>=0.0.1->pandas-gbq) (1.3.1)\n",
      "Requirement already satisfied: google-resumable-media<3.0dev,>=0.6.0 in ./venv/lib/python3.10/site-packages (from google-cloud-bigquery!=2.4.*,<4.0.0dev,>=1.27.2->pandas-gbq) (2.3.3)\n",
      "Requirement already satisfied: python-dateutil<3.0dev,>=2.7.2 in ./venv/lib/python3.10/site-packages (from google-cloud-bigquery!=2.4.*,<4.0.0dev,>=1.27.2->pandas-gbq) (2.8.2)\n",
      "Requirement already satisfied: grpcio<2.0dev,>=1.47.0 in ./venv/lib/python3.10/site-packages (from google-cloud-bigquery!=2.4.*,<4.0.0dev,>=1.27.2->pandas-gbq) (1.48.1)\n",
      "Requirement already satisfied: google-cloud-core<3.0.0dev,>=1.4.1 in ./venv/lib/python3.10/site-packages (from google-cloud-bigquery!=2.4.*,<4.0.0dev,>=1.27.2->pandas-gbq) (2.3.2)\n",
      "Requirement already satisfied: proto-plus<2.0.0dev,>=1.22.0 in ./venv/lib/python3.10/site-packages (from google-cloud-bigquery!=2.4.*,<4.0.0dev,>=1.27.2->pandas-gbq) (1.22.1)\n",
      "Requirement already satisfied: pytz>=2020.1 in ./venv/lib/python3.10/site-packages (from pandas>=0.24.2->pandas-gbq) (2022.2.1)\n",
      "Requirement already satisfied: grpcio-status<2.0dev,>=1.33.2 in ./venv/lib/python3.10/site-packages (from google-api-core!=2.0.*,!=2.1.*,!=2.2.*,!=2.3.0,<3.0.0dev,>=1.31.5->pandas-gbq) (1.48.1)\n",
      "Requirement already satisfied: google-crc32c<2.0dev,>=1.0 in ./venv/lib/python3.10/site-packages (from google-resumable-media<3.0dev,>=0.6.0->google-cloud-bigquery!=2.4.*,<4.0.0dev,>=1.27.2->pandas-gbq) (1.5.0)\n",
      "Requirement already satisfied: pyparsing!=3.0.5,>=2.0.2 in ./venv/lib/python3.10/site-packages (from packaging>=17.0->db-dtypes<2.0.0,>=0.3.1->pandas-gbq) (3.0.9)\n",
      "Requirement already satisfied: pyasn1<0.5.0,>=0.4.6 in ./venv/lib/python3.10/site-packages (from pyasn1-modules>=0.2.1->google-auth>=1.25.0->pandas-gbq) (0.4.8)\n",
      "Requirement already satisfied: urllib3<1.27,>=1.21.1 in ./venv/lib/python3.10/site-packages (from requests<3.0.0dev,>=2.18.0->google-api-core!=2.0.*,!=2.1.*,!=2.2.*,!=2.3.0,<3.0.0dev,>=1.31.5->pandas-gbq) (1.26.12)\n",
      "Requirement already satisfied: idna<4,>=2.5 in ./venv/lib/python3.10/site-packages (from requests<3.0.0dev,>=2.18.0->google-api-core!=2.0.*,!=2.1.*,!=2.2.*,!=2.3.0,<3.0.0dev,>=1.31.5->pandas-gbq) (3.3)\n",
      "Requirement already satisfied: charset-normalizer<3,>=2 in ./venv/lib/python3.10/site-packages (from requests<3.0.0dev,>=2.18.0->google-api-core!=2.0.*,!=2.1.*,!=2.2.*,!=2.3.0,<3.0.0dev,>=1.31.5->pandas-gbq) (2.1.1)\n",
      "Requirement already satisfied: certifi>=2017.4.17 in ./venv/lib/python3.10/site-packages (from requests<3.0.0dev,>=2.18.0->google-api-core!=2.0.*,!=2.1.*,!=2.2.*,!=2.3.0,<3.0.0dev,>=1.31.5->pandas-gbq) (2022.6.15)\n",
      "Requirement already satisfied: oauthlib>=3.0.0 in ./venv/lib/python3.10/site-packages (from requests-oauthlib>=0.7.0->google-auth-oauthlib>=0.0.1->pandas-gbq) (3.2.0)\n",
      "\u001b[33mWARNING: Ignoring invalid distribution -xml (/Users/georgy/PythonProjects/amocrm_pr/venv/lib/python3.10/site-packages)\u001b[0m\u001b[33m\n",
      "\u001b[0m\u001b[33mWARNING: Ignoring invalid distribution -xml (/Users/georgy/PythonProjects/amocrm_pr/venv/lib/python3.10/site-packages)\u001b[0m\u001b[33m\n",
      "\u001b[0m\u001b[33mWARNING: Ignoring invalid distribution -xml (/Users/georgy/PythonProjects/amocrm_pr/venv/lib/python3.10/site-packages)\u001b[0m\u001b[33m\n",
      "\u001b[0m\u001b[33mWARNING: Ignoring invalid distribution -xml (/Users/georgy/PythonProjects/amocrm_pr/venv/lib/python3.10/site-packages)\u001b[0m\u001b[33m\n",
      "\u001b[0mNote: you may need to restart the kernel to use updated packages.\n"
     ]
    }
   ],
   "source": [
    "pip install -U pandas-gbq"
   ]
  },
  {
   "cell_type": "code",
   "execution_count": 25,
   "id": "831c6f1f",
   "metadata": {
    "ExecuteTime": {
     "end_time": "2022-08-09T17:59:55.923710Z",
     "start_time": "2022-08-09T17:59:43.274744Z"
    }
   },
   "outputs": [],
   "source": [
    "# df_leads = df_leads.astype(\"str\")\n",
    "df_leads.to_gbq( \"franchise_oddjob.dw_amocrm_fr_leads\", if_exists=\"replace\",\n",
    "                    # table_schema=schema\n",
    "                    )"
   ]
  },
  {
   "cell_type": "code",
   "execution_count": 68,
   "id": "315889d0",
   "metadata": {},
   "outputs": [],
   "source": [
    "start = time.time()\n",
    "end = time.time()"
   ]
  },
  {
   "cell_type": "code",
   "execution_count": 27,
   "id": "af47b510",
   "metadata": {
    "scrolled": true
   },
   "outputs": [
    {
     "data": {
      "text/plain": [
       "10.618908882141113"
      ]
     },
     "execution_count": 27,
     "metadata": {},
     "output_type": "execute_result"
    }
   ],
   "source": [
    "end - start"
   ]
  },
  {
   "cell_type": "markdown",
   "id": "e7e919b2",
   "metadata": {},
   "source": [
    "# Gspread events"
   ]
  },
  {
   "cell_type": "code",
   "execution_count": 4,
   "id": "c5a91019",
   "metadata": {},
   "outputs": [],
   "source": [
    "import os\n",
    "os.environ[\"GOOGLE_APPLICATION_CREDENTIALS\"]=\"./oddjob-db-2007-759fe782b144.json\""
   ]
  },
  {
   "cell_type": "code",
   "execution_count": 5,
   "id": "ba98bff5",
   "metadata": {},
   "outputs": [
    {
     "name": "stdout",
     "output_type": "stream",
     "text": [
      "./oddjob-db-2007-759fe782b144.json\r\n"
     ]
    }
   ],
   "source": [
    "! echo $GOOGLE_APPLICATION_CREDENTIALS"
   ]
  },
  {
   "cell_type": "code",
   "execution_count": 5,
   "id": "bd6826f3",
   "metadata": {},
   "outputs": [],
   "source": [
    "from google.cloud import bigquery"
   ]
  },
  {
   "cell_type": "code",
   "execution_count": 6,
   "id": "6b53d0dd",
   "metadata": {},
   "outputs": [],
   "source": [
    "client = bigquery.Client()"
   ]
  },
  {
   "cell_type": "code",
   "execution_count": 1,
   "id": "686da62b",
   "metadata": {},
   "outputs": [],
   "source": [
    "import pandas as pd"
   ]
  },
  {
   "cell_type": "code",
   "execution_count": 2,
   "id": "36f5644a",
   "metadata": {},
   "outputs": [],
   "source": [
    "df_events = pd.read_csv(\"statuses_changes.csv\")"
   ]
  },
  {
   "cell_type": "code",
   "execution_count": 7,
   "id": "24dd14b3",
   "metadata": {},
   "outputs": [],
   "source": [
    "df_events.to_gbq(\n",
    "    \"franchise_oddjob.dw_amocrm_fr_events\", if_exists=\"replace\"\n",
    "    )"
   ]
  },
  {
   "cell_type": "markdown",
   "id": "e1f7141f",
   "metadata": {},
   "source": [
    "# Filters"
   ]
  },
  {
   "cell_type": "code",
   "execution_count": 5,
   "id": "418cedca",
   "metadata": {},
   "outputs": [],
   "source": [
    "from amocrm.v2 import filters\n",
    "from models import Lead, Company, Contact\n",
    "from datetime import timedelta, date\n",
    "import datetime"
   ]
  },
  {
   "cell_type": "code",
   "execution_count": 6,
   "id": "0737573a",
   "metadata": {},
   "outputs": [],
   "source": [
    "now = datetime.datetime.now()"
   ]
  },
  {
   "cell_type": "code",
   "execution_count": 7,
   "id": "436f8466",
   "metadata": {},
   "outputs": [],
   "source": [
    "leads = list(Lead.objects.filter(filters=[filters.DateRangeFilter(\"updated_at\")(now-timedelta(days=2), now)]))"
   ]
  },
  {
   "cell_type": "markdown",
   "id": "c47c8064",
   "metadata": {},
   "source": [
    "# Events"
   ]
  },
  {
   "cell_type": "code",
   "execution_count": 4,
   "id": "36e25032",
   "metadata": {},
   "outputs": [],
   "source": [
    "from amocrm.v2 import filters\n",
    "from amocrm.v2 import Event\n",
    "from datetime import timedelta, date\n",
    "import datetime, time"
   ]
  },
  {
   "cell_type": "code",
   "execution_count": 4,
   "id": "000c786d",
   "metadata": {},
   "outputs": [],
   "source": [
    "now = datetime.datetime.now()"
   ]
  },
  {
   "cell_type": "code",
   "execution_count": 5,
   "id": "63f01f38",
   "metadata": {},
   "outputs": [],
   "source": [
    "from requests.adapters import HTTPAdapter\n",
    "from amocrm.v2.interaction import _session\n",
    "_session.mount(\"https://\", HTTPAdapter(max_retries=5))"
   ]
  },
  {
   "cell_type": "markdown",
   "id": "9a9be987",
   "metadata": {},
   "source": [
    "### TODO updated_at vs created_at"
   ]
  },
  {
   "cell_type": "code",
   "execution_count": 28,
   "id": "8ebfcdf3",
   "metadata": {},
   "outputs": [
    {
     "data": {
      "text/plain": [
       "datetime.datetime(2022, 7, 24, 0, 7, 57, 584719)"
      ]
     },
     "execution_count": 28,
     "metadata": {},
     "output_type": "execute_result"
    }
   ],
   "source": [
    "datetime.datetime.today()"
   ]
  },
  {
   "cell_type": "code",
   "execution_count": 16,
   "id": "2e70b01a",
   "metadata": {},
   "outputs": [
    {
     "data": {
      "text/plain": [
       "datetime.datetime(2022, 7, 22, 22, 30)"
      ]
     },
     "execution_count": 16,
     "metadata": {},
     "output_type": "execute_result"
    }
   ],
   "source": [
    "datetime.datetime(2022, 7, 23, 0, 0) - timedelta(minutes=90)"
   ]
  },
  {
   "cell_type": "code",
   "execution_count": 11,
   "id": "007e8f79",
   "metadata": {},
   "outputs": [],
   "source": [
    "start = time.time()\n",
    "events = list(Event.objects.filter(\n",
    "    filters=[\n",
    "        filters.DateRangeFilter(\"created_at\")(now-timedelta(days=7), now),\n",
    "        filters.SingleFilter(\"type\")(\"lead_status_changed\")\n",
    "    ]\n",
    "))\n",
    "end = time.time()"
   ]
  },
  {
   "cell_type": "code",
   "execution_count": 8,
   "id": "74063842",
   "metadata": {},
   "outputs": [],
   "source": [
    "events = list(Event.objects.all())"
   ]
  },
  {
   "cell_type": "code",
   "execution_count": 5,
   "id": "0a93159c",
   "metadata": {},
   "outputs": [
    {
     "data": {
      "text/plain": [
       "0.010429100195566813"
      ]
     },
     "execution_count": 5,
     "metadata": {},
     "output_type": "execute_result"
    }
   ],
   "source": [
    "(end - start) / 60"
   ]
  },
  {
   "cell_type": "code",
   "execution_count": 12,
   "id": "8ad20e96",
   "metadata": {},
   "outputs": [
    {
     "data": {
      "text/plain": [
       "50"
      ]
     },
     "execution_count": 12,
     "metadata": {},
     "output_type": "execute_result"
    }
   ],
   "source": [
    "len(events)"
   ]
  },
  {
   "cell_type": "markdown",
   "id": "e8a3e199",
   "metadata": {},
   "source": [
    "# Parsing Events"
   ]
  },
  {
   "cell_type": "code",
   "execution_count": 40,
   "id": "883e06cc",
   "metadata": {},
   "outputs": [],
   "source": [
    "import pandas as pd"
   ]
  },
  {
   "cell_type": "code",
   "execution_count": 26,
   "id": "2d783953",
   "metadata": {},
   "outputs": [],
   "source": [
    "events_dicts = []\n",
    "for event in events:\n",
    "    events_dicts.append(event.__dict__['_data'])"
   ]
  },
  {
   "cell_type": "code",
   "execution_count": 27,
   "id": "541656fb",
   "metadata": {},
   "outputs": [
    {
     "data": {
      "text/plain": [
       "dict_keys(['id', 'type', 'entity_id', 'entity_type', 'created_by', 'created_at', 'value_after', 'value_before', 'account_id', '_links', '_embedded'])"
      ]
     },
     "execution_count": 27,
     "metadata": {},
     "output_type": "execute_result"
    }
   ],
   "source": [
    "events_dicts[0].keys()"
   ]
  },
  {
   "cell_type": "code",
   "execution_count": 28,
   "id": "a46b1644",
   "metadata": {},
   "outputs": [
    {
     "data": {
      "text/plain": [
       "{'id': 41469585, 'pipeline_id': 4483554}"
      ]
     },
     "execution_count": 28,
     "metadata": {},
     "output_type": "execute_result"
    }
   ],
   "source": [
    "events_dicts[0][\"value_after\"][0][\"lead_status\"]"
   ]
  },
  {
   "cell_type": "code",
   "execution_count": 29,
   "id": "e1310f55",
   "metadata": {},
   "outputs": [],
   "source": [
    "for event in events_dicts:\n",
    "    event[\"id_status_before\"] = event[\"value_before\"][0][\"lead_status\"][\"id\"]\n",
    "    event[\"id_pipeline_before\"] = event[\"value_before\"][0][\"lead_status\"][\"pipeline_id\"]\n",
    "    event[\"id_status_after\"] = event[\"value_after\"][0][\"lead_status\"][\"id\"]\n",
    "    event[\"id_pipeline_after\"] = event[\"value_after\"][0][\"lead_status\"][\"pipeline_id\"]"
   ]
  },
  {
   "cell_type": "code",
   "execution_count": 30,
   "id": "7579474f",
   "metadata": {},
   "outputs": [],
   "source": [
    "df_events = pd.DataFrame(events_dicts)"
   ]
  },
  {
   "cell_type": "code",
   "execution_count": 31,
   "id": "4f80b038",
   "metadata": {},
   "outputs": [],
   "source": [
    "df_events.drop([\n",
    "    \"value_after\", \"value_before\", \"_links\", \"_embedded\"\n",
    "], axis=1, inplace=True)\n",
    "df_events[\"created_at\"] = pd.to_datetime(df_events[\"created_at\"], unit=\"s\")"
   ]
  },
  {
   "cell_type": "code",
   "execution_count": 38,
   "id": "21c3718a",
   "metadata": {},
   "outputs": [],
   "source": [
    "df_events.to_csv(\"evetns.csv\", index=False)"
   ]
  },
  {
   "cell_type": "markdown",
   "id": "3a4e62ce",
   "metadata": {},
   "source": [
    "# Events to BQ"
   ]
  },
  {
   "cell_type": "code",
   "execution_count": 4,
   "id": "9e36d1e9",
   "metadata": {},
   "outputs": [],
   "source": [
    "import os\n",
    "os.environ[\"GOOGLE_APPLICATION_CREDENTIALS\"]=\"./oddjob-db-2007-759fe782b144.json\""
   ]
  },
  {
   "cell_type": "code",
   "execution_count": 5,
   "id": "8f9b1079",
   "metadata": {},
   "outputs": [
    {
     "name": "stdout",
     "output_type": "stream",
     "text": [
      "./oddjob-db-2007-759fe782b144.json\r\n"
     ]
    }
   ],
   "source": [
    "! echo $GOOGLE_APPLICATION_CREDENTIALS"
   ]
  },
  {
   "cell_type": "code",
   "execution_count": 6,
   "id": "d5b4bb37",
   "metadata": {},
   "outputs": [],
   "source": [
    "from google.cloud import bigquery"
   ]
  },
  {
   "cell_type": "code",
   "execution_count": 7,
   "id": "482c65dc",
   "metadata": {},
   "outputs": [],
   "source": [
    "client = bigquery.Client()"
   ]
  },
  {
   "cell_type": "code",
   "execution_count": 34,
   "id": "5b52d604",
   "metadata": {},
   "outputs": [],
   "source": [
    "df_events.to_gbq(\n",
    "    \"franchise_oddjob.dw_amocrm_fr_events\", if_exists=\"append\"\n",
    ")"
   ]
  },
  {
   "cell_type": "markdown",
   "id": "b49c8c4f",
   "metadata": {},
   "source": [
    "# Getting pipelines"
   ]
  },
  {
   "cell_type": "code",
   "execution_count": 3,
   "id": "84094dcf",
   "metadata": {},
   "outputs": [],
   "source": [
    "from amocrm.v2 import Pipeline"
   ]
  },
  {
   "cell_type": "code",
   "execution_count": 6,
   "id": "92f39046",
   "metadata": {},
   "outputs": [],
   "source": [
    "pipelines = list(Pipeline.objects.all())"
   ]
  },
  {
   "cell_type": "code",
   "execution_count": 9,
   "id": "e9837b16",
   "metadata": {},
   "outputs": [],
   "source": [
    "pipelines_dicts = []\n",
    "for pipeline in pipelines:\n",
    "    pipelines_dicts.append(pipeline.__dict__['_data'])"
   ]
  },
  {
   "cell_type": "code",
   "execution_count": 7,
   "id": "b35bb0e1",
   "metadata": {},
   "outputs": [],
   "source": [
    "import pandas as pd"
   ]
  },
  {
   "cell_type": "code",
   "execution_count": 10,
   "id": "25d41196",
   "metadata": {},
   "outputs": [],
   "source": [
    "df_pipelines = pd.DataFrame(pipelines_dicts)"
   ]
  },
  {
   "cell_type": "markdown",
   "id": "b3602d04",
   "metadata": {},
   "source": [
    "### TODO statuses to separate table"
   ]
  },
  {
   "cell_type": "code",
   "execution_count": 11,
   "id": "a063cc5d",
   "metadata": {},
   "outputs": [],
   "source": [
    "df_pipelines.drop([\"_links\", \"_embedded\"], axis=1, inplace=True)"
   ]
  },
  {
   "cell_type": "code",
   "execution_count": 12,
   "id": "7bee7f74",
   "metadata": {},
   "outputs": [],
   "source": [
    "import os\n",
    "os.environ[\"GOOGLE_APPLICATION_CREDENTIALS\"]=\"./oddjob-db-2007-759fe782b144.json\""
   ]
  },
  {
   "cell_type": "code",
   "execution_count": 13,
   "id": "2f7d9161",
   "metadata": {},
   "outputs": [],
   "source": [
    "from google.cloud import bigquery\n",
    "client = bigquery.Client()"
   ]
  },
  {
   "cell_type": "code",
   "execution_count": 15,
   "id": "23033494",
   "metadata": {},
   "outputs": [],
   "source": [
    "df_pipelines.to_gbq(\n",
    "    \"franchise_oddjob.dw_amocrm_fr_pipelines\",\n",
    "    if_exists=\"replace\"\n",
    ")"
   ]
  },
  {
   "cell_type": "code",
   "execution_count": null,
   "id": "e9c1a4c9",
   "metadata": {},
   "outputs": [],
   "source": []
  },
  {
   "cell_type": "markdown",
   "id": "b9efa158",
   "metadata": {},
   "source": [
    "# Calls"
   ]
  },
  {
   "cell_type": "code",
   "execution_count": 25,
   "id": "725cce02",
   "metadata": {},
   "outputs": [],
   "source": [
    "from amocrm.v2 import Call, CallStatus, CallDuration"
   ]
  },
  {
   "cell_type": "code",
   "execution_count": 37,
   "id": "57ff14b8",
   "metadata": {},
   "outputs": [
    {
     "ename": "TypeError",
     "evalue": "'NotImplementedType' object is not callable",
     "output_type": "error",
     "traceback": [
      "\u001b[0;31m---------------------------------------------------------------------------\u001b[0m",
      "\u001b[0;31mTypeError\u001b[0m                                 Traceback (most recent call last)",
      "Input \u001b[0;32mIn [37]\u001b[0m, in \u001b[0;36m<module>\u001b[0;34m\u001b[0m\n\u001b[0;32m----> 1\u001b[0m \u001b[43mCall\u001b[49m\u001b[38;5;241;43m.\u001b[39;49m\u001b[43mget_all\u001b[49m\u001b[43m(\u001b[49m\u001b[38;5;124;43m'\u001b[39;49m\u001b[38;5;124;43mtest\u001b[39;49m\u001b[38;5;124;43m'\u001b[39;49m\u001b[43m)\u001b[49m\n",
      "File \u001b[0;32m/Library/Frameworks/Python.framework/Versions/3.10/lib/python3.10/site-packages/amocrm/v2/entity/call.py:78\u001b[0m, in \u001b[0;36mCall.get_all\u001b[0;34m(self, *args, **kwargs)\u001b[0m\n\u001b[1;32m     77\u001b[0m \u001b[38;5;28;01mdef\u001b[39;00m \u001b[38;5;21mget_all\u001b[39m(\u001b[38;5;28mself\u001b[39m, \u001b[38;5;241m*\u001b[39margs, \u001b[38;5;241m*\u001b[39m\u001b[38;5;241m*\u001b[39mkwargs):\n\u001b[0;32m---> 78\u001b[0m     \u001b[38;5;28;01mraise\u001b[39;00m \u001b[38;5;28;43mNotImplemented\u001b[39;49m\u001b[43m(\u001b[49m\u001b[43m)\u001b[49m\n",
      "\u001b[0;31mTypeError\u001b[0m: 'NotImplementedType' object is not callable"
     ]
    }
   ],
   "source": [
    "Call.get_all('test')"
   ]
  },
  {
   "cell_type": "markdown",
   "id": "6e124dfe",
   "metadata": {},
   "source": [
    "# Users"
   ]
  },
  {
   "cell_type": "code",
   "execution_count": 3,
   "id": "df47c82f",
   "metadata": {
    "ExecuteTime": {
     "end_time": "2022-08-09T14:53:56.081136Z",
     "start_time": "2022-08-09T14:53:56.078829Z"
    }
   },
   "outputs": [],
   "source": [
    "from amocrm.v2 import User"
   ]
  },
  {
   "cell_type": "code",
   "execution_count": 4,
   "id": "98b654a9",
   "metadata": {
    "ExecuteTime": {
     "end_time": "2022-08-09T14:53:58.344682Z",
     "start_time": "2022-08-09T14:53:57.245050Z"
    }
   },
   "outputs": [],
   "source": [
    "users = list(User.objects.all())"
   ]
  },
  {
   "cell_type": "code",
   "execution_count": 5,
   "id": "1a4e13ac",
   "metadata": {
    "ExecuteTime": {
     "end_time": "2022-08-09T14:53:58.385632Z",
     "start_time": "2022-08-09T14:53:58.366811Z"
    }
   },
   "outputs": [
    {
     "data": {
      "text/plain": [
       "[User(catalog_access = True, email = nikolay.k@gk-pr.ru, id = 600075, is_active = True, is_admin = True, is_free = False, lang = ru, mail_access = True, name = Персональное решение, status_rights = [{'entity_type': 'leads', 'pipeline_id': 15219, 'status_id': 23406784, 'rights': {'view': 'A', 'edit': 'A', 'delete': 'A'}}, {'entity_type': 'leads', 'pipeline_id': 1041060, 'status_id': 23406781, 'rights': {'view': 'A', 'edit': 'A', 'delete': 'A'}}, {'entity_type': 'leads', 'pipeline_id': 1045806, 'status_id': 23406787, 'rights': {'view': 'A', 'edit': 'A', 'delete': 'A'}}, {'entity_type': 'leads', 'pipeline_id': 1443795, 'status_id': 23406790, 'rights': {'view': 'A', 'edit': 'A', 'delete': 'A'}}, {'entity_type': 'leads', 'pipeline_id': 1520397, 'status_id': 23406793, 'rights': {'view': 'A', 'edit': 'A', 'delete': 'A'}}, {'entity_type': 'leads', 'pipeline_id': 1981812, 'status_id': 29378454, 'rights': {'view': 'A', 'edit': 'A', 'delete': 'A'}}, {'entity_type': 'leads', 'pipeline_id': 2180478, 'status_id': 30750402, 'rights': {'view': 'A', 'edit': 'A', 'delete': 'A'}}, {'entity_type': 'leads', 'pipeline_id': 3738408, 'status_id': 36227097, 'rights': {'view': 'A', 'edit': 'A', 'delete': 'A'}}, {'entity_type': 'leads', 'pipeline_id': 4359000, 'status_id': 40585662, 'rights': {'view': 'A', 'edit': 'A', 'delete': 'A'}}, {'entity_type': 'leads', 'pipeline_id': 4365495, 'status_id': 40632720, 'rights': {'view': 'A', 'edit': 'A', 'delete': 'A'}}, {'entity_type': 'leads', 'pipeline_id': 4483554, 'status_id': 41469441, 'rights': {'view': 'A', 'edit': 'A', 'delete': 'A'}}, {'entity_type': 'leads', 'pipeline_id': 4973208, 'status_id': 44893854, 'rights': {'view': 'A', 'edit': 'A', 'delete': 'A'}}, {'entity_type': 'leads', 'pipeline_id': 5299044, 'status_id': 47220489, 'rights': {'view': 'A', 'edit': 'A', 'delete': 'A'}}, {'entity_type': 'leads', 'pipeline_id': 5398521, 'status_id': 47937270, 'rights': {'view': 'A', 'edit': 'A', 'delete': 'A'}}, {'entity_type': 'leads', 'pipeline_id': 5463537, 'status_id': 48406344, 'rights': {'view': 'A', 'edit': 'A', 'delete': 'A'}}, {'entity_type': 'leads', 'pipeline_id': 5463789, 'status_id': 48408288, 'rights': {'view': 'A', 'edit': 'A', 'delete': 'A'}}, {'entity_type': 'leads', 'pipeline_id': 5504577, 'status_id': 48699729, 'rights': {'view': 'A', 'edit': 'A', 'delete': 'A'}}, {'entity_type': 'leads', 'pipeline_id': 5515518, 'status_id': 48778242, 'rights': {'view': 'A', 'edit': 'A', 'delete': 'A'}}, {'entity_type': 'leads', 'pipeline_id': 5609220, 'status_id': 49456941, 'rights': {'view': 'A', 'edit': 'A', 'delete': 'A'}}]),\n",
       " User(catalog_access = True, email = vladimir.zh@oddjob.email, id = 828267, is_active = True, is_admin = True, is_free = False, lang = ru, mail_access = True, name = Жаков Владимир, status_rights = [{'entity_type': 'leads', 'pipeline_id': 15219, 'status_id': 23406784, 'rights': {'view': 'A', 'edit': 'A', 'delete': 'A'}}, {'entity_type': 'leads', 'pipeline_id': 1041060, 'status_id': 23406781, 'rights': {'view': 'A', 'edit': 'A', 'delete': 'A'}}, {'entity_type': 'leads', 'pipeline_id': 1045806, 'status_id': 23406787, 'rights': {'view': 'A', 'edit': 'A', 'delete': 'A'}}, {'entity_type': 'leads', 'pipeline_id': 1443795, 'status_id': 23406790, 'rights': {'view': 'A', 'edit': 'A', 'delete': 'A'}}, {'entity_type': 'leads', 'pipeline_id': 1520397, 'status_id': 23406793, 'rights': {'view': 'A', 'edit': 'A', 'delete': 'A'}}, {'entity_type': 'leads', 'pipeline_id': 1981812, 'status_id': 29378454, 'rights': {'view': 'A', 'edit': 'A', 'delete': 'A'}}, {'entity_type': 'leads', 'pipeline_id': 2180478, 'status_id': 30750402, 'rights': {'view': 'A', 'edit': 'A', 'delete': 'A'}}, {'entity_type': 'leads', 'pipeline_id': 3738408, 'status_id': 36227097, 'rights': {'view': 'A', 'edit': 'A', 'delete': 'A'}}, {'entity_type': 'leads', 'pipeline_id': 4359000, 'status_id': 40585662, 'rights': {'view': 'A', 'edit': 'A', 'delete': 'A'}}, {'entity_type': 'leads', 'pipeline_id': 4365495, 'status_id': 40632720, 'rights': {'view': 'A', 'edit': 'A', 'delete': 'A'}}, {'entity_type': 'leads', 'pipeline_id': 4483554, 'status_id': 41469441, 'rights': {'view': 'A', 'edit': 'A', 'delete': 'A'}}, {'entity_type': 'leads', 'pipeline_id': 4973208, 'status_id': 44893854, 'rights': {'view': 'A', 'edit': 'A', 'delete': 'A'}}, {'entity_type': 'leads', 'pipeline_id': 5299044, 'status_id': 47220489, 'rights': {'view': 'A', 'edit': 'A', 'delete': 'A'}}, {'entity_type': 'leads', 'pipeline_id': 5398521, 'status_id': 47937270, 'rights': {'view': 'A', 'edit': 'A', 'delete': 'A'}}, {'entity_type': 'leads', 'pipeline_id': 5463537, 'status_id': 48406344, 'rights': {'view': 'A', 'edit': 'A', 'delete': 'A'}}, {'entity_type': 'leads', 'pipeline_id': 5463789, 'status_id': 48408288, 'rights': {'view': 'A', 'edit': 'A', 'delete': 'A'}}, {'entity_type': 'leads', 'pipeline_id': 5504577, 'status_id': 48699729, 'rights': {'view': 'A', 'edit': 'A', 'delete': 'A'}}, {'entity_type': 'leads', 'pipeline_id': 5515518, 'status_id': 48778242, 'rights': {'view': 'A', 'edit': 'A', 'delete': 'A'}}, {'entity_type': 'leads', 'pipeline_id': 5609220, 'status_id': 49456941, 'rights': {'view': 'A', 'edit': 'A', 'delete': 'A'}}]),\n",
       " User(catalog_access = False, email = vladislav.b@oddjob.email, id = 1440582, is_active = False, is_admin = False, is_free = False, lang = ru, mail_access = False, name = Владислав Брагин, status_rights = [{'entity_type': 'leads', 'pipeline_id': 15219, 'status_id': 23406784, 'rights': {'edit': 'D', 'view': 'D', 'delete': 'D'}}, {'entity_type': 'leads', 'pipeline_id': 1041060, 'status_id': 23406781, 'rights': {'edit': 'D', 'view': 'D', 'delete': 'D'}}, {'entity_type': 'leads', 'pipeline_id': 1045806, 'status_id': 23406787, 'rights': {'edit': 'D', 'view': 'D', 'delete': 'D'}}, {'entity_type': 'leads', 'pipeline_id': 1443795, 'status_id': 23406790, 'rights': {'edit': 'D', 'view': 'D', 'delete': 'D'}}, {'entity_type': 'leads', 'pipeline_id': 1520397, 'status_id': 23406793, 'rights': {'edit': 'D', 'view': 'D', 'delete': 'D'}}, {'entity_type': 'leads', 'pipeline_id': 1981812, 'status_id': 29378454, 'rights': {'edit': 'D', 'view': 'D', 'delete': 'D'}}]),\n",
       " User(catalog_access = False, email = oleg.gar@oddjob.email, id = 1769742, is_active = True, is_admin = False, is_free = False, lang = ru, mail_access = False, name = Олег Гарбуль, status_rights = [{'entity_type': 'leads', 'pipeline_id': 15219, 'status_id': 23406784, 'rights': {'view': 'D', 'edit': 'D', 'delete': 'D'}}, {'entity_type': 'leads', 'pipeline_id': 1041060, 'status_id': 23406781, 'rights': {'view': 'D', 'edit': 'D', 'delete': 'D'}}, {'entity_type': 'leads', 'pipeline_id': 1045806, 'status_id': 23406787, 'rights': {'view': 'D', 'edit': 'D', 'delete': 'D'}}, {'entity_type': 'leads', 'pipeline_id': 1443795, 'status_id': 23406790, 'rights': {'view': 'D', 'edit': 'D', 'delete': 'D'}}, {'entity_type': 'leads', 'pipeline_id': 1520397, 'status_id': 23406793, 'rights': {'view': 'D', 'edit': 'D', 'delete': 'D'}}, {'entity_type': 'leads', 'pipeline_id': 1981812, 'status_id': 29378454, 'rights': {'view': 'D', 'edit': 'D', 'delete': 'D'}}, {'entity_type': 'leads', 'pipeline_id': 2180478, 'status_id': 30750402, 'rights': {'view': 'D', 'edit': 'D', 'delete': 'D'}}, {'entity_type': 'leads', 'pipeline_id': 3738408, 'status_id': 36227097, 'rights': {'view': 'D', 'edit': 'D', 'delete': 'D'}}, {'entity_type': 'leads', 'pipeline_id': 4359000, 'status_id': 40585662, 'rights': {'view': 'D', 'edit': 'D', 'delete': 'D'}}, {'entity_type': 'leads', 'pipeline_id': 4365495, 'status_id': 40632720, 'rights': {'view': 'D', 'edit': 'D', 'delete': 'D'}}, {'entity_type': 'leads', 'pipeline_id': 4483554, 'status_id': 41469441, 'rights': {'view': 'D', 'edit': 'D', 'delete': 'D'}}, {'entity_type': 'leads', 'pipeline_id': 4973208, 'status_id': 44893854, 'rights': {'view': 'D', 'edit': 'D', 'delete': 'D'}}, {'entity_type': 'leads', 'pipeline_id': 5299044, 'status_id': 47220489, 'rights': {'view': 'D', 'edit': 'D', 'delete': 'D'}}, {'entity_type': 'leads', 'pipeline_id': 5398521, 'status_id': 47937270, 'rights': {'view': 'D', 'edit': 'D', 'delete': 'D'}}, {'entity_type': 'leads', 'pipeline_id': 5463537, 'status_id': 48406344, 'rights': {'view': 'D', 'edit': 'D', 'delete': 'D'}}, {'entity_type': 'leads', 'pipeline_id': 5463789, 'status_id': 48408288, 'rights': {'view': 'D', 'edit': 'D', 'delete': 'D'}}, {'entity_type': 'leads', 'pipeline_id': 5504577, 'status_id': 48699729, 'rights': {'view': 'D', 'edit': 'D', 'delete': 'D'}}, {'entity_type': 'leads', 'pipeline_id': 5515518, 'status_id': 48778242, 'rights': {'view': 'D', 'edit': 'D', 'delete': 'D'}}, {'entity_type': 'leads', 'pipeline_id': 5609220, 'status_id': 49456941, 'rights': {'view': 'D', 'edit': 'D', 'delete': 'D'}}]),\n",
       " User(catalog_access = False, email = aleksandra.k@oddjob.ru, id = 2775070, is_active = True, is_admin = False, is_free = False, lang = ru, mail_access = False, name = Александра Кочура, status_rights = [{'entity_type': 'leads', 'pipeline_id': 15219, 'status_id': 23406784, 'rights': {'view': 'A', 'edit': 'A', 'delete': 'A'}}, {'entity_type': 'leads', 'pipeline_id': 1041060, 'status_id': 23406781, 'rights': {'view': 'A', 'edit': 'A', 'delete': 'A'}}, {'entity_type': 'leads', 'pipeline_id': 1045806, 'status_id': 23406787, 'rights': {'view': 'A', 'edit': 'A', 'delete': 'A'}}, {'entity_type': 'leads', 'pipeline_id': 1443795, 'status_id': 23406790, 'rights': {'view': 'A', 'edit': 'A', 'delete': 'A'}}, {'entity_type': 'leads', 'pipeline_id': 1520397, 'status_id': 23406793, 'rights': {'view': 'A', 'edit': 'A', 'delete': 'A'}}, {'entity_type': 'leads', 'pipeline_id': 1981812, 'status_id': 29378454, 'rights': {'view': 'A', 'edit': 'A', 'delete': 'A'}}, {'entity_type': 'leads', 'pipeline_id': 2180478, 'status_id': 30750402, 'rights': {'view': 'D', 'edit': 'D', 'delete': 'D'}}, {'entity_type': 'leads', 'pipeline_id': 3738408, 'status_id': 36227097, 'rights': {'view': 'D', 'edit': 'D', 'delete': 'D'}}, {'entity_type': 'leads', 'pipeline_id': 4359000, 'status_id': 40585662, 'rights': {'view': 'D', 'edit': 'D', 'delete': 'D'}}, {'entity_type': 'leads', 'pipeline_id': 4365495, 'status_id': 40632720, 'rights': {'view': 'D', 'edit': 'D', 'delete': 'D'}}, {'entity_type': 'leads', 'pipeline_id': 4483554, 'status_id': 41469441, 'rights': {'view': 'D', 'edit': 'D', 'delete': 'D'}}, {'entity_type': 'leads', 'pipeline_id': 4973208, 'status_id': 44893854, 'rights': {'view': 'D', 'edit': 'D', 'delete': 'D'}}, {'entity_type': 'leads', 'pipeline_id': 5299044, 'status_id': 47220489, 'rights': {'view': 'D', 'edit': 'D', 'delete': 'D'}}, {'entity_type': 'leads', 'pipeline_id': 5398521, 'status_id': 47937270, 'rights': {'view': 'D', 'edit': 'D', 'delete': 'D'}}, {'entity_type': 'leads', 'pipeline_id': 5463537, 'status_id': 48406344, 'rights': {'view': 'D', 'edit': 'D', 'delete': 'D'}}, {'entity_type': 'leads', 'pipeline_id': 5463789, 'status_id': 48408288, 'rights': {'view': 'D', 'edit': 'D', 'delete': 'D'}}, {'entity_type': 'leads', 'pipeline_id': 5504577, 'status_id': 48699729, 'rights': {'view': 'D', 'edit': 'D', 'delete': 'D'}}, {'entity_type': 'leads', 'pipeline_id': 5515518, 'status_id': 48778242, 'rights': {'view': 'D', 'edit': 'D', 'delete': 'D'}}, {'entity_type': 'leads', 'pipeline_id': 5609220, 'status_id': 49456941, 'rights': {'view': 'D', 'edit': 'D', 'delete': 'D'}}]),\n",
       " User(catalog_access = False, email = sergey@oddjob.email, id = 2907600, is_active = True, is_admin = False, is_free = False, lang = ru, mail_access = False, name = Соловьев Сергей, status_rights = [{'entity_type': 'leads', 'pipeline_id': 15219, 'status_id': 23406784, 'rights': {'view': 'A', 'edit': 'A', 'delete': 'A'}}, {'entity_type': 'leads', 'pipeline_id': 1041060, 'status_id': 23406781, 'rights': {'view': 'A', 'edit': 'A', 'delete': 'A'}}, {'entity_type': 'leads', 'pipeline_id': 1045806, 'status_id': 23406787, 'rights': {'view': 'A', 'edit': 'A', 'delete': 'A'}}, {'entity_type': 'leads', 'pipeline_id': 1443795, 'status_id': 23406790, 'rights': {'view': 'A', 'edit': 'A', 'delete': 'A'}}, {'entity_type': 'leads', 'pipeline_id': 1520397, 'status_id': 23406793, 'rights': {'view': 'A', 'edit': 'A', 'delete': 'A'}}, {'entity_type': 'leads', 'pipeline_id': 1981812, 'status_id': 29378454, 'rights': {'view': 'A', 'edit': 'A', 'delete': 'A'}}, {'entity_type': 'leads', 'pipeline_id': 2180478, 'status_id': 30750402, 'rights': {'view': 'A', 'edit': 'A', 'delete': 'A'}}, {'entity_type': 'leads', 'pipeline_id': 3738408, 'status_id': 36227097, 'rights': {'view': 'A', 'edit': 'A', 'delete': 'A'}}, {'entity_type': 'leads', 'pipeline_id': 4359000, 'status_id': 142, 'rights': {'view': 'A', 'edit': 'A', 'delete': 'A', 'export': 'A'}}, {'entity_type': 'leads', 'pipeline_id': 4359000, 'status_id': 143, 'rights': {'view': 'A', 'edit': 'A', 'delete': 'A', 'export': 'A'}}, {'entity_type': 'leads', 'pipeline_id': 4359000, 'status_id': 40585662, 'rights': {'view': 'A', 'edit': 'A', 'delete': 'A'}}, {'entity_type': 'leads', 'pipeline_id': 4359000, 'status_id': 40585665, 'rights': {'view': 'A', 'edit': 'A', 'delete': 'A', 'export': 'A'}}, {'entity_type': 'leads', 'pipeline_id': 4359000, 'status_id': 40585968, 'rights': {'view': 'A', 'edit': 'A', 'delete': 'A', 'export': 'A'}}, {'entity_type': 'leads', 'pipeline_id': 4359000, 'status_id': 40585971, 'rights': {'view': 'A', 'edit': 'A', 'delete': 'A', 'export': 'A'}}, {'entity_type': 'leads', 'pipeline_id': 4359000, 'status_id': 40585998, 'rights': {'view': 'A', 'edit': 'A', 'delete': 'A', 'export': 'A'}}, {'entity_type': 'leads', 'pipeline_id': 4359000, 'status_id': 40589181, 'rights': {'view': 'A', 'edit': 'A', 'delete': 'A', 'export': 'A'}}, {'entity_type': 'leads', 'pipeline_id': 4365495, 'status_id': 40632720, 'rights': {'view': 'D', 'edit': 'D', 'delete': 'D'}}, {'entity_type': 'leads', 'pipeline_id': 4483554, 'status_id': 41469441, 'rights': {'view': 'D', 'edit': 'D', 'delete': 'D'}}, {'entity_type': 'leads', 'pipeline_id': 4973208, 'status_id': 44893854, 'rights': {'view': 'D', 'edit': 'D', 'delete': 'D'}}, {'entity_type': 'leads', 'pipeline_id': 5299044, 'status_id': 47220489, 'rights': {'view': 'D', 'edit': 'D', 'delete': 'D'}}, {'entity_type': 'leads', 'pipeline_id': 5398521, 'status_id': 47937270, 'rights': {'view': 'D', 'edit': 'D', 'delete': 'D'}}, {'entity_type': 'leads', 'pipeline_id': 5463537, 'status_id': 48406344, 'rights': {'view': 'D', 'edit': 'D', 'delete': 'D'}}, {'entity_type': 'leads', 'pipeline_id': 5463789, 'status_id': 48408288, 'rights': {'view': 'D', 'edit': 'D', 'delete': 'D'}}, {'entity_type': 'leads', 'pipeline_id': 5504577, 'status_id': 48699729, 'rights': {'view': 'D', 'edit': 'D', 'delete': 'D'}}, {'entity_type': 'leads', 'pipeline_id': 5515518, 'status_id': 48778242, 'rights': {'view': 'D', 'edit': 'D', 'delete': 'D'}}, {'entity_type': 'leads', 'pipeline_id': 5609220, 'status_id': 49456941, 'rights': {'view': 'D', 'edit': 'D', 'delete': 'D'}}]),\n",
       " User(catalog_access = False, email = viktoriya.k@oddjob.ru, id = 3364261, is_active = False, is_admin = False, is_free = False, lang = ru, mail_access = False, name = Виктория Карпушкина, status_rights = [{'entity_type': 'leads', 'pipeline_id': 15219, 'status_id': 23406784, 'rights': {'edit': 'D', 'view': 'D', 'delete': 'D'}}, {'entity_type': 'leads', 'pipeline_id': 1041060, 'status_id': 23406781, 'rights': {'edit': 'D', 'view': 'D', 'delete': 'D'}}, {'entity_type': 'leads', 'pipeline_id': 1045806, 'status_id': 23406787, 'rights': {'edit': 'D', 'view': 'D', 'delete': 'D'}}, {'entity_type': 'leads', 'pipeline_id': 1443795, 'status_id': 23406790, 'rights': {'edit': 'D', 'view': 'D', 'delete': 'D'}}, {'entity_type': 'leads', 'pipeline_id': 1520397, 'status_id': 23406793, 'rights': {'edit': 'D', 'view': 'D', 'delete': 'D'}}, {'entity_type': 'leads', 'pipeline_id': 1981812, 'status_id': 29378454, 'rights': {'edit': 'D', 'view': 'D', 'delete': 'D'}}]),\n",
       " User(catalog_access = False, email = ilya.k@oddjob.ru, id = 3653373, is_active = False, is_admin = False, is_free = False, lang = ru, mail_access = False, name = Илья Кожухаров, status_rights = [{'entity_type': 'leads', 'pipeline_id': 15219, 'status_id': 23406784, 'rights': {'edit': 'D', 'view': 'D', 'delete': 'D'}}, {'entity_type': 'leads', 'pipeline_id': 1041060, 'status_id': 23406781, 'rights': {'edit': 'D', 'view': 'D', 'delete': 'D'}}, {'entity_type': 'leads', 'pipeline_id': 1045806, 'status_id': 23406787, 'rights': {'edit': 'D', 'view': 'D', 'delete': 'D'}}, {'entity_type': 'leads', 'pipeline_id': 1443795, 'status_id': 23406790, 'rights': {'edit': 'D', 'view': 'D', 'delete': 'D'}}, {'entity_type': 'leads', 'pipeline_id': 1520397, 'status_id': 23406793, 'rights': {'edit': 'D', 'view': 'D', 'delete': 'D'}}, {'entity_type': 'leads', 'pipeline_id': 1981812, 'status_id': 29378454, 'rights': {'edit': 'D', 'view': 'D', 'delete': 'D'}}]),\n",
       " User(catalog_access = False, email = diana.z@oddjob.ru, id = 3936480, is_active = False, is_admin = False, is_free = False, lang = ru, mail_access = False, name = Зейналова Диана, status_rights = [{'entity_type': 'leads', 'pipeline_id': 15219, 'status_id': 23406784, 'rights': {'edit': 'D', 'view': 'D', 'delete': 'D'}}, {'entity_type': 'leads', 'pipeline_id': 1041060, 'status_id': 23406781, 'rights': {'edit': 'D', 'view': 'D', 'delete': 'D'}}, {'entity_type': 'leads', 'pipeline_id': 1045806, 'status_id': 23406787, 'rights': {'edit': 'D', 'view': 'D', 'delete': 'D'}}, {'entity_type': 'leads', 'pipeline_id': 1443795, 'status_id': 23406790, 'rights': {'edit': 'D', 'view': 'D', 'delete': 'D'}}, {'entity_type': 'leads', 'pipeline_id': 1520397, 'status_id': 23406793, 'rights': {'edit': 'D', 'view': 'D', 'delete': 'D'}}, {'entity_type': 'leads', 'pipeline_id': 1981812, 'status_id': 29378454, 'rights': {'edit': 'D', 'view': 'D', 'delete': 'D'}}]),\n",
       " User(catalog_access = False, email = sergey.m@oddjob.email, id = 5793123, is_active = True, is_admin = False, is_free = False, lang = ru, mail_access = False, name = Сергей Миньков, status_rights = [{'entity_type': 'leads', 'pipeline_id': 15219, 'status_id': 23406784, 'rights': {'edit': 'D', 'view': 'D', 'delete': 'D'}}, {'entity_type': 'leads', 'pipeline_id': 1041060, 'status_id': 23406781, 'rights': {'edit': 'D', 'view': 'D', 'delete': 'D'}}, {'entity_type': 'leads', 'pipeline_id': 1045806, 'status_id': 23406787, 'rights': {'edit': 'D', 'view': 'D', 'delete': 'D'}}, {'entity_type': 'leads', 'pipeline_id': 1443795, 'status_id': 23406790, 'rights': {'edit': 'D', 'view': 'D', 'delete': 'D'}}, {'entity_type': 'leads', 'pipeline_id': 1520397, 'status_id': 23406793, 'rights': {'edit': 'D', 'view': 'D', 'delete': 'D'}}, {'entity_type': 'leads', 'pipeline_id': 1981812, 'status_id': 29378454, 'rights': {'edit': 'D', 'view': 'D', 'delete': 'D'}}]),\n",
       " User(catalog_access = False, email = sveta.d@oddjob.email, id = 5936766, is_active = True, is_admin = False, is_free = False, lang = ru, mail_access = False, name = Светлана Домацкая, status_rights = [{'entity_type': 'leads', 'pipeline_id': 15219, 'status_id': 142, 'rights': {'view': 'D', 'edit': 'D', 'delete': 'D', 'export': 'D'}}, {'entity_type': 'leads', 'pipeline_id': 15219, 'status_id': 143, 'rights': {'view': 'D', 'edit': 'D', 'delete': 'D', 'export': 'D'}}, {'entity_type': 'leads', 'pipeline_id': 15219, 'status_id': 7712398, 'rights': {'view': 'D', 'edit': 'D', 'delete': 'D', 'export': 'D'}}, {'entity_type': 'leads', 'pipeline_id': 15219, 'status_id': 8134770, 'rights': {'view': 'D', 'edit': 'D', 'delete': 'D', 'export': 'D'}}, {'entity_type': 'leads', 'pipeline_id': 15219, 'status_id': 9223167, 'rights': {'view': 'D', 'edit': 'D', 'delete': 'D', 'export': 'D'}}, {'entity_type': 'leads', 'pipeline_id': 15219, 'status_id': 9364182, 'rights': {'view': 'D', 'edit': 'D', 'delete': 'D', 'export': 'D'}}, {'entity_type': 'leads', 'pipeline_id': 15219, 'status_id': 16491444, 'rights': {'view': 'D', 'edit': 'D', 'delete': 'D', 'export': 'D'}}, {'entity_type': 'leads', 'pipeline_id': 15219, 'status_id': 17511873, 'rights': {'view': 'D', 'edit': 'D', 'delete': 'D', 'export': 'D'}}, {'entity_type': 'leads', 'pipeline_id': 15219, 'status_id': 17512116, 'rights': {'view': 'D', 'edit': 'D', 'delete': 'D', 'export': 'D'}}, {'entity_type': 'leads', 'pipeline_id': 15219, 'status_id': 17512119, 'rights': {'view': 'D', 'edit': 'D', 'delete': 'D', 'export': 'D'}}, {'entity_type': 'leads', 'pipeline_id': 15219, 'status_id': 17512122, 'rights': {'view': 'D', 'edit': 'D', 'delete': 'D', 'export': 'D'}}, {'entity_type': 'leads', 'pipeline_id': 15219, 'status_id': 18019545, 'rights': {'view': 'D', 'edit': 'D', 'delete': 'D', 'export': 'D'}}, {'entity_type': 'leads', 'pipeline_id': 15219, 'status_id': 23406784, 'rights': {'view': 'D', 'edit': 'D', 'delete': 'D'}}, {'entity_type': 'leads', 'pipeline_id': 1041060, 'status_id': 142, 'rights': {'view': 'D', 'edit': 'D', 'delete': 'D', 'export': 'D'}}, {'entity_type': 'leads', 'pipeline_id': 1041060, 'status_id': 18842952, 'rights': {'view': 'D', 'edit': 'D', 'delete': 'D', 'export': 'D'}}, {'entity_type': 'leads', 'pipeline_id': 1041060, 'status_id': 18843321, 'rights': {'view': 'D', 'edit': 'D', 'delete': 'D', 'export': 'D'}}, {'entity_type': 'leads', 'pipeline_id': 1041060, 'status_id': 20849664, 'rights': {'view': 'D', 'edit': 'D', 'delete': 'D', 'export': 'D'}}, {'entity_type': 'leads', 'pipeline_id': 1041060, 'status_id': 23406781, 'rights': {'view': 'D', 'edit': 'D', 'delete': 'D'}}, {'entity_type': 'leads', 'pipeline_id': 1045806, 'status_id': 23406787, 'rights': {'view': 'D', 'edit': 'D', 'delete': 'D'}}, {'entity_type': 'leads', 'pipeline_id': 1443795, 'status_id': 23406790, 'rights': {'view': 'D', 'edit': 'D', 'delete': 'D'}}, {'entity_type': 'leads', 'pipeline_id': 1520397, 'status_id': 23406793, 'rights': {'view': 'D', 'edit': 'D', 'delete': 'D'}}, {'entity_type': 'leads', 'pipeline_id': 1981812, 'status_id': 29378454, 'rights': {'view': 'D', 'edit': 'D', 'delete': 'D'}}, {'entity_type': 'leads', 'pipeline_id': 2180478, 'status_id': 30750402, 'rights': {'view': 'D', 'edit': 'D', 'delete': 'D'}}, {'entity_type': 'leads', 'pipeline_id': 3738408, 'status_id': 36227097, 'rights': {'view': 'D', 'edit': 'D', 'delete': 'D'}}, {'entity_type': 'leads', 'pipeline_id': 4359000, 'status_id': 40585662, 'rights': {'view': 'D', 'edit': 'D', 'delete': 'D'}}, {'entity_type': 'leads', 'pipeline_id': 4365495, 'status_id': 40632720, 'rights': {'view': 'D', 'edit': 'D', 'delete': 'D'}}, {'entity_type': 'leads', 'pipeline_id': 4483554, 'status_id': 41469441, 'rights': {'view': 'D', 'edit': 'D', 'delete': 'D'}}, {'entity_type': 'leads', 'pipeline_id': 4973208, 'status_id': 44893854, 'rights': {'view': 'D', 'edit': 'D', 'delete': 'D'}}, {'entity_type': 'leads', 'pipeline_id': 5299044, 'status_id': 47220489, 'rights': {'view': 'D', 'edit': 'D', 'delete': 'D'}}, {'entity_type': 'leads', 'pipeline_id': 5398521, 'status_id': 47937270, 'rights': {'view': 'D', 'edit': 'D', 'delete': 'D'}}, {'entity_type': 'leads', 'pipeline_id': 5463537, 'status_id': 48406344, 'rights': {'view': 'D', 'edit': 'D', 'delete': 'D'}}, {'entity_type': 'leads', 'pipeline_id': 5463789, 'status_id': 48408288, 'rights': {'view': 'D', 'edit': 'D', 'delete': 'D'}}, {'entity_type': 'leads', 'pipeline_id': 5504577, 'status_id': 48699729, 'rights': {'view': 'D', 'edit': 'D', 'delete': 'D'}}, {'entity_type': 'leads', 'pipeline_id': 5515518, 'status_id': 48778242, 'rights': {'view': 'D', 'edit': 'D', 'delete': 'D'}}, {'entity_type': 'leads', 'pipeline_id': 5609220, 'status_id': 49456941, 'rights': {'view': 'D', 'edit': 'D', 'delete': 'D'}}]),\n",
       " User(catalog_access = False, email = georgy.p@oddjob.email, id = 6188934, is_active = False, is_admin = False, is_free = False, lang = ru, mail_access = False, name = Прохоров Георгий, status_rights = [{'entity_type': 'leads', 'pipeline_id': 15219, 'status_id': 23406784, 'rights': {'edit': 'D', 'view': 'D', 'delete': 'D'}}, {'entity_type': 'leads', 'pipeline_id': 1041060, 'status_id': 23406781, 'rights': {'edit': 'D', 'view': 'D', 'delete': 'D'}}, {'entity_type': 'leads', 'pipeline_id': 1045806, 'status_id': 23406787, 'rights': {'edit': 'D', 'view': 'D', 'delete': 'D'}}, {'entity_type': 'leads', 'pipeline_id': 1443795, 'status_id': 23406790, 'rights': {'edit': 'D', 'view': 'D', 'delete': 'D'}}, {'entity_type': 'leads', 'pipeline_id': 1520397, 'status_id': 23406793, 'rights': {'edit': 'D', 'view': 'D', 'delete': 'D'}}, {'entity_type': 'leads', 'pipeline_id': 1981812, 'status_id': 29378454, 'rights': {'edit': 'D', 'view': 'D', 'delete': 'D'}}]),\n",
       " User(catalog_access = False, email = sergey.z@oddjob.email, id = 6256095, is_active = False, is_admin = False, is_free = False, lang = ru, mail_access = False, name = Сергей Зверев, status_rights = [{'entity_type': 'leads', 'pipeline_id': 15219, 'status_id': 23406784, 'rights': {'edit': 'D', 'view': 'D', 'delete': 'D'}}, {'entity_type': 'leads', 'pipeline_id': 1041060, 'status_id': 23406781, 'rights': {'edit': 'D', 'view': 'D', 'delete': 'D'}}, {'entity_type': 'leads', 'pipeline_id': 1045806, 'status_id': 23406787, 'rights': {'edit': 'D', 'view': 'D', 'delete': 'D'}}, {'entity_type': 'leads', 'pipeline_id': 1443795, 'status_id': 23406790, 'rights': {'edit': 'D', 'view': 'D', 'delete': 'D'}}, {'entity_type': 'leads', 'pipeline_id': 1520397, 'status_id': 23406793, 'rights': {'edit': 'D', 'view': 'D', 'delete': 'D'}}, {'entity_type': 'leads', 'pipeline_id': 1981812, 'status_id': 29378454, 'rights': {'edit': 'D', 'view': 'D', 'delete': 'D'}}]),\n",
       " User(catalog_access = False, email = tatyana.s@oddjob.ru, id = 6395010, is_active = False, is_admin = False, is_free = False, lang = ru, mail_access = False, name = Татьяна Снытина, status_rights = [{'entity_type': 'leads', 'pipeline_id': 15219, 'status_id': 23406784, 'rights': {'edit': 'D', 'view': 'D', 'delete': 'D'}}, {'entity_type': 'leads', 'pipeline_id': 1041060, 'status_id': 23406781, 'rights': {'edit': 'D', 'view': 'D', 'delete': 'D'}}, {'entity_type': 'leads', 'pipeline_id': 1045806, 'status_id': 23406787, 'rights': {'edit': 'D', 'view': 'D', 'delete': 'D'}}, {'entity_type': 'leads', 'pipeline_id': 1443795, 'status_id': 23406790, 'rights': {'edit': 'D', 'view': 'D', 'delete': 'D'}}, {'entity_type': 'leads', 'pipeline_id': 1520397, 'status_id': 23406793, 'rights': {'edit': 'D', 'view': 'D', 'delete': 'D'}}, {'entity_type': 'leads', 'pipeline_id': 1981812, 'status_id': 29378454, 'rights': {'edit': 'D', 'view': 'D', 'delete': 'D'}}]),\n",
       " User(catalog_access = False, email = irina.z@oddjob.ru, id = 6463335, is_active = False, is_admin = False, is_free = False, lang = ru, mail_access = False, name = Ирина Зубец, status_rights = [{'entity_type': 'leads', 'pipeline_id': 15219, 'status_id': 23406784, 'rights': {'edit': 'D', 'view': 'D', 'delete': 'D'}}, {'entity_type': 'leads', 'pipeline_id': 1041060, 'status_id': 23406781, 'rights': {'edit': 'D', 'view': 'D', 'delete': 'D'}}, {'entity_type': 'leads', 'pipeline_id': 1045806, 'status_id': 23406787, 'rights': {'edit': 'D', 'view': 'D', 'delete': 'D'}}, {'entity_type': 'leads', 'pipeline_id': 1443795, 'status_id': 23406790, 'rights': {'edit': 'D', 'view': 'D', 'delete': 'D'}}, {'entity_type': 'leads', 'pipeline_id': 1520397, 'status_id': 23406793, 'rights': {'edit': 'D', 'view': 'D', 'delete': 'D'}}, {'entity_type': 'leads', 'pipeline_id': 1981812, 'status_id': 29378454, 'rights': {'edit': 'D', 'view': 'D', 'delete': 'D'}}]),\n",
       " User(catalog_access = False, email = aleksey.ivanov.y@yandex.ru, id = 6497955, is_active = False, is_admin = False, is_free = False, lang = ru, mail_access = False, name = pre sale, status_rights = [{'entity_type': 'leads', 'pipeline_id': 15219, 'status_id': 23406784, 'rights': {'edit': 'D', 'view': 'D', 'delete': 'D'}}, {'entity_type': 'leads', 'pipeline_id': 1041060, 'status_id': 23406781, 'rights': {'edit': 'D', 'view': 'D', 'delete': 'D'}}, {'entity_type': 'leads', 'pipeline_id': 1045806, 'status_id': 23406787, 'rights': {'edit': 'D', 'view': 'D', 'delete': 'D'}}, {'entity_type': 'leads', 'pipeline_id': 1443795, 'status_id': 23406790, 'rights': {'edit': 'D', 'view': 'D', 'delete': 'D'}}, {'entity_type': 'leads', 'pipeline_id': 1520397, 'status_id': 23406793, 'rights': {'edit': 'D', 'view': 'D', 'delete': 'D'}}, {'entity_type': 'leads', 'pipeline_id': 1981812, 'status_id': 29378454, 'rights': {'edit': 'D', 'view': 'D', 'delete': 'D'}}]),\n",
       " User(catalog_access = False, email = andrey.shh@oddjob.ru, id = 6532863, is_active = False, is_admin = False, is_free = False, lang = ru, mail_access = False, name = Андрей Щедрин, status_rights = [{'entity_type': 'leads', 'pipeline_id': 15219, 'status_id': 23406784, 'rights': {'edit': 'D', 'view': 'D', 'delete': 'D'}}, {'entity_type': 'leads', 'pipeline_id': 1041060, 'status_id': 23406781, 'rights': {'edit': 'D', 'view': 'D', 'delete': 'D'}}, {'entity_type': 'leads', 'pipeline_id': 1045806, 'status_id': 23406787, 'rights': {'edit': 'D', 'view': 'D', 'delete': 'D'}}, {'entity_type': 'leads', 'pipeline_id': 1443795, 'status_id': 23406790, 'rights': {'edit': 'D', 'view': 'D', 'delete': 'D'}}, {'entity_type': 'leads', 'pipeline_id': 1520397, 'status_id': 23406793, 'rights': {'edit': 'D', 'view': 'D', 'delete': 'D'}}, {'entity_type': 'leads', 'pipeline_id': 1981812, 'status_id': 29378454, 'rights': {'edit': 'D', 'view': 'D', 'delete': 'D'}}]),\n",
       " User(catalog_access = False, email = evgenia.m@oddjob.ru, id = 6563595, is_active = False, is_admin = False, is_free = False, lang = ru, mail_access = False, name = Евгения Мощенко, status_rights = [{'entity_type': 'leads', 'pipeline_id': 15219, 'status_id': 23406784, 'rights': {'edit': 'D', 'view': 'D', 'delete': 'D'}}, {'entity_type': 'leads', 'pipeline_id': 1041060, 'status_id': 23406781, 'rights': {'edit': 'D', 'view': 'D', 'delete': 'D'}}, {'entity_type': 'leads', 'pipeline_id': 1045806, 'status_id': 23406787, 'rights': {'edit': 'D', 'view': 'D', 'delete': 'D'}}, {'entity_type': 'leads', 'pipeline_id': 1443795, 'status_id': 23406790, 'rights': {'edit': 'D', 'view': 'D', 'delete': 'D'}}, {'entity_type': 'leads', 'pipeline_id': 1520397, 'status_id': 23406793, 'rights': {'edit': 'D', 'view': 'D', 'delete': 'D'}}, {'entity_type': 'leads', 'pipeline_id': 1981812, 'status_id': 29378454, 'rights': {'edit': 'D', 'view': 'D', 'delete': 'D'}}]),\n",
       " User(catalog_access = False, email = aleksandra.v@oddjob.ru, id = 6586854, is_active = True, is_admin = False, is_free = False, lang = ru, mail_access = False, name = Воронова Александра, status_rights = [{'entity_type': 'leads', 'pipeline_id': 15219, 'status_id': 23406784, 'rights': {'edit': 'D', 'view': 'D', 'delete': 'D'}}, {'entity_type': 'leads', 'pipeline_id': 1041060, 'status_id': 23406781, 'rights': {'edit': 'D', 'view': 'D', 'delete': 'D'}}, {'entity_type': 'leads', 'pipeline_id': 1045806, 'status_id': 23406787, 'rights': {'edit': 'D', 'view': 'D', 'delete': 'D'}}, {'entity_type': 'leads', 'pipeline_id': 1443795, 'status_id': 23406790, 'rights': {'edit': 'D', 'view': 'D', 'delete': 'D'}}, {'entity_type': 'leads', 'pipeline_id': 1520397, 'status_id': 23406793, 'rights': {'edit': 'D', 'view': 'D', 'delete': 'D'}}, {'entity_type': 'leads', 'pipeline_id': 1981812, 'status_id': 29378454, 'rights': {'edit': 'D', 'view': 'D', 'delete': 'D'}}]),\n",
       " User(catalog_access = False, email = alina.l@oddjob.ru, id = 6660639, is_active = True, is_admin = False, is_free = False, lang = ru, mail_access = False, name = Алина Лабзина, status_rights = [{'entity_type': 'leads', 'pipeline_id': 15219, 'status_id': 142, 'rights': {'view': 'D', 'edit': 'D', 'delete': 'D', 'export': 'D'}}, {'entity_type': 'leads', 'pipeline_id': 15219, 'status_id': 143, 'rights': {'view': 'D', 'edit': 'D', 'delete': 'D', 'export': 'D'}}, {'entity_type': 'leads', 'pipeline_id': 15219, 'status_id': 7712398, 'rights': {'view': 'D', 'edit': 'D', 'delete': 'D', 'export': 'D'}}, {'entity_type': 'leads', 'pipeline_id': 15219, 'status_id': 8134770, 'rights': {'view': 'D', 'edit': 'D', 'delete': 'D', 'export': 'D'}}, {'entity_type': 'leads', 'pipeline_id': 15219, 'status_id': 9223167, 'rights': {'view': 'D', 'edit': 'D', 'delete': 'D', 'export': 'D'}}, {'entity_type': 'leads', 'pipeline_id': 15219, 'status_id': 9364182, 'rights': {'view': 'D', 'edit': 'D', 'delete': 'D', 'export': 'D'}}, {'entity_type': 'leads', 'pipeline_id': 15219, 'status_id': 16491444, 'rights': {'view': 'D', 'edit': 'D', 'delete': 'D', 'export': 'D'}}, {'entity_type': 'leads', 'pipeline_id': 15219, 'status_id': 17511873, 'rights': {'view': 'D', 'edit': 'D', 'delete': 'D', 'export': 'D'}}, {'entity_type': 'leads', 'pipeline_id': 15219, 'status_id': 17512116, 'rights': {'view': 'D', 'edit': 'D', 'delete': 'D', 'export': 'D'}}, {'entity_type': 'leads', 'pipeline_id': 15219, 'status_id': 17512119, 'rights': {'view': 'D', 'edit': 'D', 'delete': 'D', 'export': 'D'}}, {'entity_type': 'leads', 'pipeline_id': 15219, 'status_id': 17512122, 'rights': {'view': 'D', 'edit': 'D', 'delete': 'D', 'export': 'D'}}, {'entity_type': 'leads', 'pipeline_id': 15219, 'status_id': 18019545, 'rights': {'view': 'D', 'edit': 'D', 'delete': 'D', 'export': 'D'}}, {'entity_type': 'leads', 'pipeline_id': 15219, 'status_id': 23406784, 'rights': {'view': 'D', 'edit': 'D', 'delete': 'D'}}, {'entity_type': 'leads', 'pipeline_id': 1041060, 'status_id': 23406781, 'rights': {'view': 'D', 'edit': 'D', 'delete': 'D'}}, {'entity_type': 'leads', 'pipeline_id': 1045806, 'status_id': 142, 'rights': {'view': 'D', 'edit': 'D', 'delete': 'D', 'export': 'D'}}, {'entity_type': 'leads', 'pipeline_id': 1045806, 'status_id': 143, 'rights': {'view': 'D', 'edit': 'D', 'delete': 'D', 'export': 'D'}}, {'entity_type': 'leads', 'pipeline_id': 1045806, 'status_id': 18883407, 'rights': {'view': 'D', 'edit': 'D', 'delete': 'D', 'export': 'D'}}, {'entity_type': 'leads', 'pipeline_id': 1045806, 'status_id': 18883410, 'rights': {'view': 'D', 'edit': 'D', 'delete': 'D', 'export': 'D'}}, {'entity_type': 'leads', 'pipeline_id': 1045806, 'status_id': 18883413, 'rights': {'view': 'D', 'edit': 'D', 'delete': 'D', 'export': 'D'}}, {'entity_type': 'leads', 'pipeline_id': 1045806, 'status_id': 22408386, 'rights': {'view': 'D', 'edit': 'D', 'delete': 'D', 'export': 'D'}}, {'entity_type': 'leads', 'pipeline_id': 1045806, 'status_id': 22408389, 'rights': {'view': 'D', 'edit': 'D', 'delete': 'D', 'export': 'D'}}, {'entity_type': 'leads', 'pipeline_id': 1045806, 'status_id': 22408392, 'rights': {'view': 'D', 'edit': 'D', 'delete': 'D', 'export': 'D'}}, {'entity_type': 'leads', 'pipeline_id': 1045806, 'status_id': 22408395, 'rights': {'view': 'D', 'edit': 'D', 'delete': 'D', 'export': 'D'}}, {'entity_type': 'leads', 'pipeline_id': 1045806, 'status_id': 22408398, 'rights': {'view': 'D', 'edit': 'D', 'delete': 'D', 'export': 'D'}}, {'entity_type': 'leads', 'pipeline_id': 1045806, 'status_id': 22408401, 'rights': {'view': 'D', 'edit': 'D', 'delete': 'D', 'export': 'D'}}, {'entity_type': 'leads', 'pipeline_id': 1045806, 'status_id': 22408404, 'rights': {'view': 'D', 'edit': 'D', 'delete': 'D', 'export': 'D'}}, {'entity_type': 'leads', 'pipeline_id': 1045806, 'status_id': 22408407, 'rights': {'view': 'D', 'edit': 'D', 'delete': 'D', 'export': 'D'}}, {'entity_type': 'leads', 'pipeline_id': 1045806, 'status_id': 22408410, 'rights': {'view': 'D', 'edit': 'D', 'delete': 'D', 'export': 'D'}}, {'entity_type': 'leads', 'pipeline_id': 1045806, 'status_id': 22408413, 'rights': {'view': 'D', 'edit': 'D', 'delete': 'D', 'export': 'D'}}, {'entity_type': 'leads', 'pipeline_id': 1045806, 'status_id': 22408416, 'rights': {'view': 'D', 'edit': 'D', 'delete': 'D', 'export': 'D'}}, {'entity_type': 'leads', 'pipeline_id': 1045806, 'status_id': 22408419, 'rights': {'view': 'D', 'edit': 'D', 'delete': 'D', 'export': 'D'}}, {'entity_type': 'leads', 'pipeline_id': 1045806, 'status_id': 22408422, 'rights': {'view': 'D', 'edit': 'D', 'delete': 'D', 'export': 'D'}}, {'entity_type': 'leads', 'pipeline_id': 1045806, 'status_id': 23406787, 'rights': {'view': 'D', 'edit': 'D', 'delete': 'D'}}, {'entity_type': 'leads', 'pipeline_id': 1443795, 'status_id': 142, 'rights': {'view': 'D', 'edit': 'D', 'delete': 'D', 'export': 'D'}}, {'entity_type': 'leads', 'pipeline_id': 1443795, 'status_id': 143, 'rights': {'view': 'D', 'edit': 'D', 'delete': 'D', 'export': 'D'}}, {'entity_type': 'leads', 'pipeline_id': 1443795, 'status_id': 22495089, 'rights': {'view': 'D', 'edit': 'D', 'delete': 'D', 'export': 'D'}}, {'entity_type': 'leads', 'pipeline_id': 1443795, 'status_id': 22495092, 'rights': {'view': 'D', 'edit': 'D', 'delete': 'D', 'export': 'D'}}, {'entity_type': 'leads', 'pipeline_id': 1443795, 'status_id': 22495095, 'rights': {'view': 'D', 'edit': 'D', 'delete': 'D', 'export': 'D'}}, {'entity_type': 'leads', 'pipeline_id': 1443795, 'status_id': 22495194, 'rights': {'view': 'D', 'edit': 'D', 'delete': 'D', 'export': 'D'}}, {'entity_type': 'leads', 'pipeline_id': 1443795, 'status_id': 22495197, 'rights': {'view': 'D', 'edit': 'D', 'delete': 'D', 'export': 'D'}}, {'entity_type': 'leads', 'pipeline_id': 1443795, 'status_id': 22495200, 'rights': {'view': 'D', 'edit': 'D', 'delete': 'D', 'export': 'D'}}, {'entity_type': 'leads', 'pipeline_id': 1443795, 'status_id': 22495233, 'rights': {'view': 'D', 'edit': 'D', 'delete': 'D', 'export': 'D'}}, {'entity_type': 'leads', 'pipeline_id': 1443795, 'status_id': 22495236, 'rights': {'view': 'D', 'edit': 'D', 'delete': 'D', 'export': 'D'}}, {'entity_type': 'leads', 'pipeline_id': 1443795, 'status_id': 22495278, 'rights': {'view': 'D', 'edit': 'D', 'delete': 'D', 'export': 'D'}}, {'entity_type': 'leads', 'pipeline_id': 1443795, 'status_id': 22495281, 'rights': {'view': 'D', 'edit': 'D', 'delete': 'D', 'export': 'D'}}, {'entity_type': 'leads', 'pipeline_id': 1443795, 'status_id': 22495335, 'rights': {'view': 'D', 'edit': 'D', 'delete': 'D', 'export': 'D'}}, {'entity_type': 'leads', 'pipeline_id': 1443795, 'status_id': 22495338, 'rights': {'view': 'D', 'edit': 'D', 'delete': 'D', 'export': 'D'}}, {'entity_type': 'leads', 'pipeline_id': 1443795, 'status_id': 22495356, 'rights': {'view': 'D', 'edit': 'D', 'delete': 'D', 'export': 'D'}}, {'entity_type': 'leads', 'pipeline_id': 1443795, 'status_id': 22495359, 'rights': {'view': 'D', 'edit': 'D', 'delete': 'D', 'export': 'D'}}, {'entity_type': 'leads', 'pipeline_id': 1443795, 'status_id': 23406790, 'rights': {'view': 'D', 'edit': 'D', 'delete': 'D'}}, {'entity_type': 'leads', 'pipeline_id': 1520397, 'status_id': 23406793, 'rights': {'view': 'D', 'edit': 'D', 'delete': 'D'}}, {'entity_type': 'leads', 'pipeline_id': 1981812, 'status_id': 142, 'rights': {'view': 'D', 'edit': 'D', 'delete': 'D', 'export': 'D'}}, {'entity_type': 'leads', 'pipeline_id': 1981812, 'status_id': 143, 'rights': {'view': 'D', 'edit': 'D', 'delete': 'D', 'export': 'D'}}, {'entity_type': 'leads', 'pipeline_id': 1981812, 'status_id': 29378454, 'rights': {'view': 'D', 'edit': 'D', 'delete': 'D'}}, {'entity_type': 'leads', 'pipeline_id': 1981812, 'status_id': 29378457, 'rights': {'view': 'D', 'edit': 'D', 'delete': 'D', 'export': 'D'}}, {'entity_type': 'leads', 'pipeline_id': 1981812, 'status_id': 29378460, 'rights': {'view': 'D', 'edit': 'D', 'delete': 'D', 'export': 'D'}}, {'entity_type': 'leads', 'pipeline_id': 1981812, 'status_id': 29378463, 'rights': {'view': 'D', 'edit': 'D', 'delete': 'D', 'export': 'D'}}, {'entity_type': 'leads', 'pipeline_id': 1981812, 'status_id': 29379813, 'rights': {'view': 'D', 'edit': 'D', 'delete': 'D', 'export': 'D'}}, {'entity_type': 'leads', 'pipeline_id': 1981812, 'status_id': 29379816, 'rights': {'view': 'D', 'edit': 'D', 'delete': 'D', 'export': 'D'}}, {'entity_type': 'leads', 'pipeline_id': 1981812, 'status_id': 29379819, 'rights': {'view': 'D', 'edit': 'D', 'delete': 'D', 'export': 'D'}}, {'entity_type': 'leads', 'pipeline_id': 1981812, 'status_id': 29379822, 'rights': {'view': 'D', 'edit': 'D', 'delete': 'D', 'export': 'D'}}, {'entity_type': 'leads', 'pipeline_id': 1981812, 'status_id': 29379825, 'rights': {'view': 'D', 'edit': 'D', 'delete': 'D', 'export': 'D'}}, {'entity_type': 'leads', 'pipeline_id': 1981812, 'status_id': 29379828, 'rights': {'view': 'D', 'edit': 'D', 'delete': 'D', 'export': 'D'}}, {'entity_type': 'leads', 'pipeline_id': 1981812, 'status_id': 29379831, 'rights': {'view': 'D', 'edit': 'D', 'delete': 'D', 'export': 'D'}}, {'entity_type': 'leads', 'pipeline_id': 1981812, 'status_id': 29379834, 'rights': {'view': 'D', 'edit': 'D', 'delete': 'D', 'export': 'D'}}, {'entity_type': 'leads', 'pipeline_id': 1981812, 'status_id': 29379837, 'rights': {'view': 'D', 'edit': 'D', 'delete': 'D', 'export': 'D'}}, {'entity_type': 'leads', 'pipeline_id': 1981812, 'status_id': 29379840, 'rights': {'view': 'D', 'edit': 'D', 'delete': 'D', 'export': 'D'}}, {'entity_type': 'leads', 'pipeline_id': 2180478, 'status_id': 142, 'rights': {'view': 'D', 'edit': 'D', 'delete': 'D', 'export': 'D'}}, {'entity_type': 'leads', 'pipeline_id': 2180478, 'status_id': 143, 'rights': {'view': 'D', 'edit': 'D', 'delete': 'D', 'export': 'D'}}, {'entity_type': 'leads', 'pipeline_id': 2180478, 'status_id': 30750402, 'rights': {'view': 'D', 'edit': 'D', 'delete': 'D'}}, {'entity_type': 'leads', 'pipeline_id': 2180478, 'status_id': 30750405, 'rights': {'view': 'D', 'edit': 'D', 'delete': 'D', 'export': 'D'}}, {'entity_type': 'leads', 'pipeline_id': 2180478, 'status_id': 30750408, 'rights': {'view': 'D', 'edit': 'D', 'delete': 'D', 'export': 'D'}}, {'entity_type': 'leads', 'pipeline_id': 2180478, 'status_id': 30750411, 'rights': {'view': 'D', 'edit': 'D', 'delete': 'D', 'export': 'D'}}, {'entity_type': 'leads', 'pipeline_id': 2180478, 'status_id': 30751944, 'rights': {'view': 'D', 'edit': 'D', 'delete': 'D', 'export': 'D'}}, {'entity_type': 'leads', 'pipeline_id': 2180478, 'status_id': 30751971, 'rights': {'view': 'D', 'edit': 'D', 'delete': 'D', 'export': 'D'}}, {'entity_type': 'leads', 'pipeline_id': 2180478, 'status_id': 30751974, 'rights': {'view': 'D', 'edit': 'D', 'delete': 'D', 'export': 'D'}}, {'entity_type': 'leads', 'pipeline_id': 2180478, 'status_id': 30751977, 'rights': {'view': 'D', 'edit': 'D', 'delete': 'D', 'export': 'D'}}, {'entity_type': 'leads', 'pipeline_id': 2180478, 'status_id': 30752010, 'rights': {'view': 'D', 'edit': 'D', 'delete': 'D', 'export': 'D'}}, {'entity_type': 'leads', 'pipeline_id': 2180478, 'status_id': 30752025, 'rights': {'view': 'D', 'edit': 'D', 'delete': 'D', 'export': 'D'}}, {'entity_type': 'leads', 'pipeline_id': 2180478, 'status_id': 30752028, 'rights': {'view': 'D', 'edit': 'D', 'delete': 'D', 'export': 'D'}}, {'entity_type': 'leads', 'pipeline_id': 2180478, 'status_id': 30752031, 'rights': {'view': 'D', 'edit': 'D', 'delete': 'D', 'export': 'D'}}, {'entity_type': 'leads', 'pipeline_id': 2180478, 'status_id': 30752034, 'rights': {'view': 'D', 'edit': 'D', 'delete': 'D', 'export': 'D'}}, {'entity_type': 'leads', 'pipeline_id': 2180478, 'status_id': 30752037, 'rights': {'view': 'D', 'edit': 'D', 'delete': 'D', 'export': 'D'}}, {'entity_type': 'leads', 'pipeline_id': 3738408, 'status_id': 142, 'rights': {'view': 'D', 'edit': 'D', 'delete': 'D', 'export': 'D'}}, {'entity_type': 'leads', 'pipeline_id': 3738408, 'status_id': 143, 'rights': {'view': 'D', 'edit': 'D', 'delete': 'D', 'export': 'D'}}, {'entity_type': 'leads', 'pipeline_id': 3738408, 'status_id': 36227097, 'rights': {'view': 'D', 'edit': 'D', 'delete': 'D'}}, {'entity_type': 'leads', 'pipeline_id': 3738408, 'status_id': 36227100, 'rights': {'view': 'D', 'edit': 'D', 'delete': 'D', 'export': 'D'}}, {'entity_type': 'leads', 'pipeline_id': 3738408, 'status_id': 36227103, 'rights': {'view': 'D', 'edit': 'D', 'delete': 'D', 'export': 'D'}}, {'entity_type': 'leads', 'pipeline_id': 3738408, 'status_id': 36227106, 'rights': {'view': 'D', 'edit': 'D', 'delete': 'D', 'export': 'D'}}, {'entity_type': 'leads', 'pipeline_id': 4359000, 'status_id': 40585662, 'rights': {'view': 'D', 'edit': 'D', 'delete': 'D'}}, {'entity_type': 'leads', 'pipeline_id': 4365495, 'status_id': 40632720, 'rights': {'view': 'D', 'edit': 'D', 'delete': 'D'}}, {'entity_type': 'leads', 'pipeline_id': 4483554, 'status_id': 41469441, 'rights': {'view': 'A', 'edit': 'A', 'delete': 'A'}}, {'entity_type': 'leads', 'pipeline_id': 4973208, 'status_id': 44893854, 'rights': {'view': 'D', 'edit': 'D', 'delete': 'D'}}, {'entity_type': 'leads', 'pipeline_id': 5299044, 'status_id': 47220489, 'rights': {'view': 'D', 'edit': 'D', 'delete': 'D'}}, {'entity_type': 'leads', 'pipeline_id': 5398521, 'status_id': 47937270, 'rights': {'view': 'D', 'edit': 'D', 'delete': 'D'}}, {'entity_type': 'leads', 'pipeline_id': 5463537, 'status_id': 48406344, 'rights': {'view': 'D', 'edit': 'D', 'delete': 'D'}}, {'entity_type': 'leads', 'pipeline_id': 5463789, 'status_id': 48408288, 'rights': {'view': 'D', 'edit': 'D', 'delete': 'D'}}, {'entity_type': 'leads', 'pipeline_id': 5504577, 'status_id': 48699729, 'rights': {'view': 'D', 'edit': 'D', 'delete': 'D'}}, {'entity_type': 'leads', 'pipeline_id': 5515518, 'status_id': 48778242, 'rights': {'view': 'D', 'edit': 'D', 'delete': 'D'}}, {'entity_type': 'leads', 'pipeline_id': 5609220, 'status_id': 49456941, 'rights': {'view': 'D', 'edit': 'D', 'delete': 'D'}}]),\n",
       " User(catalog_access = True, email = f5mnmnk@gmail.com, id = 7017997, is_active = False, is_admin = True, is_free = False, lang = ru, mail_access = True, name = Сотрудник Ф5, status_rights = [{'entity_type': 'leads', 'pipeline_id': 15219, 'status_id': 23406784, 'rights': {'view': 'A', 'edit': 'A', 'delete': 'A'}}, {'entity_type': 'leads', 'pipeline_id': 1041060, 'status_id': 23406781, 'rights': {'view': 'A', 'edit': 'A', 'delete': 'A'}}, {'entity_type': 'leads', 'pipeline_id': 1045806, 'status_id': 23406787, 'rights': {'view': 'A', 'edit': 'A', 'delete': 'A'}}, {'entity_type': 'leads', 'pipeline_id': 1443795, 'status_id': 23406790, 'rights': {'view': 'A', 'edit': 'A', 'delete': 'A'}}, {'entity_type': 'leads', 'pipeline_id': 1520397, 'status_id': 23406793, 'rights': {'view': 'A', 'edit': 'A', 'delete': 'A'}}, {'entity_type': 'leads', 'pipeline_id': 1981812, 'status_id': 29378454, 'rights': {'view': 'A', 'edit': 'A', 'delete': 'A'}}, {'entity_type': 'leads', 'pipeline_id': 2180478, 'status_id': 30750402, 'rights': {'view': 'A', 'edit': 'A', 'delete': 'A'}}, {'entity_type': 'leads', 'pipeline_id': 3738408, 'status_id': 36227097, 'rights': {'view': 'A', 'edit': 'A', 'delete': 'A'}}, {'entity_type': 'leads', 'pipeline_id': 4359000, 'status_id': 40585662, 'rights': {'view': 'A', 'edit': 'A', 'delete': 'A'}}, {'entity_type': 'leads', 'pipeline_id': 4365495, 'status_id': 40632720, 'rights': {'view': 'A', 'edit': 'A', 'delete': 'A'}}, {'entity_type': 'leads', 'pipeline_id': 4483554, 'status_id': 41469441, 'rights': {'view': 'A', 'edit': 'A', 'delete': 'A'}}, {'entity_type': 'leads', 'pipeline_id': 4973208, 'status_id': 44893854, 'rights': {'view': 'A', 'edit': 'A', 'delete': 'A'}}, {'entity_type': 'leads', 'pipeline_id': 5299044, 'status_id': 47220489, 'rights': {'view': 'A', 'edit': 'A', 'delete': 'A'}}, {'entity_type': 'leads', 'pipeline_id': 5398521, 'status_id': 47937270, 'rights': {'view': 'A', 'edit': 'A', 'delete': 'A'}}, {'entity_type': 'leads', 'pipeline_id': 5463537, 'status_id': 48406344, 'rights': {'view': 'A', 'edit': 'A', 'delete': 'A'}}, {'entity_type': 'leads', 'pipeline_id': 5463789, 'status_id': 48408288, 'rights': {'view': 'A', 'edit': 'A', 'delete': 'A'}}, {'entity_type': 'leads', 'pipeline_id': 5504577, 'status_id': 48699729, 'rights': {'view': 'A', 'edit': 'A', 'delete': 'A'}}, {'entity_type': 'leads', 'pipeline_id': 5515518, 'status_id': 48778242, 'rights': {'view': 'A', 'edit': 'A', 'delete': 'A'}}, {'entity_type': 'leads', 'pipeline_id': 5609220, 'status_id': 49456941, 'rights': {'view': 'A', 'edit': 'A', 'delete': 'A'}}]),\n",
       " User(catalog_access = False, email = marina.shh@oddjob.ru, id = 7080900, is_active = False, is_admin = False, is_free = False, lang = ru, mail_access = False, name = Щербакова Марина, status_rights = [{'entity_type': 'leads', 'pipeline_id': 15219, 'status_id': 23406784, 'rights': {'edit': 'D', 'view': 'D', 'delete': 'D'}}, {'entity_type': 'leads', 'pipeline_id': 1041060, 'status_id': 23406781, 'rights': {'edit': 'D', 'view': 'D', 'delete': 'D'}}, {'entity_type': 'leads', 'pipeline_id': 1045806, 'status_id': 23406787, 'rights': {'edit': 'D', 'view': 'D', 'delete': 'D'}}, {'entity_type': 'leads', 'pipeline_id': 1443795, 'status_id': 23406790, 'rights': {'edit': 'D', 'view': 'D', 'delete': 'D'}}, {'entity_type': 'leads', 'pipeline_id': 1520397, 'status_id': 23406793, 'rights': {'edit': 'D', 'view': 'D', 'delete': 'D'}}, {'entity_type': 'leads', 'pipeline_id': 1981812, 'status_id': 29378454, 'rights': {'edit': 'D', 'view': 'D', 'delete': 'D'}}]),\n",
       " User(catalog_access = False, email = leonid.ch@oddjob.ru, id = 7087860, is_active = False, is_admin = False, is_free = False, lang = ru, mail_access = False, name = Леонид Чайкин, status_rights = [{'entity_type': 'leads', 'pipeline_id': 15219, 'status_id': 23406784, 'rights': {'edit': 'D', 'view': 'D', 'delete': 'D'}}, {'entity_type': 'leads', 'pipeline_id': 1041060, 'status_id': 23406781, 'rights': {'edit': 'D', 'view': 'D', 'delete': 'D'}}, {'entity_type': 'leads', 'pipeline_id': 1045806, 'status_id': 23406787, 'rights': {'edit': 'D', 'view': 'D', 'delete': 'D'}}, {'entity_type': 'leads', 'pipeline_id': 1443795, 'status_id': 23406790, 'rights': {'edit': 'D', 'view': 'D', 'delete': 'D'}}, {'entity_type': 'leads', 'pipeline_id': 1520397, 'status_id': 23406793, 'rights': {'edit': 'D', 'view': 'D', 'delete': 'D'}}, {'entity_type': 'leads', 'pipeline_id': 1981812, 'status_id': 29378454, 'rights': {'edit': 'D', 'view': 'D', 'delete': 'D'}}]),\n",
       " User(catalog_access = False, email = danila.a@oddjob.ru, id = 7145136, is_active = False, is_admin = False, is_free = False, lang = ru, mail_access = False, name = Андрюнин Данила, status_rights = [{'entity_type': 'leads', 'pipeline_id': 15219, 'status_id': 23406784, 'rights': {'view': 'A', 'edit': 'A', 'delete': 'A'}}, {'entity_type': 'leads', 'pipeline_id': 1041060, 'status_id': 23406781, 'rights': {'view': 'A', 'edit': 'A', 'delete': 'A'}}, {'entity_type': 'leads', 'pipeline_id': 1045806, 'status_id': 23406787, 'rights': {'view': 'A', 'edit': 'A', 'delete': 'A'}}, {'entity_type': 'leads', 'pipeline_id': 1443795, 'status_id': 23406790, 'rights': {'view': 'A', 'edit': 'A', 'delete': 'A'}}, {'entity_type': 'leads', 'pipeline_id': 1520397, 'status_id': 23406793, 'rights': {'view': 'A', 'edit': 'A', 'delete': 'A'}}, {'entity_type': 'leads', 'pipeline_id': 1981812, 'status_id': 29378454, 'rights': {'view': 'A', 'edit': 'A', 'delete': 'A'}}, {'entity_type': 'leads', 'pipeline_id': 2180478, 'status_id': 30750402, 'rights': {'view': 'D', 'edit': 'D', 'delete': 'D'}}, {'entity_type': 'leads', 'pipeline_id': 3738408, 'status_id': 36227097, 'rights': {'view': 'D', 'edit': 'D', 'delete': 'D'}}, {'entity_type': 'leads', 'pipeline_id': 4359000, 'status_id': 40585662, 'rights': {'view': 'D', 'edit': 'D', 'delete': 'D'}}, {'entity_type': 'leads', 'pipeline_id': 4365495, 'status_id': 40632720, 'rights': {'view': 'D', 'edit': 'D', 'delete': 'D'}}, {'entity_type': 'leads', 'pipeline_id': 4483554, 'status_id': 41469441, 'rights': {'view': 'D', 'edit': 'D', 'delete': 'D'}}, {'entity_type': 'leads', 'pipeline_id': 4973208, 'status_id': 44893854, 'rights': {'view': 'D', 'edit': 'D', 'delete': 'D'}}, {'entity_type': 'leads', 'pipeline_id': 5299044, 'status_id': 47220489, 'rights': {'view': 'D', 'edit': 'D', 'delete': 'D'}}, {'entity_type': 'leads', 'pipeline_id': 5398521, 'status_id': 47937270, 'rights': {'view': 'D', 'edit': 'D', 'delete': 'D'}}, {'entity_type': 'leads', 'pipeline_id': 5463537, 'status_id': 48406344, 'rights': {'view': 'D', 'edit': 'D', 'delete': 'D'}}, {'entity_type': 'leads', 'pipeline_id': 5463789, 'status_id': 48408288, 'rights': {'view': 'D', 'edit': 'D', 'delete': 'D'}}, {'entity_type': 'leads', 'pipeline_id': 5504577, 'status_id': 48699729, 'rights': {'view': 'D', 'edit': 'D', 'delete': 'D'}}, {'entity_type': 'leads', 'pipeline_id': 5515518, 'status_id': 48778242, 'rights': {'view': 'D', 'edit': 'D', 'delete': 'D'}}, {'entity_type': 'leads', 'pipeline_id': 5609220, 'status_id': 49456941, 'rights': {'view': 'D', 'edit': 'D', 'delete': 'D'}}]),\n",
       " User(catalog_access = False, email = aleksandra.n@oddjob.ru, id = 7177401, is_active = False, is_admin = False, is_free = False, lang = ru, mail_access = False, name = Александра Несина, status_rights = [{'entity_type': 'leads', 'pipeline_id': 15219, 'status_id': 23406784, 'rights': {'edit': 'D', 'view': 'D', 'delete': 'D'}}, {'entity_type': 'leads', 'pipeline_id': 1041060, 'status_id': 23406781, 'rights': {'edit': 'D', 'view': 'D', 'delete': 'D'}}, {'entity_type': 'leads', 'pipeline_id': 1045806, 'status_id': 23406787, 'rights': {'edit': 'D', 'view': 'D', 'delete': 'D'}}, {'entity_type': 'leads', 'pipeline_id': 1443795, 'status_id': 23406790, 'rights': {'edit': 'D', 'view': 'D', 'delete': 'D'}}, {'entity_type': 'leads', 'pipeline_id': 1520397, 'status_id': 23406793, 'rights': {'edit': 'D', 'view': 'D', 'delete': 'D'}}, {'entity_type': 'leads', 'pipeline_id': 1981812, 'status_id': 29378454, 'rights': {'edit': 'D', 'view': 'D', 'delete': 'D'}}]),\n",
       " User(catalog_access = False, email = vasiliy.r@oddjob.ru, id = 7278447, is_active = False, is_admin = False, is_free = False, lang = ru, mail_access = False, name = Рыков Василий, status_rights = [{'entity_type': 'leads', 'pipeline_id': 15219, 'status_id': 23406784, 'rights': {'edit': 'D', 'view': 'D', 'delete': 'D'}}, {'entity_type': 'leads', 'pipeline_id': 1041060, 'status_id': 23406781, 'rights': {'edit': 'D', 'view': 'D', 'delete': 'D'}}, {'entity_type': 'leads', 'pipeline_id': 1045806, 'status_id': 23406787, 'rights': {'edit': 'D', 'view': 'D', 'delete': 'D'}}, {'entity_type': 'leads', 'pipeline_id': 1443795, 'status_id': 23406790, 'rights': {'edit': 'D', 'view': 'D', 'delete': 'D'}}, {'entity_type': 'leads', 'pipeline_id': 1520397, 'status_id': 23406793, 'rights': {'edit': 'D', 'view': 'D', 'delete': 'D'}}, {'entity_type': 'leads', 'pipeline_id': 1981812, 'status_id': 29378454, 'rights': {'edit': 'D', 'view': 'D', 'delete': 'D'}}]),\n",
       " User(catalog_access = False, email = steblev.v@oddjob.email, id = 7290009, is_active = False, is_admin = False, is_free = False, lang = ru, mail_access = False, name = Стеблев Владислав, status_rights = [{'entity_type': 'leads', 'pipeline_id': 15219, 'status_id': 23406784, 'rights': {'edit': 'D', 'view': 'D', 'delete': 'D'}}, {'entity_type': 'leads', 'pipeline_id': 1041060, 'status_id': 23406781, 'rights': {'edit': 'D', 'view': 'D', 'delete': 'D'}}, {'entity_type': 'leads', 'pipeline_id': 1045806, 'status_id': 23406787, 'rights': {'edit': 'D', 'view': 'D', 'delete': 'D'}}, {'entity_type': 'leads', 'pipeline_id': 1443795, 'status_id': 23406790, 'rights': {'edit': 'D', 'view': 'D', 'delete': 'D'}}, {'entity_type': 'leads', 'pipeline_id': 1520397, 'status_id': 23406793, 'rights': {'edit': 'D', 'view': 'D', 'delete': 'D'}}, {'entity_type': 'leads', 'pipeline_id': 1981812, 'status_id': 29378454, 'rights': {'edit': 'D', 'view': 'D', 'delete': 'D'}}]),\n",
       " User(catalog_access = False, email = elena.k@oddjob.email, id = 7290012, is_active = True, is_admin = False, is_free = False, lang = ru, mail_access = False, name = Ковальчук Елена, status_rights = [{'entity_type': 'leads', 'pipeline_id': 15219, 'status_id': 23406784, 'rights': {'edit': 'D', 'view': 'D', 'delete': 'D'}}, {'entity_type': 'leads', 'pipeline_id': 1041060, 'status_id': 23406781, 'rights': {'edit': 'D', 'view': 'D', 'delete': 'D'}}, {'entity_type': 'leads', 'pipeline_id': 1045806, 'status_id': 23406787, 'rights': {'edit': 'D', 'view': 'D', 'delete': 'D'}}, {'entity_type': 'leads', 'pipeline_id': 1443795, 'status_id': 23406790, 'rights': {'edit': 'D', 'view': 'D', 'delete': 'D'}}, {'entity_type': 'leads', 'pipeline_id': 1520397, 'status_id': 23406793, 'rights': {'edit': 'D', 'view': 'D', 'delete': 'D'}}, {'entity_type': 'leads', 'pipeline_id': 1981812, 'status_id': 29378454, 'rights': {'edit': 'D', 'view': 'D', 'delete': 'D'}}]),\n",
       " User(catalog_access = False, email = anastasia.h@oddjob.email, id = 7317270, is_active = False, is_admin = False, is_free = False, lang = ru, mail_access = False, name = Анастасия Хлопина, status_rights = [{'entity_type': 'leads', 'pipeline_id': 15219, 'status_id': 23406784, 'rights': {'edit': 'D', 'view': 'D', 'delete': 'D'}}, {'entity_type': 'leads', 'pipeline_id': 1041060, 'status_id': 23406781, 'rights': {'edit': 'D', 'view': 'D', 'delete': 'D'}}, {'entity_type': 'leads', 'pipeline_id': 1045806, 'status_id': 23406787, 'rights': {'edit': 'D', 'view': 'D', 'delete': 'D'}}, {'entity_type': 'leads', 'pipeline_id': 1443795, 'status_id': 23406790, 'rights': {'edit': 'D', 'view': 'D', 'delete': 'D'}}, {'entity_type': 'leads', 'pipeline_id': 1520397, 'status_id': 23406793, 'rights': {'edit': 'D', 'view': 'D', 'delete': 'D'}}, {'entity_type': 'leads', 'pipeline_id': 1981812, 'status_id': 29378454, 'rights': {'edit': 'D', 'view': 'D', 'delete': 'D'}}]),\n",
       " User(catalog_access = False, email = yaroslav.l@oddjob.email, id = 7317273, is_active = True, is_admin = False, is_free = False, lang = ru, mail_access = False, name = Ярослав Левкин, status_rights = [{'entity_type': 'leads', 'pipeline_id': 15219, 'status_id': 23406784, 'rights': {'edit': 'D', 'view': 'D', 'delete': 'D'}}, {'entity_type': 'leads', 'pipeline_id': 1041060, 'status_id': 23406781, 'rights': {'edit': 'D', 'view': 'D', 'delete': 'D'}}, {'entity_type': 'leads', 'pipeline_id': 1045806, 'status_id': 23406787, 'rights': {'edit': 'D', 'view': 'D', 'delete': 'D'}}, {'entity_type': 'leads', 'pipeline_id': 1443795, 'status_id': 23406790, 'rights': {'edit': 'D', 'view': 'D', 'delete': 'D'}}, {'entity_type': 'leads', 'pipeline_id': 1520397, 'status_id': 23406793, 'rights': {'edit': 'D', 'view': 'D', 'delete': 'D'}}, {'entity_type': 'leads', 'pipeline_id': 1981812, 'status_id': 29378454, 'rights': {'edit': 'D', 'view': 'D', 'delete': 'D'}}]),\n",
       " User(catalog_access = False, email = polina.d@oddjob.email, id = 7398006, is_active = False, is_admin = False, is_free = False, lang = ru, mail_access = False, name = Полина Дмитриева, status_rights = [{'entity_type': 'leads', 'pipeline_id': 15219, 'status_id': 23406784, 'rights': {'edit': 'D', 'view': 'D', 'delete': 'D'}}, {'entity_type': 'leads', 'pipeline_id': 1041060, 'status_id': 23406781, 'rights': {'edit': 'D', 'view': 'D', 'delete': 'D'}}, {'entity_type': 'leads', 'pipeline_id': 1045806, 'status_id': 23406787, 'rights': {'edit': 'D', 'view': 'D', 'delete': 'D'}}, {'entity_type': 'leads', 'pipeline_id': 1443795, 'status_id': 23406790, 'rights': {'edit': 'D', 'view': 'D', 'delete': 'D'}}, {'entity_type': 'leads', 'pipeline_id': 1520397, 'status_id': 23406793, 'rights': {'edit': 'D', 'view': 'D', 'delete': 'D'}}, {'entity_type': 'leads', 'pipeline_id': 1981812, 'status_id': 29378454, 'rights': {'edit': 'D', 'view': 'D', 'delete': 'D'}}]),\n",
       " User(catalog_access = False, email = anastasia.d@oddjob.email, id = 7398009, is_active = False, is_admin = False, is_free = False, lang = ru, mail_access = False, name = Анастасия Дмитриева, status_rights = [{'entity_type': 'leads', 'pipeline_id': 15219, 'status_id': 23406784, 'rights': {'edit': 'D', 'view': 'D', 'delete': 'D'}}, {'entity_type': 'leads', 'pipeline_id': 1041060, 'status_id': 23406781, 'rights': {'edit': 'D', 'view': 'D', 'delete': 'D'}}, {'entity_type': 'leads', 'pipeline_id': 1045806, 'status_id': 23406787, 'rights': {'edit': 'D', 'view': 'D', 'delete': 'D'}}, {'entity_type': 'leads', 'pipeline_id': 1443795, 'status_id': 23406790, 'rights': {'edit': 'D', 'view': 'D', 'delete': 'D'}}, {'entity_type': 'leads', 'pipeline_id': 1520397, 'status_id': 23406793, 'rights': {'edit': 'D', 'view': 'D', 'delete': 'D'}}, {'entity_type': 'leads', 'pipeline_id': 1981812, 'status_id': 29378454, 'rights': {'edit': 'D', 'view': 'D', 'delete': 'D'}}]),\n",
       " User(catalog_access = False, email = olga.k@oddjob.email, id = 7398015, is_active = True, is_admin = False, is_free = False, lang = ru, mail_access = False, name = Ольга Колюшкина, status_rights = [{'entity_type': 'leads', 'pipeline_id': 15219, 'status_id': 23406784, 'rights': {'edit': 'D', 'view': 'D', 'delete': 'D'}}, {'entity_type': 'leads', 'pipeline_id': 1041060, 'status_id': 23406781, 'rights': {'edit': 'D', 'view': 'D', 'delete': 'D'}}, {'entity_type': 'leads', 'pipeline_id': 1045806, 'status_id': 23406787, 'rights': {'edit': 'D', 'view': 'D', 'delete': 'D'}}, {'entity_type': 'leads', 'pipeline_id': 1443795, 'status_id': 23406790, 'rights': {'edit': 'D', 'view': 'D', 'delete': 'D'}}, {'entity_type': 'leads', 'pipeline_id': 1520397, 'status_id': 23406793, 'rights': {'edit': 'D', 'view': 'D', 'delete': 'D'}}, {'entity_type': 'leads', 'pipeline_id': 1981812, 'status_id': 29378454, 'rights': {'edit': 'D', 'view': 'D', 'delete': 'D'}}]),\n",
       " User(catalog_access = False, email = svetlana.l@oddjob.email, id = 7483632, is_active = False, is_admin = False, is_free = False, lang = ru, mail_access = False, name = Ляльченко Светлана, status_rights = [{'entity_type': 'leads', 'pipeline_id': 15219, 'status_id': 23406784, 'rights': {'edit': 'D', 'view': 'D', 'delete': 'D'}}, {'entity_type': 'leads', 'pipeline_id': 1041060, 'status_id': 23406781, 'rights': {'edit': 'D', 'view': 'D', 'delete': 'D'}}, {'entity_type': 'leads', 'pipeline_id': 1045806, 'status_id': 23406787, 'rights': {'edit': 'D', 'view': 'D', 'delete': 'D'}}, {'entity_type': 'leads', 'pipeline_id': 1443795, 'status_id': 23406790, 'rights': {'edit': 'D', 'view': 'D', 'delete': 'D'}}, {'entity_type': 'leads', 'pipeline_id': 1520397, 'status_id': 23406793, 'rights': {'edit': 'D', 'view': 'D', 'delete': 'D'}}, {'entity_type': 'leads', 'pipeline_id': 1981812, 'status_id': 29378454, 'rights': {'edit': 'D', 'view': 'D', 'delete': 'D'}}]),\n",
       " User(catalog_access = False, email = artem.s@oddjob.email, id = 7483650, is_active = False, is_admin = False, is_free = False, lang = ru, mail_access = False, name = Шлаев Артём, status_rights = [{'entity_type': 'leads', 'pipeline_id': 15219, 'status_id': 23406784, 'rights': {'edit': 'D', 'view': 'D', 'delete': 'D'}}, {'entity_type': 'leads', 'pipeline_id': 1041060, 'status_id': 23406781, 'rights': {'edit': 'D', 'view': 'D', 'delete': 'D'}}, {'entity_type': 'leads', 'pipeline_id': 1045806, 'status_id': 23406787, 'rights': {'edit': 'D', 'view': 'D', 'delete': 'D'}}, {'entity_type': 'leads', 'pipeline_id': 1443795, 'status_id': 23406790, 'rights': {'edit': 'D', 'view': 'D', 'delete': 'D'}}, {'entity_type': 'leads', 'pipeline_id': 1520397, 'status_id': 23406793, 'rights': {'edit': 'D', 'view': 'D', 'delete': 'D'}}, {'entity_type': 'leads', 'pipeline_id': 1981812, 'status_id': 29378454, 'rights': {'edit': 'D', 'view': 'D', 'delete': 'D'}}]),\n",
       " User(catalog_access = False, email = kosarev.p@oddjob.ru, id = 7490544, is_active = True, is_admin = False, is_free = False, lang = ru, mail_access = False, name = Косарев Павел, status_rights = [{'entity_type': 'leads', 'pipeline_id': 15219, 'status_id': 23406784, 'rights': {'view': 'D', 'edit': 'D', 'delete': 'D'}}, {'entity_type': 'leads', 'pipeline_id': 1041060, 'status_id': 23406781, 'rights': {'view': 'D', 'edit': 'D', 'delete': 'D'}}, {'entity_type': 'leads', 'pipeline_id': 1045806, 'status_id': 23406787, 'rights': {'view': 'D', 'edit': 'D', 'delete': 'D'}}, {'entity_type': 'leads', 'pipeline_id': 1443795, 'status_id': 23406790, 'rights': {'view': 'D', 'edit': 'D', 'delete': 'D'}}, {'entity_type': 'leads', 'pipeline_id': 1520397, 'status_id': 23406793, 'rights': {'view': 'D', 'edit': 'D', 'delete': 'D'}}, {'entity_type': 'leads', 'pipeline_id': 1981812, 'status_id': 29378454, 'rights': {'view': 'D', 'edit': 'D', 'delete': 'D'}}, {'entity_type': 'leads', 'pipeline_id': 4973208, 'status_id': 44893857, 'rights': {'view': 'A', 'edit': 'A', 'delete': 'A', 'export': 'A'}}, {'entity_type': 'leads', 'pipeline_id': 2180478, 'status_id': 30750402, 'rights': {'view': 'D', 'edit': 'D', 'delete': 'D'}}, {'entity_type': 'leads', 'pipeline_id': 3738408, 'status_id': 36227097, 'rights': {'view': 'D', 'edit': 'D', 'delete': 'D'}}, {'entity_type': 'leads', 'pipeline_id': 4359000, 'status_id': 40585662, 'rights': {'view': 'D', 'edit': 'D', 'delete': 'D'}}, {'entity_type': 'leads', 'pipeline_id': 4365495, 'status_id': 40632720, 'rights': {'view': 'D', 'edit': 'D', 'delete': 'D'}}, {'entity_type': 'leads', 'pipeline_id': 4483554, 'status_id': 41469441, 'rights': {'view': 'D', 'edit': 'D', 'delete': 'D'}}, {'entity_type': 'leads', 'pipeline_id': 5299044, 'status_id': 47220489, 'rights': {'view': 'D', 'edit': 'D', 'delete': 'D'}}, {'entity_type': 'leads', 'pipeline_id': 5398521, 'status_id': 47937270, 'rights': {'view': 'D', 'edit': 'D', 'delete': 'D'}}, {'entity_type': 'leads', 'pipeline_id': 5463537, 'status_id': 48406344, 'rights': {'view': 'D', 'edit': 'D', 'delete': 'D'}}, {'entity_type': 'leads', 'pipeline_id': 5463789, 'status_id': 48408288, 'rights': {'view': 'D', 'edit': 'D', 'delete': 'D'}}, {'entity_type': 'leads', 'pipeline_id': 5504577, 'status_id': 48699729, 'rights': {'view': 'D', 'edit': 'D', 'delete': 'D'}}, {'entity_type': 'leads', 'pipeline_id': 5515518, 'status_id': 48778242, 'rights': {'view': 'D', 'edit': 'D', 'delete': 'D'}}, {'entity_type': 'leads', 'pipeline_id': 5609220, 'status_id': 49456941, 'rights': {'view': 'D', 'edit': 'D', 'delete': 'D'}}]),\n",
       " User(catalog_access = False, email = kira.r@oddjob.ru, id = 7543320, is_active = False, is_admin = False, is_free = False, lang = ru, mail_access = False, name = Ромина Кира, status_rights = [{'entity_type': 'leads', 'pipeline_id': 15219, 'status_id': 23406784, 'rights': {'edit': 'D', 'view': 'D', 'delete': 'D'}}, {'entity_type': 'leads', 'pipeline_id': 1041060, 'status_id': 23406781, 'rights': {'edit': 'D', 'view': 'D', 'delete': 'D'}}, {'entity_type': 'leads', 'pipeline_id': 1045806, 'status_id': 23406787, 'rights': {'edit': 'D', 'view': 'D', 'delete': 'D'}}, {'entity_type': 'leads', 'pipeline_id': 1443795, 'status_id': 23406790, 'rights': {'edit': 'D', 'view': 'D', 'delete': 'D'}}, {'entity_type': 'leads', 'pipeline_id': 1520397, 'status_id': 23406793, 'rights': {'edit': 'D', 'view': 'D', 'delete': 'D'}}, {'entity_type': 'leads', 'pipeline_id': 1981812, 'status_id': 29378454, 'rights': {'edit': 'D', 'view': 'D', 'delete': 'D'}}]),\n",
       " User(catalog_access = False, email = ilona.t@oddjob.ru, id = 7543329, is_active = False, is_admin = False, is_free = False, lang = ru, mail_access = False, name = Тамахина Илона, status_rights = [{'entity_type': 'leads', 'pipeline_id': 15219, 'status_id': 23406784, 'rights': {'edit': 'D', 'view': 'D', 'delete': 'D'}}, {'entity_type': 'leads', 'pipeline_id': 1041060, 'status_id': 23406781, 'rights': {'edit': 'D', 'view': 'D', 'delete': 'D'}}, {'entity_type': 'leads', 'pipeline_id': 1045806, 'status_id': 23406787, 'rights': {'edit': 'D', 'view': 'D', 'delete': 'D'}}, {'entity_type': 'leads', 'pipeline_id': 1443795, 'status_id': 23406790, 'rights': {'edit': 'D', 'view': 'D', 'delete': 'D'}}, {'entity_type': 'leads', 'pipeline_id': 1520397, 'status_id': 23406793, 'rights': {'edit': 'D', 'view': 'D', 'delete': 'D'}}, {'entity_type': 'leads', 'pipeline_id': 1981812, 'status_id': 29378454, 'rights': {'edit': 'D', 'view': 'D', 'delete': 'D'}}]),\n",
       " User(catalog_access = False, email = artem.t@oddjob.email, id = 7623012, is_active = False, is_admin = False, is_free = False, lang = ru, mail_access = False, name = Тунбасов Артём, status_rights = [{'entity_type': 'leads', 'pipeline_id': 15219, 'status_id': 23406784, 'rights': {'edit': 'D', 'view': 'D', 'delete': 'D'}}, {'entity_type': 'leads', 'pipeline_id': 1041060, 'status_id': 23406781, 'rights': {'edit': 'D', 'view': 'D', 'delete': 'D'}}, {'entity_type': 'leads', 'pipeline_id': 1045806, 'status_id': 23406787, 'rights': {'edit': 'D', 'view': 'D', 'delete': 'D'}}, {'entity_type': 'leads', 'pipeline_id': 1443795, 'status_id': 23406790, 'rights': {'edit': 'D', 'view': 'D', 'delete': 'D'}}, {'entity_type': 'leads', 'pipeline_id': 1520397, 'status_id': 23406793, 'rights': {'edit': 'D', 'view': 'D', 'delete': 'D'}}, {'entity_type': 'leads', 'pipeline_id': 1981812, 'status_id': 29378454, 'rights': {'edit': 'D', 'view': 'D', 'delete': 'D'}}]),\n",
       " User(catalog_access = False, email = olga.m@oddjob.email, id = 7654194, is_active = False, is_admin = False, is_free = False, lang = ru, mail_access = False, name = Ольга Митяева, status_rights = [{'entity_type': 'leads', 'pipeline_id': 15219, 'status_id': 23406784, 'rights': {'edit': 'D', 'view': 'D', 'delete': 'D'}}, {'entity_type': 'leads', 'pipeline_id': 1041060, 'status_id': 23406781, 'rights': {'edit': 'D', 'view': 'D', 'delete': 'D'}}, {'entity_type': 'leads', 'pipeline_id': 1045806, 'status_id': 23406787, 'rights': {'edit': 'D', 'view': 'D', 'delete': 'D'}}, {'entity_type': 'leads', 'pipeline_id': 1443795, 'status_id': 23406790, 'rights': {'edit': 'D', 'view': 'D', 'delete': 'D'}}, {'entity_type': 'leads', 'pipeline_id': 1520397, 'status_id': 23406793, 'rights': {'edit': 'D', 'view': 'D', 'delete': 'D'}}, {'entity_type': 'leads', 'pipeline_id': 1981812, 'status_id': 29378454, 'rights': {'edit': 'D', 'view': 'D', 'delete': 'D'}}]),\n",
       " User(catalog_access = False, email = anastasia.t@oddjob.email, id = 7671684, is_active = False, is_admin = False, is_free = False, lang = ru, mail_access = False, name = Теремова Анастасия, status_rights = [{'entity_type': 'leads', 'pipeline_id': 15219, 'status_id': 23406784, 'rights': {'edit': 'D', 'view': 'D', 'delete': 'D'}}, {'entity_type': 'leads', 'pipeline_id': 1041060, 'status_id': 23406781, 'rights': {'edit': 'D', 'view': 'D', 'delete': 'D'}}, {'entity_type': 'leads', 'pipeline_id': 1045806, 'status_id': 23406787, 'rights': {'edit': 'D', 'view': 'D', 'delete': 'D'}}, {'entity_type': 'leads', 'pipeline_id': 1443795, 'status_id': 23406790, 'rights': {'edit': 'D', 'view': 'D', 'delete': 'D'}}, {'entity_type': 'leads', 'pipeline_id': 1520397, 'status_id': 23406793, 'rights': {'edit': 'D', 'view': 'D', 'delete': 'D'}}, {'entity_type': 'leads', 'pipeline_id': 1981812, 'status_id': 29378454, 'rights': {'edit': 'D', 'view': 'D', 'delete': 'D'}}]),\n",
       " User(catalog_access = False, email = kalmykov.M@oddjob.email, id = 7701810, is_active = False, is_admin = False, is_free = False, lang = ru, mail_access = False, name = Калмыков Максим, status_rights = [{'entity_type': 'leads', 'pipeline_id': 15219, 'status_id': 23406784, 'rights': {'edit': 'D', 'view': 'D', 'delete': 'D'}}, {'entity_type': 'leads', 'pipeline_id': 1041060, 'status_id': 23406781, 'rights': {'edit': 'D', 'view': 'D', 'delete': 'D'}}, {'entity_type': 'leads', 'pipeline_id': 1045806, 'status_id': 23406787, 'rights': {'edit': 'D', 'view': 'D', 'delete': 'D'}}, {'entity_type': 'leads', 'pipeline_id': 1443795, 'status_id': 23406790, 'rights': {'edit': 'D', 'view': 'D', 'delete': 'D'}}, {'entity_type': 'leads', 'pipeline_id': 1520397, 'status_id': 23406793, 'rights': {'edit': 'D', 'view': 'D', 'delete': 'D'}}, {'entity_type': 'leads', 'pipeline_id': 1981812, 'status_id': 29378454, 'rights': {'edit': 'D', 'view': 'D', 'delete': 'D'}}]),\n",
       " User(catalog_access = False, email = nadezhkina.a@oddjob.email, id = 7832730, is_active = True, is_admin = False, is_free = False, lang = ru, mail_access = False, name = Надежкина Алина, status_rights = [{'entity_type': 'leads', 'pipeline_id': 15219, 'status_id': 23406784, 'rights': {'edit': 'D', 'view': 'D', 'delete': 'D'}}, {'entity_type': 'leads', 'pipeline_id': 1041060, 'status_id': 23406781, 'rights': {'edit': 'D', 'view': 'D', 'delete': 'D'}}, {'entity_type': 'leads', 'pipeline_id': 1045806, 'status_id': 23406787, 'rights': {'edit': 'D', 'view': 'D', 'delete': 'D'}}, {'entity_type': 'leads', 'pipeline_id': 1443795, 'status_id': 23406790, 'rights': {'edit': 'D', 'view': 'D', 'delete': 'D'}}, {'entity_type': 'leads', 'pipeline_id': 1520397, 'status_id': 23406793, 'rights': {'edit': 'D', 'view': 'D', 'delete': 'D'}}, {'entity_type': 'leads', 'pipeline_id': 1981812, 'status_id': 29378454, 'rights': {'edit': 'D', 'view': 'D', 'delete': 'D'}}]),\n",
       " User(catalog_access = False, email = angelina.sh@oddjob.email, id = 7899570, is_active = False, is_admin = False, is_free = False, lang = ru, mail_access = False, name = Шульга Ангелина, status_rights = [{'entity_type': 'leads', 'pipeline_id': 15219, 'status_id': 23406784, 'rights': {'edit': 'D', 'view': 'D', 'delete': 'D'}}, {'entity_type': 'leads', 'pipeline_id': 1041060, 'status_id': 23406781, 'rights': {'edit': 'D', 'view': 'D', 'delete': 'D'}}, {'entity_type': 'leads', 'pipeline_id': 1045806, 'status_id': 23406787, 'rights': {'edit': 'D', 'view': 'D', 'delete': 'D'}}, {'entity_type': 'leads', 'pipeline_id': 1443795, 'status_id': 23406790, 'rights': {'edit': 'D', 'view': 'D', 'delete': 'D'}}, {'entity_type': 'leads', 'pipeline_id': 1520397, 'status_id': 23406793, 'rights': {'edit': 'D', 'view': 'D', 'delete': 'D'}}, {'entity_type': 'leads', 'pipeline_id': 1981812, 'status_id': 29378454, 'rights': {'edit': 'D', 'view': 'D', 'delete': 'D'}}]),\n",
       " User(catalog_access = True, email = testnatalia@f5.com.ru, id = 7944225, is_active = True, is_admin = True, is_free = False, lang = ru, mail_access = True, name = Наталья (Команда Ф5), status_rights = [{'entity_type': 'leads', 'pipeline_id': 15219, 'status_id': 23406784, 'rights': {'view': 'A', 'edit': 'A', 'delete': 'A'}}, {'entity_type': 'leads', 'pipeline_id': 1041060, 'status_id': 23406781, 'rights': {'view': 'A', 'edit': 'A', 'delete': 'A'}}, {'entity_type': 'leads', 'pipeline_id': 1045806, 'status_id': 23406787, 'rights': {'view': 'A', 'edit': 'A', 'delete': 'A'}}, {'entity_type': 'leads', 'pipeline_id': 1443795, 'status_id': 23406790, 'rights': {'view': 'A', 'edit': 'A', 'delete': 'A'}}, {'entity_type': 'leads', 'pipeline_id': 1520397, 'status_id': 23406793, 'rights': {'view': 'A', 'edit': 'A', 'delete': 'A'}}, {'entity_type': 'leads', 'pipeline_id': 1981812, 'status_id': 29378454, 'rights': {'view': 'A', 'edit': 'A', 'delete': 'A'}}, {'entity_type': 'leads', 'pipeline_id': 2180478, 'status_id': 30750402, 'rights': {'view': 'A', 'edit': 'A', 'delete': 'A'}}, {'entity_type': 'leads', 'pipeline_id': 3738408, 'status_id': 36227097, 'rights': {'view': 'A', 'edit': 'A', 'delete': 'A'}}, {'entity_type': 'leads', 'pipeline_id': 4359000, 'status_id': 40585662, 'rights': {'view': 'A', 'edit': 'A', 'delete': 'A'}}, {'entity_type': 'leads', 'pipeline_id': 4365495, 'status_id': 40632720, 'rights': {'view': 'A', 'edit': 'A', 'delete': 'A'}}, {'entity_type': 'leads', 'pipeline_id': 4483554, 'status_id': 41469441, 'rights': {'view': 'A', 'edit': 'A', 'delete': 'A'}}, {'entity_type': 'leads', 'pipeline_id': 4973208, 'status_id': 44893854, 'rights': {'view': 'A', 'edit': 'A', 'delete': 'A'}}, {'entity_type': 'leads', 'pipeline_id': 5299044, 'status_id': 47220489, 'rights': {'view': 'A', 'edit': 'A', 'delete': 'A'}}, {'entity_type': 'leads', 'pipeline_id': 5398521, 'status_id': 47937270, 'rights': {'view': 'A', 'edit': 'A', 'delete': 'A'}}, {'entity_type': 'leads', 'pipeline_id': 5463537, 'status_id': 48406344, 'rights': {'view': 'A', 'edit': 'A', 'delete': 'A'}}, {'entity_type': 'leads', 'pipeline_id': 5463789, 'status_id': 48408288, 'rights': {'view': 'A', 'edit': 'A', 'delete': 'A'}}, {'entity_type': 'leads', 'pipeline_id': 5504577, 'status_id': 48699729, 'rights': {'view': 'A', 'edit': 'A', 'delete': 'A'}}, {'entity_type': 'leads', 'pipeline_id': 5515518, 'status_id': 48778242, 'rights': {'view': 'A', 'edit': 'A', 'delete': 'A'}}, {'entity_type': 'leads', 'pipeline_id': 5609220, 'status_id': 49456941, 'rights': {'view': 'A', 'edit': 'A', 'delete': 'A'}}]),\n",
       " User(catalog_access = False, email = maksim.k@oddjob.email, id = 7951182, is_active = False, is_admin = False, is_free = False, lang = ru, mail_access = False, name = Корбатов Максим, status_rights = [{'entity_type': 'leads', 'pipeline_id': 15219, 'status_id': 23406784, 'rights': {'edit': 'D', 'view': 'D', 'delete': 'D'}}, {'entity_type': 'leads', 'pipeline_id': 1041060, 'status_id': 23406781, 'rights': {'edit': 'D', 'view': 'D', 'delete': 'D'}}, {'entity_type': 'leads', 'pipeline_id': 1045806, 'status_id': 23406787, 'rights': {'edit': 'D', 'view': 'D', 'delete': 'D'}}, {'entity_type': 'leads', 'pipeline_id': 1443795, 'status_id': 23406790, 'rights': {'edit': 'D', 'view': 'D', 'delete': 'D'}}, {'entity_type': 'leads', 'pipeline_id': 1520397, 'status_id': 23406793, 'rights': {'edit': 'D', 'view': 'D', 'delete': 'D'}}, {'entity_type': 'leads', 'pipeline_id': 1981812, 'status_id': 29378454, 'rights': {'edit': 'D', 'view': 'D', 'delete': 'D'}}]),\n",
       " User(catalog_access = False, email = kamil.h@oddjob.email, id = 8015391, is_active = False, is_admin = False, is_free = False, lang = ru, mail_access = False, name = Хусаинов Камиль, status_rights = [{'entity_type': 'leads', 'pipeline_id': 15219, 'status_id': 23406784, 'rights': {'edit': 'D', 'view': 'D', 'delete': 'D'}}, {'entity_type': 'leads', 'pipeline_id': 1041060, 'status_id': 23406781, 'rights': {'edit': 'D', 'view': 'D', 'delete': 'D'}}, {'entity_type': 'leads', 'pipeline_id': 1045806, 'status_id': 23406787, 'rights': {'edit': 'D', 'view': 'D', 'delete': 'D'}}, {'entity_type': 'leads', 'pipeline_id': 1443795, 'status_id': 23406790, 'rights': {'edit': 'D', 'view': 'D', 'delete': 'D'}}, {'entity_type': 'leads', 'pipeline_id': 1520397, 'status_id': 23406793, 'rights': {'edit': 'D', 'view': 'D', 'delete': 'D'}}, {'entity_type': 'leads', 'pipeline_id': 1981812, 'status_id': 29378454, 'rights': {'edit': 'D', 'view': 'D', 'delete': 'D'}}]),\n",
       " User(catalog_access = False, email = marina.k@oddjob.email, id = 8018598, is_active = True, is_admin = False, is_free = False, lang = ru, mail_access = False, name = Карпунина Марина, status_rights = [{'entity_type': 'leads', 'pipeline_id': 15219, 'status_id': 23406784, 'rights': {'edit': 'D', 'view': 'D', 'delete': 'D'}}, {'entity_type': 'leads', 'pipeline_id': 1041060, 'status_id': 23406781, 'rights': {'edit': 'D', 'view': 'D', 'delete': 'D'}}, {'entity_type': 'leads', 'pipeline_id': 1045806, 'status_id': 23406787, 'rights': {'edit': 'D', 'view': 'D', 'delete': 'D'}}, {'entity_type': 'leads', 'pipeline_id': 1443795, 'status_id': 23406790, 'rights': {'edit': 'D', 'view': 'D', 'delete': 'D'}}, {'entity_type': 'leads', 'pipeline_id': 1520397, 'status_id': 23406793, 'rights': {'edit': 'D', 'view': 'D', 'delete': 'D'}}, {'entity_type': 'leads', 'pipeline_id': 1981812, 'status_id': 29378454, 'rights': {'edit': 'D', 'view': 'D', 'delete': 'D'}}]),\n",
       " User(catalog_access = False, email = alena.g@oddjob.email, id = 8101011, is_active = False, is_admin = False, is_free = False, lang = ru, mail_access = False, name = Гришина Алена, status_rights = [{'entity_type': 'leads', 'pipeline_id': 15219, 'status_id': 23406784, 'rights': {'edit': 'D', 'view': 'D', 'delete': 'D'}}, {'entity_type': 'leads', 'pipeline_id': 1041060, 'status_id': 23406781, 'rights': {'edit': 'D', 'view': 'D', 'delete': 'D'}}, {'entity_type': 'leads', 'pipeline_id': 1045806, 'status_id': 23406787, 'rights': {'edit': 'D', 'view': 'D', 'delete': 'D'}}, {'entity_type': 'leads', 'pipeline_id': 1443795, 'status_id': 23406790, 'rights': {'edit': 'D', 'view': 'D', 'delete': 'D'}}, {'entity_type': 'leads', 'pipeline_id': 1520397, 'status_id': 23406793, 'rights': {'edit': 'D', 'view': 'D', 'delete': 'D'}}, {'entity_type': 'leads', 'pipeline_id': 1981812, 'status_id': 29378454, 'rights': {'edit': 'D', 'view': 'D', 'delete': 'D'}}]),\n",
       " User(catalog_access = False, email = egor.a@oddjob.email, id = 8101014, is_active = False, is_admin = False, is_free = False, lang = ru, mail_access = False, name = Агалаков Егор, status_rights = [{'entity_type': 'leads', 'pipeline_id': 15219, 'status_id': 23406784, 'rights': {'edit': 'D', 'view': 'D', 'delete': 'D'}}, {'entity_type': 'leads', 'pipeline_id': 1041060, 'status_id': 23406781, 'rights': {'edit': 'D', 'view': 'D', 'delete': 'D'}}, {'entity_type': 'leads', 'pipeline_id': 1045806, 'status_id': 23406787, 'rights': {'edit': 'D', 'view': 'D', 'delete': 'D'}}, {'entity_type': 'leads', 'pipeline_id': 1443795, 'status_id': 23406790, 'rights': {'edit': 'D', 'view': 'D', 'delete': 'D'}}, {'entity_type': 'leads', 'pipeline_id': 1520397, 'status_id': 23406793, 'rights': {'edit': 'D', 'view': 'D', 'delete': 'D'}}, {'entity_type': 'leads', 'pipeline_id': 1981812, 'status_id': 29378454, 'rights': {'edit': 'D', 'view': 'D', 'delete': 'D'}}]),\n",
       " User(catalog_access = False, email = vladimir.e@oddjob.email, id = 8105346, is_active = True, is_admin = False, is_free = False, lang = ru, mail_access = False, name = Владимир Ефимов, status_rights = [{'entity_type': 'leads', 'pipeline_id': 15219, 'status_id': 23406784, 'rights': {'edit': 'D', 'view': 'D', 'delete': 'D'}}, {'entity_type': 'leads', 'pipeline_id': 1041060, 'status_id': 23406781, 'rights': {'edit': 'D', 'view': 'D', 'delete': 'D'}}, {'entity_type': 'leads', 'pipeline_id': 1045806, 'status_id': 23406787, 'rights': {'edit': 'D', 'view': 'D', 'delete': 'D'}}, {'entity_type': 'leads', 'pipeline_id': 1443795, 'status_id': 23406790, 'rights': {'edit': 'D', 'view': 'D', 'delete': 'D'}}, {'entity_type': 'leads', 'pipeline_id': 1520397, 'status_id': 23406793, 'rights': {'edit': 'D', 'view': 'D', 'delete': 'D'}}, {'entity_type': 'leads', 'pipeline_id': 1981812, 'status_id': 29378454, 'rights': {'edit': 'D', 'view': 'D', 'delete': 'D'}}]),\n",
       " User(catalog_access = False, email = ilya.m@oddjob.email, id = 8189055, is_active = False, is_admin = False, is_free = False, lang = ru, mail_access = False, name = Маслов Илья, status_rights = [{'entity_type': 'leads', 'pipeline_id': 15219, 'status_id': 23406784, 'rights': {'edit': 'D', 'view': 'D', 'delete': 'D'}}, {'entity_type': 'leads', 'pipeline_id': 1041060, 'status_id': 23406781, 'rights': {'edit': 'D', 'view': 'D', 'delete': 'D'}}, {'entity_type': 'leads', 'pipeline_id': 1045806, 'status_id': 23406787, 'rights': {'edit': 'D', 'view': 'D', 'delete': 'D'}}, {'entity_type': 'leads', 'pipeline_id': 1443795, 'status_id': 23406790, 'rights': {'edit': 'D', 'view': 'D', 'delete': 'D'}}, {'entity_type': 'leads', 'pipeline_id': 1520397, 'status_id': 23406793, 'rights': {'edit': 'D', 'view': 'D', 'delete': 'D'}}, {'entity_type': 'leads', 'pipeline_id': 1981812, 'status_id': 29378454, 'rights': {'edit': 'D', 'view': 'D', 'delete': 'D'}}]),\n",
       " User(catalog_access = False, email = yulia.k@oddjob.email, id = 8190720, is_active = False, is_admin = False, is_free = False, lang = ru, mail_access = False, name = Каспирович Юлия, status_rights = [{'entity_type': 'leads', 'pipeline_id': 15219, 'status_id': 23406784, 'rights': {'edit': 'D', 'view': 'D', 'delete': 'D'}}, {'entity_type': 'leads', 'pipeline_id': 1041060, 'status_id': 23406781, 'rights': {'edit': 'D', 'view': 'D', 'delete': 'D'}}, {'entity_type': 'leads', 'pipeline_id': 1045806, 'status_id': 23406787, 'rights': {'edit': 'D', 'view': 'D', 'delete': 'D'}}, {'entity_type': 'leads', 'pipeline_id': 1443795, 'status_id': 23406790, 'rights': {'edit': 'D', 'view': 'D', 'delete': 'D'}}, {'entity_type': 'leads', 'pipeline_id': 1520397, 'status_id': 23406793, 'rights': {'edit': 'D', 'view': 'D', 'delete': 'D'}}, {'entity_type': 'leads', 'pipeline_id': 1981812, 'status_id': 29378454, 'rights': {'edit': 'D', 'view': 'D', 'delete': 'D'}}]),\n",
       " User(catalog_access = False, email = viktoria.u@oddjob.email, id = 8191749, is_active = False, is_admin = False, is_free = False, lang = ru, mail_access = False, name = Устинова Виктория, status_rights = [{'entity_type': 'leads', 'pipeline_id': 15219, 'status_id': 23406784, 'rights': {'edit': 'D', 'view': 'D', 'delete': 'D'}}, {'entity_type': 'leads', 'pipeline_id': 1041060, 'status_id': 23406781, 'rights': {'edit': 'D', 'view': 'D', 'delete': 'D'}}, {'entity_type': 'leads', 'pipeline_id': 1045806, 'status_id': 23406787, 'rights': {'edit': 'D', 'view': 'D', 'delete': 'D'}}, {'entity_type': 'leads', 'pipeline_id': 1443795, 'status_id': 23406790, 'rights': {'edit': 'D', 'view': 'D', 'delete': 'D'}}, {'entity_type': 'leads', 'pipeline_id': 1520397, 'status_id': 23406793, 'rights': {'edit': 'D', 'view': 'D', 'delete': 'D'}}, {'entity_type': 'leads', 'pipeline_id': 1981812, 'status_id': 29378454, 'rights': {'edit': 'D', 'view': 'D', 'delete': 'D'}}]),\n",
       " User(catalog_access = False, email = alexander.i@oddjob.email, id = 8252913, is_active = True, is_admin = False, is_free = False, lang = ru, mail_access = False, name = Иванов Александр, status_rights = [{'entity_type': 'leads', 'pipeline_id': 15219, 'status_id': 23406784, 'rights': {'view': 'A', 'edit': 'A', 'delete': 'A'}}, {'entity_type': 'leads', 'pipeline_id': 1041060, 'status_id': 23406781, 'rights': {'view': 'A', 'edit': 'A', 'delete': 'A'}}, {'entity_type': 'leads', 'pipeline_id': 1045806, 'status_id': 23406787, 'rights': {'view': 'A', 'edit': 'A', 'delete': 'A'}}, {'entity_type': 'leads', 'pipeline_id': 1443795, 'status_id': 23406790, 'rights': {'view': 'A', 'edit': 'A', 'delete': 'A'}}, {'entity_type': 'leads', 'pipeline_id': 1520397, 'status_id': 23406793, 'rights': {'view': 'A', 'edit': 'A', 'delete': 'A'}}, {'entity_type': 'leads', 'pipeline_id': 1981812, 'status_id': 29378454, 'rights': {'view': 'A', 'edit': 'A', 'delete': 'A'}}, {'entity_type': 'leads', 'pipeline_id': 2180478, 'status_id': 30750402, 'rights': {'view': 'D', 'edit': 'D', 'delete': 'D'}}, {'entity_type': 'leads', 'pipeline_id': 3738408, 'status_id': 36227097, 'rights': {'view': 'D', 'edit': 'D', 'delete': 'D'}}, {'entity_type': 'leads', 'pipeline_id': 4359000, 'status_id': 40585662, 'rights': {'view': 'D', 'edit': 'D', 'delete': 'D'}}, {'entity_type': 'leads', 'pipeline_id': 4365495, 'status_id': 40632720, 'rights': {'view': 'D', 'edit': 'D', 'delete': 'D'}}, {'entity_type': 'leads', 'pipeline_id': 4483554, 'status_id': 41469441, 'rights': {'view': 'D', 'edit': 'D', 'delete': 'D'}}, {'entity_type': 'leads', 'pipeline_id': 4973208, 'status_id': 44893854, 'rights': {'view': 'D', 'edit': 'D', 'delete': 'D'}}, {'entity_type': 'leads', 'pipeline_id': 5299044, 'status_id': 47220489, 'rights': {'view': 'D', 'edit': 'D', 'delete': 'D'}}, {'entity_type': 'leads', 'pipeline_id': 5398521, 'status_id': 47937270, 'rights': {'view': 'D', 'edit': 'D', 'delete': 'D'}}, {'entity_type': 'leads', 'pipeline_id': 5463537, 'status_id': 48406344, 'rights': {'view': 'D', 'edit': 'D', 'delete': 'D'}}, {'entity_type': 'leads', 'pipeline_id': 5463789, 'status_id': 48408288, 'rights': {'view': 'D', 'edit': 'D', 'delete': 'D'}}, {'entity_type': 'leads', 'pipeline_id': 5504577, 'status_id': 48699729, 'rights': {'view': 'D', 'edit': 'D', 'delete': 'D'}}, {'entity_type': 'leads', 'pipeline_id': 5515518, 'status_id': 48778242, 'rights': {'view': 'D', 'edit': 'D', 'delete': 'D'}}, {'entity_type': 'leads', 'pipeline_id': 5609220, 'status_id': 49456941, 'rights': {'view': 'D', 'edit': 'D', 'delete': 'D'}}]),\n",
       " User(catalog_access = False, email = andrei.b@oddjob.email, id = 8265087, is_active = False, is_admin = False, is_free = False, lang = ru, mail_access = False, name = Буртник Андрей, status_rights = [{'entity_type': 'leads', 'pipeline_id': 15219, 'status_id': 23406784, 'rights': {'edit': 'D', 'view': 'D', 'delete': 'D'}}, {'entity_type': 'leads', 'pipeline_id': 1041060, 'status_id': 23406781, 'rights': {'edit': 'D', 'view': 'D', 'delete': 'D'}}, {'entity_type': 'leads', 'pipeline_id': 1045806, 'status_id': 23406787, 'rights': {'edit': 'D', 'view': 'D', 'delete': 'D'}}, {'entity_type': 'leads', 'pipeline_id': 1443795, 'status_id': 23406790, 'rights': {'edit': 'D', 'view': 'D', 'delete': 'D'}}, {'entity_type': 'leads', 'pipeline_id': 1520397, 'status_id': 23406793, 'rights': {'edit': 'D', 'view': 'D', 'delete': 'D'}}, {'entity_type': 'leads', 'pipeline_id': 1981812, 'status_id': 29378454, 'rights': {'edit': 'D', 'view': 'D', 'delete': 'D'}}]),\n",
       " User(catalog_access = False, email = artem.k@oddjob.email, id = 8265090, is_active = False, is_admin = False, is_free = False, lang = ru, mail_access = False, name = Коробченко Артем, status_rights = [{'entity_type': 'leads', 'pipeline_id': 15219, 'status_id': 23406784, 'rights': {'edit': 'D', 'view': 'D', 'delete': 'D'}}, {'entity_type': 'leads', 'pipeline_id': 1041060, 'status_id': 23406781, 'rights': {'edit': 'D', 'view': 'D', 'delete': 'D'}}, {'entity_type': 'leads', 'pipeline_id': 1045806, 'status_id': 23406787, 'rights': {'edit': 'D', 'view': 'D', 'delete': 'D'}}, {'entity_type': 'leads', 'pipeline_id': 1443795, 'status_id': 23406790, 'rights': {'edit': 'D', 'view': 'D', 'delete': 'D'}}, {'entity_type': 'leads', 'pipeline_id': 1520397, 'status_id': 23406793, 'rights': {'edit': 'D', 'view': 'D', 'delete': 'D'}}, {'entity_type': 'leads', 'pipeline_id': 1981812, 'status_id': 29378454, 'rights': {'edit': 'D', 'view': 'D', 'delete': 'D'}}]),\n",
       " User(catalog_access = False, email = arina.r@oddjob.email, id = 8307513, is_active = True, is_admin = False, is_free = False, lang = ru, mail_access = False, name = Рожкова Арина, status_rights = [{'entity_type': 'leads', 'pipeline_id': 15219, 'status_id': 23406784, 'rights': {'edit': 'D', 'view': 'D', 'delete': 'D'}}, {'entity_type': 'leads', 'pipeline_id': 1041060, 'status_id': 23406781, 'rights': {'edit': 'D', 'view': 'D', 'delete': 'D'}}, {'entity_type': 'leads', 'pipeline_id': 1045806, 'status_id': 23406787, 'rights': {'edit': 'D', 'view': 'D', 'delete': 'D'}}, {'entity_type': 'leads', 'pipeline_id': 1443795, 'status_id': 23406790, 'rights': {'edit': 'D', 'view': 'D', 'delete': 'D'}}, {'entity_type': 'leads', 'pipeline_id': 1520397, 'status_id': 23406793, 'rights': {'edit': 'D', 'view': 'D', 'delete': 'D'}}, {'entity_type': 'leads', 'pipeline_id': 1981812, 'status_id': 29378454, 'rights': {'edit': 'D', 'view': 'D', 'delete': 'D'}}])]"
      ]
     },
     "execution_count": 5,
     "metadata": {},
     "output_type": "execute_result"
    }
   ],
   "source": [
    "users"
   ]
  },
  {
   "cell_type": "markdown",
   "id": "b904bda7",
   "metadata": {},
   "source": [
    "## Parsing Users"
   ]
  },
  {
   "cell_type": "code",
   "execution_count": 6,
   "id": "c4273072",
   "metadata": {
    "ExecuteTime": {
     "end_time": "2022-08-09T14:54:42.430276Z",
     "start_time": "2022-08-09T14:54:41.831091Z"
    }
   },
   "outputs": [],
   "source": [
    "import pandas as pd"
   ]
  },
  {
   "cell_type": "code",
   "execution_count": 14,
   "id": "2cbe6579",
   "metadata": {
    "ExecuteTime": {
     "end_time": "2022-08-09T14:58:43.102306Z",
     "start_time": "2022-08-09T14:58:43.099636Z"
    }
   },
   "outputs": [],
   "source": [
    "users_dicts = []\n",
    "for user in users:\n",
    "    users_dicts.append(user.__dict__['_data'])"
   ]
  },
  {
   "cell_type": "code",
   "execution_count": 22,
   "id": "57f72e30",
   "metadata": {
    "ExecuteTime": {
     "end_time": "2022-08-09T15:02:52.407325Z",
     "start_time": "2022-08-09T15:02:52.403351Z"
    }
   },
   "outputs": [
    {
     "data": {
      "text/plain": [
       "dict_keys(['leads', 'contacts', 'companies', 'tasks', 'mail_access', 'catalog_access', 'files_access', 'status_rights', 'catalog_rights', 'custom_fields_rights', 'oper_day_reports_view_access', 'oper_day_user_tracking', 'is_admin', 'is_free', 'is_active', 'group_id', 'role_id'])"
      ]
     },
     "execution_count": 22,
     "metadata": {},
     "output_type": "execute_result"
    }
   ],
   "source": [
    "users_dicts[0]['rights'].keys()"
   ]
  },
  {
   "cell_type": "code",
   "execution_count": 25,
   "id": "cdb452fd",
   "metadata": {
    "ExecuteTime": {
     "end_time": "2022-08-09T15:23:43.420775Z",
     "start_time": "2022-08-09T15:23:43.417569Z"
    }
   },
   "outputs": [],
   "source": [
    "for user in users_dicts:\n",
    "    user['is_admin'] = users_dicts[0]['rights']['is_admin']\n",
    "    user['is_active'] = users_dicts[0]['rights']['is_active']\n",
    "    user['group_id'] = users_dicts[0]['rights']['group_id']\n",
    "    user['role_id'] = users_dicts[0]['rights']['role_id']"
   ]
  },
  {
   "cell_type": "code",
   "execution_count": 24,
   "id": "da366faf",
   "metadata": {
    "ExecuteTime": {
     "end_time": "2022-08-09T15:22:20.546916Z",
     "start_time": "2022-08-09T15:22:20.543105Z"
    }
   },
   "outputs": [
    {
     "data": {
      "text/plain": [
       "True"
      ]
     },
     "execution_count": 24,
     "metadata": {},
     "output_type": "execute_result"
    }
   ],
   "source": [
    "users_dicts[0]['rights']['is_active']"
   ]
  },
  {
   "cell_type": "code",
   "execution_count": 26,
   "id": "f409d336",
   "metadata": {
    "ExecuteTime": {
     "end_time": "2022-08-09T15:23:56.099527Z",
     "start_time": "2022-08-09T15:23:56.095918Z"
    }
   },
   "outputs": [],
   "source": [
    "df_users = pd.DataFrame(users_dicts)"
   ]
  },
  {
   "cell_type": "code",
   "execution_count": 27,
   "id": "ffcac741",
   "metadata": {
    "ExecuteTime": {
     "end_time": "2022-08-09T15:23:57.503420Z",
     "start_time": "2022-08-09T15:23:57.498539Z"
    }
   },
   "outputs": [],
   "source": [
    "df_users.drop([\"rights\", \"_links\"], axis=1, inplace=True)"
   ]
  },
  {
   "cell_type": "code",
   "execution_count": 29,
   "id": "8f70a745",
   "metadata": {
    "ExecuteTime": {
     "end_time": "2022-08-09T15:26:37.137846Z",
     "start_time": "2022-08-09T15:26:37.135384Z"
    }
   },
   "outputs": [],
   "source": [
    "import os\n",
    "os.environ[\"GOOGLE_APPLICATION_CREDENTIALS\"]=\"./oddjob-db-2007-759fe782b144.json\""
   ]
  },
  {
   "cell_type": "code",
   "execution_count": 30,
   "id": "43b36c3a",
   "metadata": {
    "ExecuteTime": {
     "end_time": "2022-08-09T15:26:39.593564Z",
     "start_time": "2022-08-09T15:26:39.442859Z"
    }
   },
   "outputs": [
    {
     "name": "stdout",
     "output_type": "stream",
     "text": [
      "./oddjob-db-2007-759fe782b144.json\r\n"
     ]
    }
   ],
   "source": [
    "! echo $GOOGLE_APPLICATION_CREDENTIALS"
   ]
  },
  {
   "cell_type": "code",
   "execution_count": 31,
   "id": "44f2f2f4",
   "metadata": {
    "ExecuteTime": {
     "end_time": "2022-08-09T15:26:41.564737Z",
     "start_time": "2022-08-09T15:26:41.109505Z"
    }
   },
   "outputs": [],
   "source": [
    "from google.cloud import bigquery"
   ]
  },
  {
   "cell_type": "code",
   "execution_count": 32,
   "id": "4991bd82",
   "metadata": {
    "ExecuteTime": {
     "end_time": "2022-08-09T15:26:42.081458Z",
     "start_time": "2022-08-09T15:26:42.073791Z"
    }
   },
   "outputs": [],
   "source": [
    "client = bigquery.Client()"
   ]
  },
  {
   "cell_type": "code",
   "execution_count": 33,
   "id": "df290b8a",
   "metadata": {
    "ExecuteTime": {
     "end_time": "2022-08-09T15:27:10.095537Z",
     "start_time": "2022-08-09T15:27:05.606150Z"
    }
   },
   "outputs": [],
   "source": [
    "df_users.to_gbq(\n",
    "    \"franchise_oddjob.dw_amocrm_fr_users\", if_exists=\"replace\"\n",
    ")"
   ]
  },
  {
   "cell_type": "markdown",
   "id": "f87185d5",
   "metadata": {},
   "source": [
    "# Status names"
   ]
  },
  {
   "cell_type": "code",
   "execution_count": 50,
   "id": "93965771",
   "metadata": {},
   "outputs": [],
   "source": [
    "from amocrm.v2 import Status, filters\n",
    "from amocrm.v2.exceptions import AmoApiException"
   ]
  },
  {
   "cell_type": "code",
   "execution_count": 7,
   "id": "4e9ea678",
   "metadata": {},
   "outputs": [],
   "source": [
    "import pandas as pd"
   ]
  },
  {
   "cell_type": "code",
   "execution_count": null,
   "id": "8a52cf53",
   "metadata": {},
   "outputs": [],
   "source": [
    "df_statuses = pd.DataFrame.from_dict({\n",
    "    'id': ['']\n",
    "})"
   ]
  },
  {
   "cell_type": "code",
   "execution_count": 22,
   "id": "a78c66b3",
   "metadata": {},
   "outputs": [],
   "source": [
    "import os\n",
    "os.environ[\"GOOGLE_APPLICATION_CREDENTIALS\"]=\"./oddjob-db-2007-759fe782b144.json\""
   ]
  },
  {
   "cell_type": "code",
   "execution_count": 23,
   "id": "017437c0",
   "metadata": {},
   "outputs": [
    {
     "name": "stdout",
     "output_type": "stream",
     "text": [
      "./oddjob-db-2007-759fe782b144.json\r\n"
     ]
    }
   ],
   "source": [
    "! echo $GOOGLE_APPLICATION_CREDENTIALS"
   ]
  },
  {
   "cell_type": "code",
   "execution_count": 24,
   "id": "69b0c86a",
   "metadata": {},
   "outputs": [],
   "source": [
    "from google.cloud import bigquery"
   ]
  },
  {
   "cell_type": "raw",
   "id": "c2e1cd70",
   "metadata": {},
   "source": [
    "client = bigquery.Client()"
   ]
  },
  {
   "cell_type": "code",
   "execution_count": 51,
   "id": "dd6ccb27",
   "metadata": {},
   "outputs": [],
   "source": [
    "df_temp_pipe = pd.read_gbq(\n",
    "    \"\"\"\n",
    "    SELECT DISTINCT\n",
    "        id\n",
    "    FROM\n",
    "        `oddjob-db-2007.franchise_oddjob.dw_amocrm_fr_pipelines`\n",
    "    \"\"\"\n",
    ")\n",
    "pipeline_ids = df_temp_pipe['id'].to_list()\n",
    "statuses = []\n",
    "for pipeline in pipeline_ids:\n",
    "    df_temp_stat = pd.read_gbq(\n",
    "        f\"\"\"\n",
    "        SELECT DISTINCT\n",
    "            id_status_before\n",
    "        FROM\n",
    "            `oddjob-db-2007.franchise_oddjob.dw_amocrm_fr_events`\n",
    "        WHERE id_pipeline_before = {pipeline}\n",
    "        \"\"\"\n",
    "    )\n",
    "    status_ids = df_temp_stat[\"id_status_before\"].to_list()\n",
    "    for status in status_ids:\n",
    "        try:\n",
    "            statuses.append(\n",
    "                Status.get_for(f\"{pipeline}\").get(f\"{status}\").__dict__[\"_data\"]\n",
    "            )\n",
    "        except AmoApiException:\n",
    "            pass"
   ]
  },
  {
   "cell_type": "code",
   "execution_count": 52,
   "id": "0556e8fb",
   "metadata": {},
   "outputs": [],
   "source": [
    "df_statuses = pd.DataFrame(statuses)"
   ]
  },
  {
   "cell_type": "code",
   "execution_count": 54,
   "id": "7fc3ef76",
   "metadata": {},
   "outputs": [],
   "source": [
    "df_statuses.drop([\"_links\"], axis=1, inplace=True)"
   ]
  },
  {
   "cell_type": "code",
   "execution_count": 56,
   "id": "896bd44a",
   "metadata": {},
   "outputs": [],
   "source": [
    "df_statuses.to_gbq(\n",
    "    'franchise_oddjob.dw_amocrm_fr_statuses',\n",
    "    if_exists='replace'\n",
    ")"
   ]
  }
 ],
 "metadata": {
  "kernelspec": {
   "display_name": "Python 3 (ipykernel)",
   "language": "python",
   "name": "python3"
  },
  "language_info": {
   "codemirror_mode": {
    "name": "ipython",
    "version": 3
   },
   "file_extension": ".py",
   "mimetype": "text/x-python",
   "name": "python",
   "nbconvert_exporter": "python",
   "pygments_lexer": "ipython3",
   "version": "3.10.1"
  },
  "toc": {
   "base_numbering": 1,
   "nav_menu": {
    "height": "248.999px",
    "width": "356.996px"
   },
   "number_sections": true,
   "sideBar": true,
   "skip_h1_title": false,
   "title_cell": "Table of Contents",
   "title_sidebar": "Contents",
   "toc_cell": false,
   "toc_position": {},
   "toc_section_display": true,
   "toc_window_display": false
  },
  "varInspector": {
   "cols": {
    "lenName": 16,
    "lenType": 16,
    "lenVar": 40
   },
   "kernels_config": {
    "python": {
     "delete_cmd_postfix": "",
     "delete_cmd_prefix": "del ",
     "library": "var_list.py",
     "varRefreshCmd": "print(var_dic_list())"
    },
    "r": {
     "delete_cmd_postfix": ") ",
     "delete_cmd_prefix": "rm(",
     "library": "var_list.r",
     "varRefreshCmd": "cat(var_dic_list()) "
    }
   },
   "types_to_exclude": [
    "module",
    "function",
    "builtin_function_or_method",
    "instance",
    "_Feature"
   ],
   "window_display": false
  },
  "widgets": {
   "application/vnd.jupyter.widget-state+json": {
    "state": {},
    "version_major": 2,
    "version_minor": 0
   }
  }
 },
 "nbformat": 4,
 "nbformat_minor": 5
}
