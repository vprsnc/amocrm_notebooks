{
 "cells": [
  {
   "cell_type": "markdown",
   "id": "36b3407f",
   "metadata": {},
   "source": [
    "# accelerator"
   ]
  },
  {
   "cell_type": "markdown",
   "id": "21c7fb74",
   "metadata": {},
   "source": [
    "## LOGON"
   ]
  },
  {
   "cell_type": "code",
   "execution_count": 9,
   "id": "d67f16ee",
   "metadata": {},
   "outputs": [],
   "source": [
    "from amocrm.v2 import tokens\n",
    "from amocrm.v2.exceptions import UnAuthorizedException, AmoApiException"
   ]
  },
  {
   "cell_type": "code",
   "execution_count": 10,
   "id": "be716701",
   "metadata": {},
   "outputs": [],
   "source": [
    "from accelerator_config import keys\n",
    "tokens.default_token_manager(\n",
    "    storage=tokens.FileTokensStorage(directory_path=\"./test_dir/accelerator\"),  # by default FileTokensStorage\n",
    ")"
   ]
  },
  {
   "cell_type": "code",
   "execution_count": 11,
   "id": "3bc4f6d6",
   "metadata": {},
   "outputs": [],
   "source": [
    "tokens.default_token_manager.init(\n",
    "    code='def50200be2abfea2417b7031a536afaab20963e1b10d432661d3f78d18b16b319ffa6c13604f09db3169bdda060f52c2ee7560724add60f013de0afb3945872af3f291705f921e04480183b16c2dd0a724f06c6db27f7ff4e6751c29cec9cebe8cccd9900ae1c8751a0697eb41335753a98297a7e2ac555e3884a9b1cdafda9188310260dc305e1929a73322378c1536c8dabb2b05b6795d6b8f56df97f2e01443b2fc843c996b4c41ee1a6f753d68cae2a1ef9bd6a611f0806f7aeb7ed71088925d7d160b4c55077ea50c4b2186d72f186eea8de23837a37a0cc6ed8028f79516040656dcd870ba9164c954ae7f4ddbcf4ab0454ae2f296733ddeebb86b126eaec67d71847a5eac0b3caeb3fa41c85cc3fce4312bb6a933a8521552bbf604a55c40367da7361a11380b9d370b28c2cccb5b3924042e130c3f2d98b1a18d7edc2f03ca4ba850e710fab0031a4b945d220aa2f693fd2e58e998e811c0141566b03130609ce0736b1edd81dbc6b88805c2c468ded91a52ba8cca60482c66f18898a385725d0b215227cd77584151c1bdabc5b8ff54a82c8bc56fa5dc11b2c0c14cc14c08bb17241ec350b615f89de9aaad03c3a66f49b0f089074ef33635cc36faa6fb613cdabc39945d50e625d9fa72af48d9c34bc79503ad4ef7313',\n",
    "    skip_error=False\n",
    ")"
   ]
  },
  {
   "cell_type": "markdown",
   "id": "8a0d002a",
   "metadata": {},
   "source": [
    "## Pipelines"
   ]
  },
  {
   "cell_type": "code",
   "execution_count": 12,
   "id": "bfbab7cf",
   "metadata": {},
   "outputs": [],
   "source": [
    "from amocrm.v2 import Pipeline, Status"
   ]
  },
  {
   "cell_type": "code",
   "execution_count": 13,
   "id": "93ac05fc",
   "metadata": {},
   "outputs": [],
   "source": [
    "pipelines = list(Pipeline.objects.all())"
   ]
  },
  {
   "cell_type": "code",
   "execution_count": 14,
   "id": "6c799c73",
   "metadata": {},
   "outputs": [],
   "source": [
    "pipelines_dicts = []\n",
    "for pipeline in pipelines:\n",
    "    pipelines_dicts.append(pipeline.__dict__['_data'])"
   ]
  },
  {
   "cell_type": "code",
   "execution_count": 15,
   "id": "b6afb970",
   "metadata": {},
   "outputs": [],
   "source": [
    "import pandas as pd"
   ]
  },
  {
   "cell_type": "code",
   "execution_count": 16,
   "id": "c9e31a7b",
   "metadata": {},
   "outputs": [],
   "source": [
    "import os\n",
    "os.environ[\"GOOGLE_APPLICATION_CREDENTIALS\"]=\"./oddjob-db-2007-759fe782b144.json\""
   ]
  },
  {
   "cell_type": "code",
   "execution_count": 17,
   "id": "ef355953",
   "metadata": {},
   "outputs": [],
   "source": [
    "df_pipelines = pd.DataFrame(pipelines_dicts)\n",
    "\n",
    "df_pipelines.drop([\"_links\", \"_embedded\"], axis=1, inplace=True)"
   ]
  },
  {
   "cell_type": "code",
   "execution_count": 18,
   "id": "48edd35a",
   "metadata": {},
   "outputs": [],
   "source": [
    "from google.cloud import bigquery\n",
    "client = bigquery.Client()"
   ]
  },
  {
   "cell_type": "code",
   "execution_count": 19,
   "id": "fd36e1e4",
   "metadata": {},
   "outputs": [],
   "source": [
    "df_pipelines.to_gbq(\n",
    "    \"accelerator_oddjob.dw_amocrm_alc_pipelines\",\n",
    "    if_exists=\"replace\"\n",
    ")"
   ]
  },
  {
   "cell_type": "markdown",
   "id": "5c35c41d",
   "metadata": {},
   "source": [
    "## Users"
   ]
  },
  {
   "cell_type": "code",
   "execution_count": 20,
   "id": "a2aa89d9",
   "metadata": {},
   "outputs": [],
   "source": [
    "from amocrm.v2 import User"
   ]
  },
  {
   "cell_type": "code",
   "execution_count": 21,
   "id": "d1264e13",
   "metadata": {},
   "outputs": [],
   "source": [
    "users = list(User.objects.all())"
   ]
  },
  {
   "cell_type": "code",
   "execution_count": 22,
   "id": "7970876d",
   "metadata": {},
   "outputs": [],
   "source": [
    "users_dicts = []\n",
    "for user in users:\n",
    "    users_dicts.append(user.__dict__['_data'])"
   ]
  },
  {
   "cell_type": "code",
   "execution_count": 23,
   "id": "4417603a",
   "metadata": {},
   "outputs": [],
   "source": [
    "for user in users_dicts:\n",
    "    user['is_admin'] = users_dicts[0]['rights']['is_admin']\n",
    "    user['is_active'] = users_dicts[0]['rights']['is_active']\n",
    "    user['group_id'] = users_dicts[0]['rights']['group_id']\n",
    "    user['role_id'] = users_dicts[0]['rights']['role_id']"
   ]
  },
  {
   "cell_type": "code",
   "execution_count": 24,
   "id": "21baad12",
   "metadata": {},
   "outputs": [],
   "source": [
    "df_users = pd.DataFrame(users_dicts)\n",
    "df_users.drop([\"rights\", \"_links\"], axis=1, inplace=True)"
   ]
  },
  {
   "cell_type": "code",
   "execution_count": 25,
   "id": "567f3a59",
   "metadata": {},
   "outputs": [],
   "source": [
    "df_users.to_gbq(\n",
    "    \"accelerator_oddjob.dw_amocrm_alc_users\", if_exists=\"replace\"\n",
    ")"
   ]
  },
  {
   "cell_type": "markdown",
   "id": "83b2a009",
   "metadata": {},
   "source": [
    "## Status names"
   ]
  },
  {
   "cell_type": "code",
   "execution_count": 26,
   "id": "1da4081b",
   "metadata": {},
   "outputs": [],
   "source": [
    "from amocrm.v2 import Status, filters\n",
    "from amocrm.v2.exceptions import AmoApiException"
   ]
  },
  {
   "cell_type": "code",
   "execution_count": 27,
   "id": "e27aa58f",
   "metadata": {},
   "outputs": [],
   "source": [
    "df_statuses = pd.DataFrame.from_dict({\n",
    "    'id': ['']\n",
    "})"
   ]
  },
  {
   "cell_type": "code",
   "execution_count": 29,
   "id": "b5665e5f",
   "metadata": {},
   "outputs": [
    {
     "ename": "GenericGBQException",
     "evalue": "Reason: 404 Not found: Table oddjob-db-2007:accelerator_oddjob.dw_amocrm_acl_events was not found in location US\n\nLocation: US\nJob ID: b8a792eb-a4d1-4c91-be0b-6106d65cbff5\n",
     "output_type": "error",
     "traceback": [
      "\u001b[0;31m---------------------------------------------------------------------------\u001b[0m",
      "\u001b[0;31mNotFound\u001b[0m                                  Traceback (most recent call last)",
      "File \u001b[0;32m/nix/store/76y4nhfrh0zpw2jbwg1m4j90fh93sdd2-python3-3.10.1-env/lib/python3.10/site-packages/pandas_gbq/gbq.py:517\u001b[0m, in \u001b[0;36mGbqConnector.run_query\u001b[0;34m(self, query, max_results, progress_bar_type, **kwargs)\u001b[0m\n\u001b[1;32m    516\u001b[0m \u001b[38;5;28;01mtry\u001b[39;00m:\n\u001b[0;32m--> 517\u001b[0m     \u001b[43mquery_reply\u001b[49m\u001b[38;5;241;43m.\u001b[39;49m\u001b[43mresult\u001b[49m\u001b[43m(\u001b[49m\u001b[43m)\u001b[49m\n\u001b[1;32m    518\u001b[0m \u001b[38;5;28;01mexcept\u001b[39;00m \u001b[38;5;28mself\u001b[39m\u001b[38;5;241m.\u001b[39mhttp_error \u001b[38;5;28;01mas\u001b[39;00m ex:\n",
      "File \u001b[0;32m/nix/store/76y4nhfrh0zpw2jbwg1m4j90fh93sdd2-python3-3.10.1-env/lib/python3.10/site-packages/google/cloud/bigquery/job/query.py:1499\u001b[0m, in \u001b[0;36mQueryJob.result\u001b[0;34m(self, page_size, max_results, retry, timeout, start_index, job_retry)\u001b[0m\n\u001b[1;32m   1497\u001b[0m         do_get_result \u001b[38;5;241m=\u001b[39m job_retry(do_get_result)\n\u001b[0;32m-> 1499\u001b[0m     \u001b[43mdo_get_result\u001b[49m\u001b[43m(\u001b[49m\u001b[43m)\u001b[49m\n\u001b[1;32m   1501\u001b[0m \u001b[38;5;28;01mexcept\u001b[39;00m exceptions\u001b[38;5;241m.\u001b[39mGoogleAPICallError \u001b[38;5;28;01mas\u001b[39;00m exc:\n",
      "File \u001b[0;32m/nix/store/76y4nhfrh0zpw2jbwg1m4j90fh93sdd2-python3-3.10.1-env/lib/python3.10/site-packages/google/api_core/retry.py:286\u001b[0m, in \u001b[0;36mRetry.__call__.<locals>.retry_wrapped_func\u001b[0;34m(*args, **kwargs)\u001b[0m\n\u001b[1;32m    283\u001b[0m sleep_generator \u001b[38;5;241m=\u001b[39m exponential_sleep_generator(\n\u001b[1;32m    284\u001b[0m     \u001b[38;5;28mself\u001b[39m\u001b[38;5;241m.\u001b[39m_initial, \u001b[38;5;28mself\u001b[39m\u001b[38;5;241m.\u001b[39m_maximum, multiplier\u001b[38;5;241m=\u001b[39m\u001b[38;5;28mself\u001b[39m\u001b[38;5;241m.\u001b[39m_multiplier\n\u001b[1;32m    285\u001b[0m )\n\u001b[0;32m--> 286\u001b[0m \u001b[38;5;28;01mreturn\u001b[39;00m \u001b[43mretry_target\u001b[49m\u001b[43m(\u001b[49m\n\u001b[1;32m    287\u001b[0m \u001b[43m    \u001b[49m\u001b[43mtarget\u001b[49m\u001b[43m,\u001b[49m\n\u001b[1;32m    288\u001b[0m \u001b[43m    \u001b[49m\u001b[38;5;28;43mself\u001b[39;49m\u001b[38;5;241;43m.\u001b[39;49m\u001b[43m_predicate\u001b[49m\u001b[43m,\u001b[49m\n\u001b[1;32m    289\u001b[0m \u001b[43m    \u001b[49m\u001b[43msleep_generator\u001b[49m\u001b[43m,\u001b[49m\n\u001b[1;32m    290\u001b[0m \u001b[43m    \u001b[49m\u001b[38;5;28;43mself\u001b[39;49m\u001b[38;5;241;43m.\u001b[39;49m\u001b[43m_deadline\u001b[49m\u001b[43m,\u001b[49m\n\u001b[1;32m    291\u001b[0m \u001b[43m    \u001b[49m\u001b[43mon_error\u001b[49m\u001b[38;5;241;43m=\u001b[39;49m\u001b[43mon_error\u001b[49m\u001b[43m,\u001b[49m\n\u001b[1;32m    292\u001b[0m \u001b[43m\u001b[49m\u001b[43m)\u001b[49m\n",
      "File \u001b[0;32m/nix/store/76y4nhfrh0zpw2jbwg1m4j90fh93sdd2-python3-3.10.1-env/lib/python3.10/site-packages/google/api_core/retry.py:189\u001b[0m, in \u001b[0;36mretry_target\u001b[0;34m(target, predicate, sleep_generator, deadline, on_error)\u001b[0m\n\u001b[1;32m    188\u001b[0m \u001b[38;5;28;01mtry\u001b[39;00m:\n\u001b[0;32m--> 189\u001b[0m     \u001b[38;5;28;01mreturn\u001b[39;00m \u001b[43mtarget\u001b[49m\u001b[43m(\u001b[49m\u001b[43m)\u001b[49m\n\u001b[1;32m    191\u001b[0m \u001b[38;5;66;03m# pylint: disable=broad-except\u001b[39;00m\n\u001b[1;32m    192\u001b[0m \u001b[38;5;66;03m# This function explicitly must deal with broad exceptions.\u001b[39;00m\n",
      "File \u001b[0;32m/nix/store/76y4nhfrh0zpw2jbwg1m4j90fh93sdd2-python3-3.10.1-env/lib/python3.10/site-packages/google/cloud/bigquery/job/query.py:1489\u001b[0m, in \u001b[0;36mQueryJob.result.<locals>.do_get_result\u001b[0;34m()\u001b[0m\n\u001b[1;32m   1487\u001b[0m     \u001b[38;5;28mself\u001b[39m\u001b[38;5;241m.\u001b[39m_job_retry \u001b[38;5;241m=\u001b[39m job_retry\n\u001b[0;32m-> 1489\u001b[0m \u001b[38;5;28;43msuper\u001b[39;49m\u001b[43m(\u001b[49m\u001b[43mQueryJob\u001b[49m\u001b[43m,\u001b[49m\u001b[43m \u001b[49m\u001b[38;5;28;43mself\u001b[39;49m\u001b[43m)\u001b[49m\u001b[38;5;241;43m.\u001b[39;49m\u001b[43mresult\u001b[49m\u001b[43m(\u001b[49m\u001b[43mretry\u001b[49m\u001b[38;5;241;43m=\u001b[39;49m\u001b[43mretry\u001b[49m\u001b[43m,\u001b[49m\u001b[43m \u001b[49m\u001b[43mtimeout\u001b[49m\u001b[38;5;241;43m=\u001b[39;49m\u001b[43mtimeout\u001b[49m\u001b[43m)\u001b[49m\n\u001b[1;32m   1491\u001b[0m \u001b[38;5;66;03m# Since the job could already be \"done\" (e.g. got a finished job\u001b[39;00m\n\u001b[1;32m   1492\u001b[0m \u001b[38;5;66;03m# via client.get_job), the superclass call to done() might not\u001b[39;00m\n\u001b[1;32m   1493\u001b[0m \u001b[38;5;66;03m# set the self._query_results cache.\u001b[39;00m\n",
      "File \u001b[0;32m/nix/store/76y4nhfrh0zpw2jbwg1m4j90fh93sdd2-python3-3.10.1-env/lib/python3.10/site-packages/google/cloud/bigquery/job/base.py:728\u001b[0m, in \u001b[0;36m_AsyncJob.result\u001b[0;34m(self, retry, timeout)\u001b[0m\n\u001b[1;32m    727\u001b[0m kwargs \u001b[38;5;241m=\u001b[39m {} \u001b[38;5;28;01mif\u001b[39;00m retry \u001b[38;5;129;01mis\u001b[39;00m DEFAULT_RETRY \u001b[38;5;28;01melse\u001b[39;00m {\u001b[38;5;124m\"\u001b[39m\u001b[38;5;124mretry\u001b[39m\u001b[38;5;124m\"\u001b[39m: retry}\n\u001b[0;32m--> 728\u001b[0m \u001b[38;5;28;01mreturn\u001b[39;00m \u001b[38;5;28;43msuper\u001b[39;49m\u001b[43m(\u001b[49m\u001b[43m_AsyncJob\u001b[49m\u001b[43m,\u001b[49m\u001b[43m \u001b[49m\u001b[38;5;28;43mself\u001b[39;49m\u001b[43m)\u001b[49m\u001b[38;5;241;43m.\u001b[39;49m\u001b[43mresult\u001b[49m\u001b[43m(\u001b[49m\u001b[43mtimeout\u001b[49m\u001b[38;5;241;43m=\u001b[39;49m\u001b[43mtimeout\u001b[49m\u001b[43m,\u001b[49m\u001b[43m \u001b[49m\u001b[38;5;241;43m*\u001b[39;49m\u001b[38;5;241;43m*\u001b[39;49m\u001b[43mkwargs\u001b[49m\u001b[43m)\u001b[49m\n",
      "File \u001b[0;32m/nix/store/76y4nhfrh0zpw2jbwg1m4j90fh93sdd2-python3-3.10.1-env/lib/python3.10/site-packages/google/api_core/future/polling.py:135\u001b[0m, in \u001b[0;36mPollingFuture.result\u001b[0;34m(self, timeout, retry)\u001b[0m\n\u001b[1;32m    132\u001b[0m \u001b[38;5;28;01mif\u001b[39;00m \u001b[38;5;28mself\u001b[39m\u001b[38;5;241m.\u001b[39m_exception \u001b[38;5;129;01mis\u001b[39;00m \u001b[38;5;129;01mnot\u001b[39;00m \u001b[38;5;28;01mNone\u001b[39;00m:\n\u001b[1;32m    133\u001b[0m     \u001b[38;5;66;03m# pylint: disable=raising-bad-type\u001b[39;00m\n\u001b[1;32m    134\u001b[0m     \u001b[38;5;66;03m# Pylint doesn't recognize that this is valid in this case.\u001b[39;00m\n\u001b[0;32m--> 135\u001b[0m     \u001b[38;5;28;01mraise\u001b[39;00m \u001b[38;5;28mself\u001b[39m\u001b[38;5;241m.\u001b[39m_exception\n\u001b[1;32m    137\u001b[0m \u001b[38;5;28;01mreturn\u001b[39;00m \u001b[38;5;28mself\u001b[39m\u001b[38;5;241m.\u001b[39m_result\n",
      "\u001b[0;31mNotFound\u001b[0m: 404 Not found: Table oddjob-db-2007:accelerator_oddjob.dw_amocrm_acl_events was not found in location US\n\nLocation: US\nJob ID: b8a792eb-a4d1-4c91-be0b-6106d65cbff5\n",
      "\nDuring handling of the above exception, another exception occurred:\n",
      "\u001b[0;31mGenericGBQException\u001b[0m                       Traceback (most recent call last)",
      "Input \u001b[0;32mIn [29]\u001b[0m, in \u001b[0;36m<cell line: 11>\u001b[0;34m()\u001b[0m\n\u001b[1;32m     10\u001b[0m statuses \u001b[38;5;241m=\u001b[39m []\n\u001b[1;32m     11\u001b[0m \u001b[38;5;28;01mfor\u001b[39;00m pipeline \u001b[38;5;129;01min\u001b[39;00m pipeline_ids:\n\u001b[0;32m---> 12\u001b[0m     df_temp_stat \u001b[38;5;241m=\u001b[39m \u001b[43mpd\u001b[49m\u001b[38;5;241;43m.\u001b[39;49m\u001b[43mread_gbq\u001b[49m\u001b[43m(\u001b[49m\n\u001b[1;32m     13\u001b[0m \u001b[43m        \u001b[49m\u001b[38;5;124;43mf\u001b[39;49m\u001b[38;5;124;43m\"\"\"\u001b[39;49m\n\u001b[1;32m     14\u001b[0m \u001b[38;5;124;43m        SELECT DISTINCT\u001b[39;49m\n\u001b[1;32m     15\u001b[0m \u001b[38;5;124;43m            id_status_before\u001b[39;49m\n\u001b[1;32m     16\u001b[0m \u001b[38;5;124;43m        FROM\u001b[39;49m\n\u001b[1;32m     17\u001b[0m \u001b[38;5;124;43m            `oddjob-db-2007.accelerator_oddjob.dw_amocrm_acl_events`\u001b[39;49m\n\u001b[1;32m     18\u001b[0m \u001b[38;5;124;43m        WHERE id_pipeline_before = \u001b[39;49m\u001b[38;5;132;43;01m{\u001b[39;49;00m\u001b[43mpipeline\u001b[49m\u001b[38;5;132;43;01m}\u001b[39;49;00m\n\u001b[1;32m     19\u001b[0m \u001b[38;5;124;43m        \u001b[39;49m\u001b[38;5;124;43m\"\"\"\u001b[39;49m\n\u001b[1;32m     20\u001b[0m \u001b[43m    \u001b[49m\u001b[43m)\u001b[49m\n\u001b[1;32m     21\u001b[0m     status_ids \u001b[38;5;241m=\u001b[39m df_temp_stat[\u001b[38;5;124m\"\u001b[39m\u001b[38;5;124mid_status_before\u001b[39m\u001b[38;5;124m\"\u001b[39m]\u001b[38;5;241m.\u001b[39mto_list()\n\u001b[1;32m     22\u001b[0m     \u001b[38;5;28;01mfor\u001b[39;00m status \u001b[38;5;129;01min\u001b[39;00m status_ids:\n",
      "File \u001b[0;32m/nix/store/76y4nhfrh0zpw2jbwg1m4j90fh93sdd2-python3-3.10.1-env/lib/python3.10/site-packages/pandas/io/gbq.py:183\u001b[0m, in \u001b[0;36mread_gbq\u001b[0;34m(query, project_id, index_col, col_order, reauth, auth_local_webserver, dialect, location, configuration, credentials, use_bqstorage_api, max_results, progress_bar_type)\u001b[0m\n\u001b[1;32m    180\u001b[0m kwargs[\u001b[38;5;124m\"\u001b[39m\u001b[38;5;124mprogress_bar_type\u001b[39m\u001b[38;5;124m\"\u001b[39m] \u001b[38;5;241m=\u001b[39m progress_bar_type\n\u001b[1;32m    181\u001b[0m \u001b[38;5;66;03m# END: new kwargs\u001b[39;00m\n\u001b[0;32m--> 183\u001b[0m \u001b[38;5;28;01mreturn\u001b[39;00m \u001b[43mpandas_gbq\u001b[49m\u001b[38;5;241;43m.\u001b[39;49m\u001b[43mread_gbq\u001b[49m\u001b[43m(\u001b[49m\n\u001b[1;32m    184\u001b[0m \u001b[43m    \u001b[49m\u001b[43mquery\u001b[49m\u001b[43m,\u001b[49m\n\u001b[1;32m    185\u001b[0m \u001b[43m    \u001b[49m\u001b[43mproject_id\u001b[49m\u001b[38;5;241;43m=\u001b[39;49m\u001b[43mproject_id\u001b[49m\u001b[43m,\u001b[49m\n\u001b[1;32m    186\u001b[0m \u001b[43m    \u001b[49m\u001b[43mindex_col\u001b[49m\u001b[38;5;241;43m=\u001b[39;49m\u001b[43mindex_col\u001b[49m\u001b[43m,\u001b[49m\n\u001b[1;32m    187\u001b[0m \u001b[43m    \u001b[49m\u001b[43mcol_order\u001b[49m\u001b[38;5;241;43m=\u001b[39;49m\u001b[43mcol_order\u001b[49m\u001b[43m,\u001b[49m\n\u001b[1;32m    188\u001b[0m \u001b[43m    \u001b[49m\u001b[43mreauth\u001b[49m\u001b[38;5;241;43m=\u001b[39;49m\u001b[43mreauth\u001b[49m\u001b[43m,\u001b[49m\n\u001b[1;32m    189\u001b[0m \u001b[43m    \u001b[49m\u001b[43mauth_local_webserver\u001b[49m\u001b[38;5;241;43m=\u001b[39;49m\u001b[43mauth_local_webserver\u001b[49m\u001b[43m,\u001b[49m\n\u001b[1;32m    190\u001b[0m \u001b[43m    \u001b[49m\u001b[43mdialect\u001b[49m\u001b[38;5;241;43m=\u001b[39;49m\u001b[43mdialect\u001b[49m\u001b[43m,\u001b[49m\n\u001b[1;32m    191\u001b[0m \u001b[43m    \u001b[49m\u001b[43mlocation\u001b[49m\u001b[38;5;241;43m=\u001b[39;49m\u001b[43mlocation\u001b[49m\u001b[43m,\u001b[49m\n\u001b[1;32m    192\u001b[0m \u001b[43m    \u001b[49m\u001b[43mconfiguration\u001b[49m\u001b[38;5;241;43m=\u001b[39;49m\u001b[43mconfiguration\u001b[49m\u001b[43m,\u001b[49m\n\u001b[1;32m    193\u001b[0m \u001b[43m    \u001b[49m\u001b[43mcredentials\u001b[49m\u001b[38;5;241;43m=\u001b[39;49m\u001b[43mcredentials\u001b[49m\u001b[43m,\u001b[49m\n\u001b[1;32m    194\u001b[0m \u001b[43m    \u001b[49m\u001b[38;5;241;43m*\u001b[39;49m\u001b[38;5;241;43m*\u001b[39;49m\u001b[43mkwargs\u001b[49m\u001b[43m,\u001b[49m\n\u001b[1;32m    195\u001b[0m \u001b[43m\u001b[49m\u001b[43m)\u001b[49m\n",
      "File \u001b[0;32m/nix/store/76y4nhfrh0zpw2jbwg1m4j90fh93sdd2-python3-3.10.1-env/lib/python3.10/site-packages/pandas_gbq/gbq.py:921\u001b[0m, in \u001b[0;36mread_gbq\u001b[0;34m(query_or_table, project_id, index_col, col_order, reauth, auth_local_webserver, dialect, location, configuration, credentials, use_bqstorage_api, max_results, verbose, private_key, progress_bar_type, dtypes)\u001b[0m\n\u001b[1;32m    909\u001b[0m connector \u001b[38;5;241m=\u001b[39m GbqConnector(\n\u001b[1;32m    910\u001b[0m     project_id,\n\u001b[1;32m    911\u001b[0m     reauth\u001b[38;5;241m=\u001b[39mreauth,\n\u001b[0;32m   (...)\u001b[0m\n\u001b[1;32m    917\u001b[0m     use_bqstorage_api\u001b[38;5;241m=\u001b[39muse_bqstorage_api,\n\u001b[1;32m    918\u001b[0m )\n\u001b[1;32m    920\u001b[0m \u001b[38;5;28;01mif\u001b[39;00m _is_query(query_or_table):\n\u001b[0;32m--> 921\u001b[0m     final_df \u001b[38;5;241m=\u001b[39m \u001b[43mconnector\u001b[49m\u001b[38;5;241;43m.\u001b[39;49m\u001b[43mrun_query\u001b[49m\u001b[43m(\u001b[49m\n\u001b[1;32m    922\u001b[0m \u001b[43m        \u001b[49m\u001b[43mquery_or_table\u001b[49m\u001b[43m,\u001b[49m\n\u001b[1;32m    923\u001b[0m \u001b[43m        \u001b[49m\u001b[43mconfiguration\u001b[49m\u001b[38;5;241;43m=\u001b[39;49m\u001b[43mconfiguration\u001b[49m\u001b[43m,\u001b[49m\n\u001b[1;32m    924\u001b[0m \u001b[43m        \u001b[49m\u001b[43mmax_results\u001b[49m\u001b[38;5;241;43m=\u001b[39;49m\u001b[43mmax_results\u001b[49m\u001b[43m,\u001b[49m\n\u001b[1;32m    925\u001b[0m \u001b[43m        \u001b[49m\u001b[43mprogress_bar_type\u001b[49m\u001b[38;5;241;43m=\u001b[39;49m\u001b[43mprogress_bar_type\u001b[49m\u001b[43m,\u001b[49m\n\u001b[1;32m    926\u001b[0m \u001b[43m        \u001b[49m\u001b[43mdtypes\u001b[49m\u001b[38;5;241;43m=\u001b[39;49m\u001b[43mdtypes\u001b[49m\u001b[43m,\u001b[49m\n\u001b[1;32m    927\u001b[0m \u001b[43m    \u001b[49m\u001b[43m)\u001b[49m\n\u001b[1;32m    928\u001b[0m \u001b[38;5;28;01melse\u001b[39;00m:\n\u001b[1;32m    929\u001b[0m     final_df \u001b[38;5;241m=\u001b[39m connector\u001b[38;5;241m.\u001b[39mdownload_table(\n\u001b[1;32m    930\u001b[0m         query_or_table,\n\u001b[1;32m    931\u001b[0m         max_results\u001b[38;5;241m=\u001b[39mmax_results,\n\u001b[1;32m    932\u001b[0m         progress_bar_type\u001b[38;5;241m=\u001b[39mprogress_bar_type,\n\u001b[1;32m    933\u001b[0m         dtypes\u001b[38;5;241m=\u001b[39mdtypes,\n\u001b[1;32m    934\u001b[0m     )\n",
      "File \u001b[0;32m/nix/store/76y4nhfrh0zpw2jbwg1m4j90fh93sdd2-python3-3.10.1-env/lib/python3.10/site-packages/pandas_gbq/gbq.py:519\u001b[0m, in \u001b[0;36mGbqConnector.run_query\u001b[0;34m(self, query, max_results, progress_bar_type, **kwargs)\u001b[0m\n\u001b[1;32m    517\u001b[0m     query_reply\u001b[38;5;241m.\u001b[39mresult()\n\u001b[1;32m    518\u001b[0m \u001b[38;5;28;01mexcept\u001b[39;00m \u001b[38;5;28mself\u001b[39m\u001b[38;5;241m.\u001b[39mhttp_error \u001b[38;5;28;01mas\u001b[39;00m ex:\n\u001b[0;32m--> 519\u001b[0m     \u001b[38;5;28;43mself\u001b[39;49m\u001b[38;5;241;43m.\u001b[39;49m\u001b[43mprocess_http_error\u001b[49m\u001b[43m(\u001b[49m\u001b[43mex\u001b[49m\u001b[43m)\u001b[49m\n\u001b[1;32m    521\u001b[0m \u001b[38;5;66;03m# Avoid attempting to download results from DML queries, which have no\u001b[39;00m\n\u001b[1;32m    522\u001b[0m \u001b[38;5;66;03m# destination.\u001b[39;00m\n\u001b[1;32m    523\u001b[0m \u001b[38;5;28;01mif\u001b[39;00m query_reply\u001b[38;5;241m.\u001b[39mdestination \u001b[38;5;129;01mis\u001b[39;00m \u001b[38;5;28;01mNone\u001b[39;00m:\n",
      "File \u001b[0;32m/nix/store/76y4nhfrh0zpw2jbwg1m4j90fh93sdd2-python3-3.10.1-env/lib/python3.10/site-packages/pandas_gbq/gbq.py:386\u001b[0m, in \u001b[0;36mGbqConnector.process_http_error\u001b[0;34m(ex)\u001b[0m\n\u001b[1;32m    383\u001b[0m \u001b[38;5;28;01mif\u001b[39;00m \u001b[38;5;124m\"\u001b[39m\u001b[38;5;124mcancelled\u001b[39m\u001b[38;5;124m\"\u001b[39m \u001b[38;5;129;01min\u001b[39;00m ex\u001b[38;5;241m.\u001b[39mmessage:\n\u001b[1;32m    384\u001b[0m     \u001b[38;5;28;01mraise\u001b[39;00m QueryTimeout(\u001b[38;5;124m\"\u001b[39m\u001b[38;5;124mReason: \u001b[39m\u001b[38;5;132;01m{0}\u001b[39;00m\u001b[38;5;124m\"\u001b[39m\u001b[38;5;241m.\u001b[39mformat(ex))\n\u001b[0;32m--> 386\u001b[0m \u001b[38;5;28;01mraise\u001b[39;00m GenericGBQException(\u001b[38;5;124m\"\u001b[39m\u001b[38;5;124mReason: \u001b[39m\u001b[38;5;132;01m{0}\u001b[39;00m\u001b[38;5;124m\"\u001b[39m\u001b[38;5;241m.\u001b[39mformat(ex))\n",
      "\u001b[0;31mGenericGBQException\u001b[0m: Reason: 404 Not found: Table oddjob-db-2007:accelerator_oddjob.dw_amocrm_acl_events was not found in location US\n\nLocation: US\nJob ID: b8a792eb-a4d1-4c91-be0b-6106d65cbff5\n"
     ]
    }
   ],
   "source": [
    "df_temp_pipe = pd.read_gbq(\n",
    "    \"\"\"\n",
    "    SELECT DISTINCT\n",
    "        id\n",
    "    FROM\n",
    "        `oddjob-db-2007.franchise_oddjob.dw_amocrm_fr_pipelines`\n",
    "    \"\"\"\n",
    ")\n",
    "pipeline_ids = df_temp_pipe['id'].to_list()\n",
    "statuses = []\n",
    "for pipeline in pipeline_ids:\n",
    "    df_temp_stat = pd.read_gbq(\n",
    "        f\"\"\"\n",
    "        SELECT DISTINCT\n",
    "            id_status_before\n",
    "        FROM\n",
    "            `oddjob-db-2007.accelerator_oddjob.dw_amocrm_acl_events`\n",
    "        WHERE id_pipeline_before = {pipeline}\n",
    "        \"\"\"\n",
    "    )\n",
    "    status_ids = df_temp_stat[\"id_status_before\"].to_list()\n",
    "    for status in status_ids:\n",
    "        try:\n",
    "            statuses.append(\n",
    "                Status.get_for(f\"{pipeline}\").get(f\"{status}\").__dict__[\"_data\"]\n",
    "            )\n",
    "        except AmoApiException:\n",
    "            pass"
   ]
  },
  {
   "cell_type": "markdown",
   "id": "84f454b3",
   "metadata": {},
   "source": [
    "# partner"
   ]
  },
  {
   "cell_type": "markdown",
   "id": "e558eb89",
   "metadata": {},
   "source": [
    "## LOGON"
   ]
  },
  {
   "cell_type": "code",
   "execution_count": 30,
   "id": "1fc1e9e0",
   "metadata": {},
   "outputs": [],
   "source": [
    "from amocrm.v2 import tokens\n",
    "from amocrm.v2.exceptions import UnAuthorizedException, AmoApiException"
   ]
  },
  {
   "cell_type": "code",
   "execution_count": 31,
   "id": "41dcb4af",
   "metadata": {},
   "outputs": [],
   "source": [
    "from partner_config import keys\n",
    "tokens.default_token_manager(\n",
    "    storage=tokens.FileTokensStorage(directory_path=\"./test_dir/partner\"),  # by default FileTokensStorage\n",
    ")"
   ]
  },
  {
   "cell_type": "code",
   "execution_count": 32,
   "id": "de02efb4",
   "metadata": {},
   "outputs": [],
   "source": [
    "tokens.default_token_manager.init(\n",
    "    code='def50200ebee8796d00c61a949a005f81f721a56327f1f5d89e9353b0b31b0834a0fd6436e23d6f2b00391feea89f1de4dfef512ad6251b973cdf68590d0079bd25662bc4944551423b1ba377840051d0fabe6a5c0296c6d859a3cde49b56d069db57d0d1abe1805b39e9f930afea114d0d6ff33da0b2947b1c1892aec3bdcde15606332440965f4637fe95b55d1f9629bfb07991b9c4e8a26ac8307df8bdd6f073bb58f80a0b2e773c6c1b29ec93b352274aae31ad35a5f7dfb5571f0c67610843a8e4e1f3c5cfce1e6b114870ca78bf492948d099e0db94540a71bea10767c003058eedcaaf4abf5a57c9ac2878d5e444b2933d974f6d97e9a252d73424ff05b043c492b50ccf9712baf4ae5e345a305b64ae172e01ed88b6e526c53adc06375a4145f701d178b27ed038a3e8b880af584872f262f33e28d40810d4991a7cb5aa76a09e5ce825ed4cb247666292fb16b7207e644158afc8815116a6a652d6cc38e6d4b5e2343c25fbcd0acef323c01e06e876db8f887cf268a87775bae6fa7292c44cf51eaa112a58912e39b85c019d1fcaa1fc1bb6d15e0061fbfd3eb6ede364d3fa55f10b7b3a1d487dd422fbbc92737bd0079b89decef020423862016c6874b27274556f4773a16195cc88877f0ec5c9c1b01dc79fcddc062a17ccb7f94ed',\n",
    "    skip_error=False\n",
    ")"
   ]
  },
  {
   "cell_type": "markdown",
   "id": "de0b2a6f",
   "metadata": {},
   "source": [
    "## Pipelines"
   ]
  },
  {
   "cell_type": "code",
   "execution_count": 33,
   "id": "c737b28f",
   "metadata": {},
   "outputs": [],
   "source": [
    "from amocrm.v2 import Pipeline, Status"
   ]
  },
  {
   "cell_type": "code",
   "execution_count": 34,
   "id": "e526c132",
   "metadata": {},
   "outputs": [],
   "source": [
    "pipelines = list(Pipeline.objects.all())"
   ]
  },
  {
   "cell_type": "code",
   "execution_count": 35,
   "id": "2563353b",
   "metadata": {},
   "outputs": [],
   "source": [
    "pipelines_dicts = []\n",
    "for pipeline in pipelines:\n",
    "    pipelines_dicts.append(pipeline.__dict__['_data'])"
   ]
  },
  {
   "cell_type": "code",
   "execution_count": 36,
   "id": "c84676e1",
   "metadata": {},
   "outputs": [],
   "source": [
    "import pandas as pd"
   ]
  },
  {
   "cell_type": "code",
   "execution_count": 37,
   "id": "cff9025f",
   "metadata": {},
   "outputs": [],
   "source": [
    "df_pipelines = pd.DataFrame(pipelines_dicts)"
   ]
  },
  {
   "cell_type": "code",
   "execution_count": 38,
   "id": "2be3bac1",
   "metadata": {},
   "outputs": [],
   "source": [
    "import os\n",
    "os.environ[\"GOOGLE_APPLICATION_CREDENTIALS\"]=\"./oddjob-db-2007-759fe782b144.json\""
   ]
  },
  {
   "cell_type": "code",
   "execution_count": 39,
   "id": "4ae4e3a4",
   "metadata": {},
   "outputs": [],
   "source": [
    "df_pipelines = pd.DataFrame(pipelines_dicts)\n",
    "\n",
    "df_pipelines.drop([\"_links\", \"_embedded\"], axis=1, inplace=True)"
   ]
  },
  {
   "cell_type": "code",
   "execution_count": 40,
   "id": "93ae5e42",
   "metadata": {},
   "outputs": [],
   "source": [
    "from google.cloud import bigquery\n",
    "client = bigquery.Client()"
   ]
  },
  {
   "cell_type": "code",
   "execution_count": 41,
   "id": "099984e8",
   "metadata": {},
   "outputs": [],
   "source": [
    "df_pipelines.to_gbq(\n",
    "    \"partner.dw_amocrm_ptr_pipelines\",\n",
    "    if_exists=\"replace\"\n",
    ")"
   ]
  },
  {
   "cell_type": "markdown",
   "id": "8d5a41db",
   "metadata": {},
   "source": [
    "## Users"
   ]
  },
  {
   "cell_type": "code",
   "execution_count": 43,
   "id": "60451cc7",
   "metadata": {},
   "outputs": [],
   "source": [
    "from amocrm.v2 import User"
   ]
  },
  {
   "cell_type": "code",
   "execution_count": 44,
   "id": "9ff7ad5d",
   "metadata": {},
   "outputs": [],
   "source": [
    "users = list(User.objects.all())"
   ]
  },
  {
   "cell_type": "code",
   "execution_count": 45,
   "id": "f1581f60",
   "metadata": {},
   "outputs": [],
   "source": [
    "users_dicts = []\n",
    "for user in users:\n",
    "    users_dicts.append(user.__dict__['_data'])"
   ]
  },
  {
   "cell_type": "code",
   "execution_count": 46,
   "id": "2df0c6c0",
   "metadata": {},
   "outputs": [],
   "source": [
    "for user in users_dicts:\n",
    "    user['is_admin'] = users_dicts[0]['rights']['is_admin']\n",
    "    user['is_active'] = users_dicts[0]['rights']['is_active']\n",
    "    user['group_id'] = users_dicts[0]['rights']['group_id']\n",
    "    user['role_id'] = users_dicts[0]['rights']['role_id']"
   ]
  },
  {
   "cell_type": "code",
   "execution_count": 47,
   "id": "2098ef6a",
   "metadata": {},
   "outputs": [],
   "source": [
    "df_users = pd.DataFrame(users_dicts)\n",
    "df_users.drop([\"rights\", \"_links\"], axis=1, inplace=True)"
   ]
  },
  {
   "cell_type": "code",
   "execution_count": 48,
   "id": "bc5793a2",
   "metadata": {},
   "outputs": [],
   "source": [
    "df_users.to_gbq(\n",
    "    \"partner_oddjob.dw_amocrm_ptr_users\", if_exists=\"replace\"\n",
    ")"
   ]
  }
 ],
 "metadata": {
  "kernelspec": {
   "display_name": "Python 3 (ipykernel)",
   "language": "python",
   "name": "python3"
  },
  "language_info": {
   "codemirror_mode": {
    "name": "ipython",
    "version": 3
   },
   "file_extension": ".py",
   "mimetype": "text/x-python",
   "name": "python",
   "nbconvert_exporter": "python",
   "pygments_lexer": "ipython3",
   "version": "3.10.1"
  }
 },
 "nbformat": 4,
 "nbformat_minor": 5
}
